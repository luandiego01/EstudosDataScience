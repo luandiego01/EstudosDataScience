{
 "cells": [
  {
   "cell_type": "markdown",
   "metadata": {},
   "source": [
    "<br><br>\n",
    "\n",
    "# Exercício: Sistemas de Recomendação\n",
    "\n",
    "<br>\n",
    "\n",
    "__Introdução: o objetivo deste exercício é discutirmos uma metodologia de avaliação de filtros colaborativos.__\n",
    "\n",
    "<br>\n",
    "\n",
    "Para isso, utilize a função getData() para carregar os dados: \n",
    "\n",
    "    - teremos avaliações que 367 usuários fizeram a respeito de 80 filmes. As notas variam entre 1, 2, 3, 4, e 5. \n",
    "    \n",
    "    - os valores NaN representam filmes que ainda não foram avaliados pelos usuários.\n",
    "\n",
    "Como __modelo__ para as recomendações, usaremos a __fatoração matricial.__ Use a classe MatrixFactorization() construída ao longo do módulo."
   ]
  },
  {
   "cell_type": "code",
   "execution_count": 1,
   "metadata": {},
   "outputs": [],
   "source": [
    "import pandas as pd\n",
    "import numpy as np\n",
    "import matplotlib.pyplot as plt"
   ]
  },
  {
   "cell_type": "code",
   "execution_count": 2,
   "metadata": {},
   "outputs": [],
   "source": [
    "def getData():\n",
    "    r_cols = ['user_id', 'movie_id', 'rating', 'unix_timestamp']\n",
    "    ratings = pd.read_csv('u.data', sep='\\t', names=r_cols,\n",
    "                          encoding='latin-1')\n",
    "    m_cols = ['movie_id', 'title', 'release_date', 'video_release_date', 'imdb_url']\n",
    "    movies = pd.read_csv('u.item', sep='|', names=m_cols, usecols=range(5),\n",
    "                         encoding='latin-1')\n",
    "    movie_ratings = pd.merge(movies, ratings)\n",
    "    temp = movie_ratings[['movie_id', 'user_id', 'rating']].copy()\n",
    "    temp = temp.pivot_table(columns='movie_id', index='user_id', values='rating').copy()\n",
    "    temp.index = ['User_'+str(int(i)) for i in temp.index]\n",
    "    temp.columns = ['Filme_'+str(int(i)) for i in temp.columns]\n",
    "    qtd_cols = 80\n",
    "    R = temp.iloc[:, :qtd_cols]\n",
    "    l=[]\n",
    "    for i in range(1, R.shape[0]+1):\n",
    "        if R.iloc[i-1, ].isnull().sum() >= (qtd_cols - 10):\n",
    "            l.append(i)\n",
    "    R = R.drop([\"User_\"+str(r) for r in l])\n",
    "    R.index = ['User_'+str(int(i)) for i in range(R.shape[0])]\n",
    "    return R"
   ]
  },
  {
   "cell_type": "code",
   "execution_count": 3,
   "metadata": {},
   "outputs": [],
   "source": [
    "import time\n",
    "\n",
    "class MatrixFactorization():\n",
    "    \n",
    "    def __init__(self, dataframe, K, steps, alpha, beta):\n",
    "        self.df = dataframe\n",
    "        self.K = K\n",
    "        self.steps = steps\n",
    "        self.alpha = alpha\n",
    "        self.beta = beta\n",
    "        \n",
    "    def fit(self):\n",
    "        t0 = time.time()\n",
    "        \n",
    "        R = self.df.values\n",
    "        N, M = R.shape\n",
    "        \n",
    "        #inicio aleatorio\n",
    "        P = np.random.rand(N,self.K)\n",
    "        Q = np.random.rand(self.K,M)\n",
    "        \n",
    "        lista_erro_step = []\n",
    "        \n",
    "        #loop\n",
    "        for step in range(self.steps):\n",
    "            \n",
    "            mse_total_step = 0\n",
    "            #varrendo todas as entradas da matriz R\n",
    "            for i in range(len(R)):\n",
    "                for j in range(len(R[i])):\n",
    "                    #validando se o valor associado está preenchido\n",
    "                    if R[i][j] > 0:\n",
    "\n",
    "                        #calculando o erro:\n",
    "                        eij = R[i][j] - np.dot(P[i,:],Q[:,j])\n",
    "                        mse_total_step += (eij)**2\n",
    "                        #alterando os valores\n",
    "                        for k in range(self.K):\n",
    "                            P[i][k] = P[i][k] + self.alpha * ( 2 * eij * Q[k][j] - self.beta * P[i][k])\n",
    "                            Q[k][j] = Q[k][j] + self.alpha * ( 2 * eij * P[i][k] - self.beta * Q[k][j])\n",
    "                            \n",
    "            lista_erro_step.append(mse_total_step)\n",
    "            \n",
    "        self.P = P\n",
    "        self.Q = Q\n",
    "        self.lista_erro_step = lista_erro_step\n",
    "        t1 = time.time()\n",
    "        print(\"Fatoração concluída. Tempo aproximado:\", int((t1-t0)/60)+1, 'minuto(s).')\n",
    "        \n",
    "    def predict(self):\n",
    "        return self.P.dot(self.Q)\n",
    "    \n",
    "    def print_MSE_steps(self):\n",
    "        plt.figure(figsize=[15,6])\n",
    "        plt.title(\"Custo total por Step\", fontsize = 16, fontweight = 'bold')\n",
    "        plt.xlabel(\"Step\", fontsize = 14, fontweight = 'bold')\n",
    "        plt.ylabel(\"Erro\", fontsize = 14, fontweight = 'bold')\n",
    "        plt.plot(range(1, 1+self.steps), self.lista_erro_step, c = 'blue', lw = 2)\n",
    "        plt.grid()\n",
    "        plt.show()"
   ]
  },
  {
   "cell_type": "markdown",
   "metadata": {},
   "source": [
    "<br><br>\n",
    "\n",
    "Tradicionalmente, para avaliarmos a performance de algoritmos de machine learning, fazemos a divisão dos dados em treino/teste; os dados de teste são utilizados no modelo final, apenas para validar que o mesmo não está sofrendo overfitting e está generalizando bem.\n",
    "\n",
    "No contexto dos filtros colaborativos, tal divisão dos dados não fará sentido: os métodos discutidos (de filtragem colaborativa) usam as informações de interação dos usuários com itens para \"preencher os valores faltantes\" da matriz de interação. Esse preenchimento é justamente a recomendação!\n",
    "\n",
    "<br>\n",
    "\n",
    "No entanto, podemos aplicar uma __metodologia que \"simula\" dados de treino/teste.__ \n",
    "\n",
    "Essencialmente, essa metodologia consiste de criar uma base de treino em que retiramos algumas interações dos usuários. Dessa forma, os modelos irão aprender os padrões dos dados sem terem acesso a toda informação.\n",
    "\n",
    "Nos dados de teste, usaremos essas interações retiradas em treino para avaliar os resultados.\n",
    "\n",
    "<br>\n",
    "\n",
    "__Considere o exemplo:__\n",
    "\n",
    "Vamos carregar, novamente, o dataset que usamos ao longo do módulo:"
   ]
  },
  {
   "cell_type": "code",
   "execution_count": 4,
   "metadata": {},
   "outputs": [],
   "source": [
    "def getDF():\n",
    "    dic__ = {\"User_1\":[np.nan, np.nan, np.nan, 1, 7, 2, 3, 8],\n",
    "         \"User_2\":[9,10,2,2,6,5,3,8],\n",
    "         \"User_3\":[4, 7, 9, 6,6,10,10,2],\n",
    "         \"User_4\":[np.nan, 7, 9, 5, 5, 10, 9, 1],\n",
    "         \"User_5\":[7.0,6.0,3.0,8.0,3,4.0,3.0, 2],\n",
    "         \"User_6\":[np.nan, np.nan, 9, 9,6,8,9,np.nan],\n",
    "         \"User_7\":[3,5,4,4,3,3,9,np.nan],\n",
    "         \"User_8\":[10,10,10,10,2,2,2,2],\n",
    "         \"User_9\":[9,9,np.nan,8,3,3,1,np.nan],\n",
    "         \"User_10\":[9,8,10,9,3,4,2,1],\n",
    "         \"User_11\":[4,4,3,3,9,9,8,10],\n",
    "         \"User_12\":[2,2,4,1,8,10,10,9],\n",
    "         \"User_13\":[1,4,1,3,7,10,7,8],\n",
    "         \"User_14\":[3,3,2,1,1,10, np.nan,10],\n",
    "         \"User_15\":[9,9,8,10,4,2,np.nan,1]\n",
    "        }\n",
    "    df = pd.DataFrame(dic__).T\n",
    "    df.columns = ['Filme_'+str(int(i+1)) for i in range(8)]\n",
    "    return df"
   ]
  },
  {
   "cell_type": "code",
   "execution_count": 5,
   "metadata": {},
   "outputs": [
    {
     "data": {
      "text/html": [
       "<div>\n",
       "<style scoped>\n",
       "    .dataframe tbody tr th:only-of-type {\n",
       "        vertical-align: middle;\n",
       "    }\n",
       "\n",
       "    .dataframe tbody tr th {\n",
       "        vertical-align: top;\n",
       "    }\n",
       "\n",
       "    .dataframe thead th {\n",
       "        text-align: right;\n",
       "    }\n",
       "</style>\n",
       "<table border=\"1\" class=\"dataframe\">\n",
       "  <thead>\n",
       "    <tr style=\"text-align: right;\">\n",
       "      <th></th>\n",
       "      <th>Filme_1</th>\n",
       "      <th>Filme_2</th>\n",
       "      <th>Filme_3</th>\n",
       "      <th>Filme_4</th>\n",
       "      <th>Filme_5</th>\n",
       "      <th>Filme_6</th>\n",
       "      <th>Filme_7</th>\n",
       "      <th>Filme_8</th>\n",
       "    </tr>\n",
       "  </thead>\n",
       "  <tbody>\n",
       "    <tr>\n",
       "      <th>User_1</th>\n",
       "      <td>NaN</td>\n",
       "      <td>NaN</td>\n",
       "      <td>NaN</td>\n",
       "      <td>1.0</td>\n",
       "      <td>7.0</td>\n",
       "      <td>2.0</td>\n",
       "      <td>3.0</td>\n",
       "      <td>8.0</td>\n",
       "    </tr>\n",
       "    <tr>\n",
       "      <th>User_2</th>\n",
       "      <td>9.0</td>\n",
       "      <td>10.0</td>\n",
       "      <td>2.0</td>\n",
       "      <td>2.0</td>\n",
       "      <td>6.0</td>\n",
       "      <td>5.0</td>\n",
       "      <td>3.0</td>\n",
       "      <td>8.0</td>\n",
       "    </tr>\n",
       "    <tr>\n",
       "      <th>User_3</th>\n",
       "      <td>4.0</td>\n",
       "      <td>7.0</td>\n",
       "      <td>9.0</td>\n",
       "      <td>6.0</td>\n",
       "      <td>6.0</td>\n",
       "      <td>10.0</td>\n",
       "      <td>10.0</td>\n",
       "      <td>2.0</td>\n",
       "    </tr>\n",
       "    <tr>\n",
       "      <th>User_4</th>\n",
       "      <td>NaN</td>\n",
       "      <td>7.0</td>\n",
       "      <td>9.0</td>\n",
       "      <td>5.0</td>\n",
       "      <td>5.0</td>\n",
       "      <td>10.0</td>\n",
       "      <td>9.0</td>\n",
       "      <td>1.0</td>\n",
       "    </tr>\n",
       "    <tr>\n",
       "      <th>User_5</th>\n",
       "      <td>7.0</td>\n",
       "      <td>6.0</td>\n",
       "      <td>3.0</td>\n",
       "      <td>8.0</td>\n",
       "      <td>3.0</td>\n",
       "      <td>4.0</td>\n",
       "      <td>3.0</td>\n",
       "      <td>2.0</td>\n",
       "    </tr>\n",
       "    <tr>\n",
       "      <th>User_6</th>\n",
       "      <td>NaN</td>\n",
       "      <td>NaN</td>\n",
       "      <td>9.0</td>\n",
       "      <td>9.0</td>\n",
       "      <td>6.0</td>\n",
       "      <td>8.0</td>\n",
       "      <td>9.0</td>\n",
       "      <td>NaN</td>\n",
       "    </tr>\n",
       "    <tr>\n",
       "      <th>User_7</th>\n",
       "      <td>3.0</td>\n",
       "      <td>5.0</td>\n",
       "      <td>4.0</td>\n",
       "      <td>4.0</td>\n",
       "      <td>3.0</td>\n",
       "      <td>3.0</td>\n",
       "      <td>9.0</td>\n",
       "      <td>NaN</td>\n",
       "    </tr>\n",
       "    <tr>\n",
       "      <th>User_8</th>\n",
       "      <td>10.0</td>\n",
       "      <td>10.0</td>\n",
       "      <td>10.0</td>\n",
       "      <td>10.0</td>\n",
       "      <td>2.0</td>\n",
       "      <td>2.0</td>\n",
       "      <td>2.0</td>\n",
       "      <td>2.0</td>\n",
       "    </tr>\n",
       "    <tr>\n",
       "      <th>User_9</th>\n",
       "      <td>9.0</td>\n",
       "      <td>9.0</td>\n",
       "      <td>NaN</td>\n",
       "      <td>8.0</td>\n",
       "      <td>3.0</td>\n",
       "      <td>3.0</td>\n",
       "      <td>1.0</td>\n",
       "      <td>NaN</td>\n",
       "    </tr>\n",
       "    <tr>\n",
       "      <th>User_10</th>\n",
       "      <td>9.0</td>\n",
       "      <td>8.0</td>\n",
       "      <td>10.0</td>\n",
       "      <td>9.0</td>\n",
       "      <td>3.0</td>\n",
       "      <td>4.0</td>\n",
       "      <td>2.0</td>\n",
       "      <td>1.0</td>\n",
       "    </tr>\n",
       "    <tr>\n",
       "      <th>User_11</th>\n",
       "      <td>4.0</td>\n",
       "      <td>4.0</td>\n",
       "      <td>3.0</td>\n",
       "      <td>3.0</td>\n",
       "      <td>9.0</td>\n",
       "      <td>9.0</td>\n",
       "      <td>8.0</td>\n",
       "      <td>10.0</td>\n",
       "    </tr>\n",
       "    <tr>\n",
       "      <th>User_12</th>\n",
       "      <td>2.0</td>\n",
       "      <td>2.0</td>\n",
       "      <td>4.0</td>\n",
       "      <td>1.0</td>\n",
       "      <td>8.0</td>\n",
       "      <td>10.0</td>\n",
       "      <td>10.0</td>\n",
       "      <td>9.0</td>\n",
       "    </tr>\n",
       "    <tr>\n",
       "      <th>User_13</th>\n",
       "      <td>1.0</td>\n",
       "      <td>4.0</td>\n",
       "      <td>1.0</td>\n",
       "      <td>3.0</td>\n",
       "      <td>7.0</td>\n",
       "      <td>10.0</td>\n",
       "      <td>7.0</td>\n",
       "      <td>8.0</td>\n",
       "    </tr>\n",
       "    <tr>\n",
       "      <th>User_14</th>\n",
       "      <td>3.0</td>\n",
       "      <td>3.0</td>\n",
       "      <td>2.0</td>\n",
       "      <td>1.0</td>\n",
       "      <td>1.0</td>\n",
       "      <td>10.0</td>\n",
       "      <td>NaN</td>\n",
       "      <td>10.0</td>\n",
       "    </tr>\n",
       "    <tr>\n",
       "      <th>User_15</th>\n",
       "      <td>9.0</td>\n",
       "      <td>9.0</td>\n",
       "      <td>8.0</td>\n",
       "      <td>10.0</td>\n",
       "      <td>4.0</td>\n",
       "      <td>2.0</td>\n",
       "      <td>NaN</td>\n",
       "      <td>1.0</td>\n",
       "    </tr>\n",
       "  </tbody>\n",
       "</table>\n",
       "</div>"
      ],
      "text/plain": [
       "         Filme_1  Filme_2  Filme_3  Filme_4  Filme_5  Filme_6  Filme_7  \\\n",
       "User_1       NaN      NaN      NaN      1.0      7.0      2.0      3.0   \n",
       "User_2       9.0     10.0      2.0      2.0      6.0      5.0      3.0   \n",
       "User_3       4.0      7.0      9.0      6.0      6.0     10.0     10.0   \n",
       "User_4       NaN      7.0      9.0      5.0      5.0     10.0      9.0   \n",
       "User_5       7.0      6.0      3.0      8.0      3.0      4.0      3.0   \n",
       "User_6       NaN      NaN      9.0      9.0      6.0      8.0      9.0   \n",
       "User_7       3.0      5.0      4.0      4.0      3.0      3.0      9.0   \n",
       "User_8      10.0     10.0     10.0     10.0      2.0      2.0      2.0   \n",
       "User_9       9.0      9.0      NaN      8.0      3.0      3.0      1.0   \n",
       "User_10      9.0      8.0     10.0      9.0      3.0      4.0      2.0   \n",
       "User_11      4.0      4.0      3.0      3.0      9.0      9.0      8.0   \n",
       "User_12      2.0      2.0      4.0      1.0      8.0     10.0     10.0   \n",
       "User_13      1.0      4.0      1.0      3.0      7.0     10.0      7.0   \n",
       "User_14      3.0      3.0      2.0      1.0      1.0     10.0      NaN   \n",
       "User_15      9.0      9.0      8.0     10.0      4.0      2.0      NaN   \n",
       "\n",
       "         Filme_8  \n",
       "User_1       8.0  \n",
       "User_2       8.0  \n",
       "User_3       2.0  \n",
       "User_4       1.0  \n",
       "User_5       2.0  \n",
       "User_6       NaN  \n",
       "User_7       NaN  \n",
       "User_8       2.0  \n",
       "User_9       NaN  \n",
       "User_10      1.0  \n",
       "User_11     10.0  \n",
       "User_12      9.0  \n",
       "User_13      8.0  \n",
       "User_14     10.0  \n",
       "User_15      1.0  "
      ]
     },
     "execution_count": 5,
     "metadata": {},
     "output_type": "execute_result"
    }
   ],
   "source": [
    "df = getDF()\n",
    "df"
   ]
  },
  {
   "cell_type": "markdown",
   "metadata": {},
   "source": [
    "<br>\n",
    "\n",
    "Abaixo, criamos o array \"ratings\", que consiste de nossa matriz de interação usuário/item. No entanto, fizemos um completamento com \"0\" nos dados faltantes. Dessa forma, o rating = 0 significa que o usuário não avaliou o filme em questão.\n",
    "\n",
    "<br>"
   ]
  },
  {
   "cell_type": "code",
   "execution_count": 6,
   "metadata": {},
   "outputs": [
    {
     "data": {
      "text/plain": [
       "array([[ 0.,  0.,  0.,  1.,  7.,  2.,  3.,  8.],\n",
       "       [ 9., 10.,  2.,  2.,  6.,  5.,  3.,  8.],\n",
       "       [ 4.,  7.,  9.,  6.,  6., 10., 10.,  2.],\n",
       "       [ 0.,  7.,  9.,  5.,  5., 10.,  9.,  1.],\n",
       "       [ 7.,  6.,  3.,  8.,  3.,  4.,  3.,  2.],\n",
       "       [ 0.,  0.,  9.,  9.,  6.,  8.,  9.,  0.],\n",
       "       [ 3.,  5.,  4.,  4.,  3.,  3.,  9.,  0.],\n",
       "       [10., 10., 10., 10.,  2.,  2.,  2.,  2.],\n",
       "       [ 9.,  9.,  0.,  8.,  3.,  3.,  1.,  0.],\n",
       "       [ 9.,  8., 10.,  9.,  3.,  4.,  2.,  1.],\n",
       "       [ 4.,  4.,  3.,  3.,  9.,  9.,  8., 10.],\n",
       "       [ 2.,  2.,  4.,  1.,  8., 10., 10.,  9.],\n",
       "       [ 1.,  4.,  1.,  3.,  7., 10.,  7.,  8.],\n",
       "       [ 3.,  3.,  2.,  1.,  1., 10.,  0., 10.],\n",
       "       [ 9.,  9.,  8., 10.,  4.,  2.,  0.,  1.]])"
      ]
     },
     "execution_count": 6,
     "metadata": {},
     "output_type": "execute_result"
    }
   ],
   "source": [
    "ratings = df.fillna(0).values\n",
    "ratings"
   ]
  },
  {
   "cell_type": "markdown",
   "metadata": {},
   "source": [
    "<br>\n",
    "\n",
    "Na sequência, apresentamos a função que faz a divisão dos dados em treino e teste.\n",
    "\n",
    "<br>"
   ]
  },
  {
   "cell_type": "code",
   "execution_count": 7,
   "metadata": {},
   "outputs": [],
   "source": [
    "def train_test_split(ratings, qtd):\n",
    "    test = np.zeros(ratings.shape)\n",
    "    train = ratings.copy()\n",
    "    for user in range(ratings.shape[0]):\n",
    "        test_ratings = np.random.choice(ratings[user, :].nonzero()[0], \n",
    "                                        size=qtd, \n",
    "                                        replace=False)\n",
    "        train[user, test_ratings] = 0.\n",
    "        test[user, test_ratings] = ratings[user, test_ratings]\n",
    "        \n",
    "    return train, test"
   ]
  },
  {
   "cell_type": "code",
   "execution_count": 8,
   "metadata": {},
   "outputs": [],
   "source": [
    "train, test = train_test_split(ratings, qtd = 2)"
   ]
  },
  {
   "cell_type": "markdown",
   "metadata": {},
   "source": [
    "<br>\n",
    "\n",
    "__Vamos comparar os dados de treino e teste com os dados originais:__\n",
    "    \n",
    "<br>"
   ]
  },
  {
   "cell_type": "code",
   "execution_count": 9,
   "metadata": {},
   "outputs": [
    {
     "data": {
      "text/plain": [
       "array([[ 0.,  0.,  0.,  1.,  7.,  2.,  3.,  8.],\n",
       "       [ 9., 10.,  2.,  2.,  6.,  5.,  3.,  8.],\n",
       "       [ 4.,  7.,  9.,  6.,  6., 10., 10.,  2.],\n",
       "       [ 0.,  7.,  9.,  5.,  5., 10.,  9.,  1.],\n",
       "       [ 7.,  6.,  3.,  8.,  3.,  4.,  3.,  2.],\n",
       "       [ 0.,  0.,  9.,  9.,  6.,  8.,  9.,  0.],\n",
       "       [ 3.,  5.,  4.,  4.,  3.,  3.,  9.,  0.],\n",
       "       [10., 10., 10., 10.,  2.,  2.,  2.,  2.],\n",
       "       [ 9.,  9.,  0.,  8.,  3.,  3.,  1.,  0.],\n",
       "       [ 9.,  8., 10.,  9.,  3.,  4.,  2.,  1.],\n",
       "       [ 4.,  4.,  3.,  3.,  9.,  9.,  8., 10.],\n",
       "       [ 2.,  2.,  4.,  1.,  8., 10., 10.,  9.],\n",
       "       [ 1.,  4.,  1.,  3.,  7., 10.,  7.,  8.],\n",
       "       [ 3.,  3.,  2.,  1.,  1., 10.,  0., 10.],\n",
       "       [ 9.,  9.,  8., 10.,  4.,  2.,  0.,  1.]])"
      ]
     },
     "execution_count": 9,
     "metadata": {},
     "output_type": "execute_result"
    }
   ],
   "source": [
    "#matriz de interação - original;\n",
    "\n",
    "ratings"
   ]
  },
  {
   "cell_type": "code",
   "execution_count": 10,
   "metadata": {},
   "outputs": [
    {
     "data": {
      "text/plain": [
       "array([[ 0.,  0.,  0.,  1.,  7.,  0.,  0.,  8.],\n",
       "       [ 9., 10.,  2.,  2.,  6.,  0.,  3.,  0.],\n",
       "       [ 4.,  7.,  9.,  6.,  0., 10., 10.,  0.],\n",
       "       [ 0.,  7.,  0.,  5.,  0., 10.,  9.,  1.],\n",
       "       [ 7.,  6.,  0.,  8.,  0.,  4.,  3.,  2.],\n",
       "       [ 0.,  0.,  0.,  0.,  6.,  8.,  9.,  0.],\n",
       "       [ 0.,  5.,  4.,  4.,  3.,  3.,  0.,  0.],\n",
       "       [10., 10., 10.,  0.,  2.,  2.,  2.,  0.],\n",
       "       [ 0.,  9.,  0.,  8.,  3.,  3.,  0.,  0.],\n",
       "       [ 0.,  0., 10.,  9.,  3.,  4.,  2.,  1.],\n",
       "       [ 4.,  4.,  3.,  3.,  9.,  9.,  0.,  0.],\n",
       "       [ 0.,  2.,  4.,  1.,  8., 10., 10.,  0.],\n",
       "       [ 1.,  4.,  1.,  3.,  0., 10.,  7.,  0.],\n",
       "       [ 3.,  0.,  2.,  1.,  0., 10.,  0., 10.],\n",
       "       [ 9.,  9.,  0., 10.,  4.,  2.,  0.,  0.]])"
      ]
     },
     "execution_count": 10,
     "metadata": {},
     "output_type": "execute_result"
    }
   ],
   "source": [
    "#dados de treino;\n",
    "#observe que, para cada usuário (ou seja, para cada linha) 3 notas foram retiradas!! \n",
    "#ou seja, foram substituida por 0.\n",
    "\n",
    "train"
   ]
  },
  {
   "cell_type": "code",
   "execution_count": 11,
   "metadata": {},
   "outputs": [
    {
     "data": {
      "text/plain": [
       "array([[ 0.,  0.,  0.,  0.,  0.,  2.,  3.,  0.],\n",
       "       [ 0.,  0.,  0.,  0.,  0.,  5.,  0.,  8.],\n",
       "       [ 0.,  0.,  0.,  0.,  6.,  0.,  0.,  2.],\n",
       "       [ 0.,  0.,  9.,  0.,  5.,  0.,  0.,  0.],\n",
       "       [ 0.,  0.,  3.,  0.,  3.,  0.,  0.,  0.],\n",
       "       [ 0.,  0.,  9.,  9.,  0.,  0.,  0.,  0.],\n",
       "       [ 3.,  0.,  0.,  0.,  0.,  0.,  9.,  0.],\n",
       "       [ 0.,  0.,  0., 10.,  0.,  0.,  0.,  2.],\n",
       "       [ 9.,  0.,  0.,  0.,  0.,  0.,  1.,  0.],\n",
       "       [ 9.,  8.,  0.,  0.,  0.,  0.,  0.,  0.],\n",
       "       [ 0.,  0.,  0.,  0.,  0.,  0.,  8., 10.],\n",
       "       [ 2.,  0.,  0.,  0.,  0.,  0.,  0.,  9.],\n",
       "       [ 0.,  0.,  0.,  0.,  7.,  0.,  0.,  8.],\n",
       "       [ 0.,  3.,  0.,  0.,  1.,  0.,  0.,  0.],\n",
       "       [ 0.,  0.,  8.,  0.,  0.,  0.,  0.,  1.]])"
      ]
     },
     "execution_count": 11,
     "metadata": {},
     "output_type": "execute_result"
    }
   ],
   "source": [
    "#dados de teste;\n",
    "#observe que exatamente as notas que foram retiradas de treino são colocadas nessa matriz de teste!!\n",
    "\n",
    "test"
   ]
  },
  {
   "cell_type": "markdown",
   "metadata": {},
   "source": [
    "<br>\n",
    "\n",
    "Na prática, usaremos os dados de treino para treinar e escolher os modelos.\n",
    "\n",
    "Neste caso, podemos, inclusive, fazer a divisão em treino/validação/teste:\n",
    "    \n"
   ]
  },
  {
   "cell_type": "code",
   "execution_count": 12,
   "metadata": {},
   "outputs": [],
   "source": [
    "train, val = train_test_split(train, qtd = 2)"
   ]
  },
  {
   "cell_type": "code",
   "execution_count": 13,
   "metadata": {},
   "outputs": [
    {
     "data": {
      "text/plain": [
       "array([[ 0.,  0.,  0.,  0.,  7.,  0.,  0.,  0.],\n",
       "       [ 0., 10.,  2.,  0.,  6.,  0.,  3.,  0.],\n",
       "       [ 4.,  7.,  0.,  6.,  0.,  0., 10.,  0.],\n",
       "       [ 0.,  7.,  0.,  0.,  0.,  0.,  9.,  1.],\n",
       "       [ 7.,  0.,  0.,  8.,  0.,  4.,  3.,  0.],\n",
       "       [ 0.,  0.,  0.,  0.,  6.,  0.,  0.,  0.],\n",
       "       [ 0.,  5.,  0.,  4.,  3.,  0.,  0.,  0.],\n",
       "       [ 0., 10., 10.,  0.,  2.,  2.,  0.,  0.],\n",
       "       [ 0.,  0.,  0.,  8.,  3.,  0.,  0.,  0.],\n",
       "       [ 0.,  0., 10.,  0.,  3.,  0.,  2.,  1.],\n",
       "       [ 0.,  4.,  3.,  0.,  9.,  9.,  0.,  0.],\n",
       "       [ 0.,  2.,  4.,  1.,  8.,  0.,  0.,  0.],\n",
       "       [ 1.,  0.,  1.,  0.,  0., 10.,  7.,  0.],\n",
       "       [ 3.,  0.,  2.,  0.,  0.,  0.,  0., 10.],\n",
       "       [ 9.,  0.,  0.,  0.,  4.,  2.,  0.,  0.]])"
      ]
     },
     "execution_count": 13,
     "metadata": {},
     "output_type": "execute_result"
    }
   ],
   "source": [
    "train"
   ]
  },
  {
   "cell_type": "code",
   "execution_count": 14,
   "metadata": {},
   "outputs": [
    {
     "data": {
      "text/plain": [
       "array([[ 0.,  0.,  0.,  1.,  0.,  0.,  0.,  8.],\n",
       "       [ 9.,  0.,  0.,  2.,  0.,  0.,  0.,  0.],\n",
       "       [ 0.,  0.,  9.,  0.,  0., 10.,  0.,  0.],\n",
       "       [ 0.,  0.,  0.,  5.,  0., 10.,  0.,  0.],\n",
       "       [ 0.,  6.,  0.,  0.,  0.,  0.,  0.,  2.],\n",
       "       [ 0.,  0.,  0.,  0.,  0.,  8.,  9.,  0.],\n",
       "       [ 0.,  0.,  4.,  0.,  0.,  3.,  0.,  0.],\n",
       "       [10.,  0.,  0.,  0.,  0.,  0.,  2.,  0.],\n",
       "       [ 0.,  9.,  0.,  0.,  0.,  3.,  0.,  0.],\n",
       "       [ 0.,  0.,  0.,  9.,  0.,  4.,  0.,  0.],\n",
       "       [ 4.,  0.,  0.,  3.,  0.,  0.,  0.,  0.],\n",
       "       [ 0.,  0.,  0.,  0.,  0., 10., 10.,  0.],\n",
       "       [ 0.,  4.,  0.,  3.,  0.,  0.,  0.,  0.],\n",
       "       [ 0.,  0.,  0.,  1.,  0., 10.,  0.,  0.],\n",
       "       [ 0.,  9.,  0., 10.,  0.,  0.,  0.,  0.]])"
      ]
     },
     "execution_count": 14,
     "metadata": {},
     "output_type": "execute_result"
    }
   ],
   "source": [
    "val"
   ]
  },
  {
   "cell_type": "code",
   "execution_count": 15,
   "metadata": {},
   "outputs": [
    {
     "data": {
      "text/plain": [
       "array([[ 0.,  0.,  0.,  0.,  0.,  2.,  3.,  0.],\n",
       "       [ 0.,  0.,  0.,  0.,  0.,  5.,  0.,  8.],\n",
       "       [ 0.,  0.,  0.,  0.,  6.,  0.,  0.,  2.],\n",
       "       [ 0.,  0.,  9.,  0.,  5.,  0.,  0.,  0.],\n",
       "       [ 0.,  0.,  3.,  0.,  3.,  0.,  0.,  0.],\n",
       "       [ 0.,  0.,  9.,  9.,  0.,  0.,  0.,  0.],\n",
       "       [ 3.,  0.,  0.,  0.,  0.,  0.,  9.,  0.],\n",
       "       [ 0.,  0.,  0., 10.,  0.,  0.,  0.,  2.],\n",
       "       [ 9.,  0.,  0.,  0.,  0.,  0.,  1.,  0.],\n",
       "       [ 9.,  8.,  0.,  0.,  0.,  0.,  0.,  0.],\n",
       "       [ 0.,  0.,  0.,  0.,  0.,  0.,  8., 10.],\n",
       "       [ 2.,  0.,  0.,  0.,  0.,  0.,  0.,  9.],\n",
       "       [ 0.,  0.,  0.,  0.,  7.,  0.,  0.,  8.],\n",
       "       [ 0.,  3.,  0.,  0.,  1.,  0.,  0.,  0.],\n",
       "       [ 0.,  0.,  8.,  0.,  0.,  0.,  0.,  1.]])"
      ]
     },
     "execution_count": 15,
     "metadata": {},
     "output_type": "execute_result"
    }
   ],
   "source": [
    "test"
   ]
  },
  {
   "cell_type": "markdown",
   "metadata": {},
   "source": [
    "<br>\n",
    "\n",
    "Observe que, se \"juntamos\" os dados das 3 tabelas acima, retornamos com os dados originais:\n",
    "    \n",
    "<br>"
   ]
  },
  {
   "cell_type": "code",
   "execution_count": 16,
   "metadata": {},
   "outputs": [
    {
     "data": {
      "text/plain": [
       "array([[ 0.,  0.,  0.,  1.,  7.,  2.,  3.,  8.],\n",
       "       [ 9., 10.,  2.,  2.,  6.,  5.,  3.,  8.],\n",
       "       [ 4.,  7.,  9.,  6.,  6., 10., 10.,  2.],\n",
       "       [ 0.,  7.,  9.,  5.,  5., 10.,  9.,  1.],\n",
       "       [ 7.,  6.,  3.,  8.,  3.,  4.,  3.,  2.],\n",
       "       [ 0.,  0.,  9.,  9.,  6.,  8.,  9.,  0.],\n",
       "       [ 3.,  5.,  4.,  4.,  3.,  3.,  9.,  0.],\n",
       "       [10., 10., 10., 10.,  2.,  2.,  2.,  2.],\n",
       "       [ 9.,  9.,  0.,  8.,  3.,  3.,  1.,  0.],\n",
       "       [ 9.,  8., 10.,  9.,  3.,  4.,  2.,  1.],\n",
       "       [ 4.,  4.,  3.,  3.,  9.,  9.,  8., 10.],\n",
       "       [ 2.,  2.,  4.,  1.,  8., 10., 10.,  9.],\n",
       "       [ 1.,  4.,  1.,  3.,  7., 10.,  7.,  8.],\n",
       "       [ 3.,  3.,  2.,  1.,  1., 10.,  0., 10.],\n",
       "       [ 9.,  9.,  8., 10.,  4.,  2.,  0.,  1.]])"
      ]
     },
     "execution_count": 16,
     "metadata": {},
     "output_type": "execute_result"
    }
   ],
   "source": [
    "train + val + test"
   ]
  },
  {
   "cell_type": "code",
   "execution_count": 17,
   "metadata": {},
   "outputs": [
    {
     "data": {
      "text/plain": [
       "array([[ True,  True,  True,  True,  True,  True,  True,  True],\n",
       "       [ True,  True,  True,  True,  True,  True,  True,  True],\n",
       "       [ True,  True,  True,  True,  True,  True,  True,  True],\n",
       "       [ True,  True,  True,  True,  True,  True,  True,  True],\n",
       "       [ True,  True,  True,  True,  True,  True,  True,  True],\n",
       "       [ True,  True,  True,  True,  True,  True,  True,  True],\n",
       "       [ True,  True,  True,  True,  True,  True,  True,  True],\n",
       "       [ True,  True,  True,  True,  True,  True,  True,  True],\n",
       "       [ True,  True,  True,  True,  True,  True,  True,  True],\n",
       "       [ True,  True,  True,  True,  True,  True,  True,  True],\n",
       "       [ True,  True,  True,  True,  True,  True,  True,  True],\n",
       "       [ True,  True,  True,  True,  True,  True,  True,  True],\n",
       "       [ True,  True,  True,  True,  True,  True,  True,  True],\n",
       "       [ True,  True,  True,  True,  True,  True,  True,  True],\n",
       "       [ True,  True,  True,  True,  True,  True,  True,  True]])"
      ]
     },
     "execution_count": 17,
     "metadata": {},
     "output_type": "execute_result"
    }
   ],
   "source": [
    "(train + val + test) == ratings"
   ]
  },
  {
   "cell_type": "markdown",
   "metadata": {},
   "source": [
    "<br>\n",
    "\n",
    "Ou seja, com a metodologia acima, temos uma \"divisão\" dos dados em treino/validação/teste!\n",
    "\n",
    "\n",
    "Desta forma, podemos usar a metologia padrão de avaliação dos modelos:\n",
    "    \n",
    "    - Fitamos os modelos nos dados de treino;\n",
    "    \n",
    "    - Avaliamos os modelos nos dados de validação;\n",
    "    \n",
    "    - Escolhemos o modelo final, a partir dos resultados de validação;\n",
    "    \n",
    "    - Avaliamos o modelo final nos dados de teste.\n",
    "    \n",
    "    \n",
    "<br>\n",
    "\n",
    "\n",
    "__Ponto de atenção:__\n",
    "\n",
    "Ao calcularmos as métricas de performance, apenas os valores não nulos dos dados de validação/teste devem ser usados.\n",
    "\n",
    "<br><br>\n",
    "\n",
    "Vejamos um exemplo:"
   ]
  },
  {
   "cell_type": "code",
   "execution_count": 18,
   "metadata": {},
   "outputs": [],
   "source": [
    "fat = MatrixFactorization(dataframe = pd.DataFrame(train, columns = df.columns, index = df.index), \n",
    "                          K = 5, steps = 5000, alpha = 0.0001, beta = 0.2)"
   ]
  },
  {
   "cell_type": "code",
   "execution_count": 19,
   "metadata": {},
   "outputs": [
    {
     "name": "stdout",
     "output_type": "stream",
     "text": [
      "Fatoração concluída. Tempo aproximado: 1 minuto(s).\n"
     ]
    }
   ],
   "source": [
    "fat.fit()"
   ]
  },
  {
   "cell_type": "code",
   "execution_count": 20,
   "metadata": {},
   "outputs": [
    {
     "data": {
      "text/html": [
       "<div>\n",
       "<style scoped>\n",
       "    .dataframe tbody tr th:only-of-type {\n",
       "        vertical-align: middle;\n",
       "    }\n",
       "\n",
       "    .dataframe tbody tr th {\n",
       "        vertical-align: top;\n",
       "    }\n",
       "\n",
       "    .dataframe thead th {\n",
       "        text-align: right;\n",
       "    }\n",
       "</style>\n",
       "<table border=\"1\" class=\"dataframe\">\n",
       "  <thead>\n",
       "    <tr style=\"text-align: right;\">\n",
       "      <th></th>\n",
       "      <th>Filme_1</th>\n",
       "      <th>Filme_2</th>\n",
       "      <th>Filme_3</th>\n",
       "      <th>Filme_4</th>\n",
       "      <th>Filme_5</th>\n",
       "      <th>Filme_6</th>\n",
       "      <th>Filme_7</th>\n",
       "      <th>Filme_8</th>\n",
       "    </tr>\n",
       "  </thead>\n",
       "  <tbody>\n",
       "    <tr>\n",
       "      <th>User_1</th>\n",
       "      <td>4.20</td>\n",
       "      <td>6.34</td>\n",
       "      <td>4.25</td>\n",
       "      <td>5.01</td>\n",
       "      <td>6.88</td>\n",
       "      <td>7.95</td>\n",
       "      <td>5.81</td>\n",
       "      <td>3.84</td>\n",
       "    </tr>\n",
       "    <tr>\n",
       "      <th>User_2</th>\n",
       "      <td>6.05</td>\n",
       "      <td>9.51</td>\n",
       "      <td>2.31</td>\n",
       "      <td>8.15</td>\n",
       "      <td>5.75</td>\n",
       "      <td>4.31</td>\n",
       "      <td>3.22</td>\n",
       "      <td>6.80</td>\n",
       "    </tr>\n",
       "    <tr>\n",
       "      <th>User_3</th>\n",
       "      <td>3.87</td>\n",
       "      <td>6.99</td>\n",
       "      <td>1.97</td>\n",
       "      <td>6.05</td>\n",
       "      <td>8.23</td>\n",
       "      <td>11.29</td>\n",
       "      <td>9.45</td>\n",
       "      <td>4.81</td>\n",
       "    </tr>\n",
       "    <tr>\n",
       "      <th>User_4</th>\n",
       "      <td>4.35</td>\n",
       "      <td>6.85</td>\n",
       "      <td>3.25</td>\n",
       "      <td>5.89</td>\n",
       "      <td>5.86</td>\n",
       "      <td>9.85</td>\n",
       "      <td>8.72</td>\n",
       "      <td>1.09</td>\n",
       "    </tr>\n",
       "    <tr>\n",
       "      <th>User_5</th>\n",
       "      <td>6.95</td>\n",
       "      <td>9.42</td>\n",
       "      <td>5.20</td>\n",
       "      <td>7.69</td>\n",
       "      <td>4.31</td>\n",
       "      <td>3.92</td>\n",
       "      <td>3.06</td>\n",
       "      <td>4.36</td>\n",
       "    </tr>\n",
       "    <tr>\n",
       "      <th>User_6</th>\n",
       "      <td>3.76</td>\n",
       "      <td>5.65</td>\n",
       "      <td>3.71</td>\n",
       "      <td>4.42</td>\n",
       "      <td>5.91</td>\n",
       "      <td>5.64</td>\n",
       "      <td>3.65</td>\n",
       "      <td>3.99</td>\n",
       "    </tr>\n",
       "    <tr>\n",
       "      <th>User_7</th>\n",
       "      <td>3.63</td>\n",
       "      <td>4.94</td>\n",
       "      <td>3.23</td>\n",
       "      <td>3.93</td>\n",
       "      <td>2.96</td>\n",
       "      <td>2.76</td>\n",
       "      <td>1.91</td>\n",
       "      <td>2.22</td>\n",
       "    </tr>\n",
       "    <tr>\n",
       "      <th>User_8</th>\n",
       "      <td>8.64</td>\n",
       "      <td>9.74</td>\n",
       "      <td>9.69</td>\n",
       "      <td>7.28</td>\n",
       "      <td>2.28</td>\n",
       "      <td>1.87</td>\n",
       "      <td>1.16</td>\n",
       "      <td>1.95</td>\n",
       "    </tr>\n",
       "    <tr>\n",
       "      <th>User_9</th>\n",
       "      <td>6.05</td>\n",
       "      <td>8.86</td>\n",
       "      <td>2.41</td>\n",
       "      <td>7.75</td>\n",
       "      <td>3.05</td>\n",
       "      <td>3.94</td>\n",
       "      <td>4.13</td>\n",
       "      <td>3.45</td>\n",
       "    </tr>\n",
       "    <tr>\n",
       "      <th>User_10</th>\n",
       "      <td>7.32</td>\n",
       "      <td>8.03</td>\n",
       "      <td>9.60</td>\n",
       "      <td>5.75</td>\n",
       "      <td>3.00</td>\n",
       "      <td>3.25</td>\n",
       "      <td>1.98</td>\n",
       "      <td>1.00</td>\n",
       "    </tr>\n",
       "    <tr>\n",
       "      <th>User_11</th>\n",
       "      <td>2.09</td>\n",
       "      <td>4.04</td>\n",
       "      <td>2.96</td>\n",
       "      <td>2.99</td>\n",
       "      <td>8.61</td>\n",
       "      <td>8.97</td>\n",
       "      <td>5.85</td>\n",
       "      <td>5.26</td>\n",
       "    </tr>\n",
       "    <tr>\n",
       "      <th>User_12</th>\n",
       "      <td>1.21</td>\n",
       "      <td>2.11</td>\n",
       "      <td>3.88</td>\n",
       "      <td>1.03</td>\n",
       "      <td>7.60</td>\n",
       "      <td>7.07</td>\n",
       "      <td>3.71</td>\n",
       "      <td>4.31</td>\n",
       "    </tr>\n",
       "    <tr>\n",
       "      <th>User_13</th>\n",
       "      <td>1.00</td>\n",
       "      <td>2.79</td>\n",
       "      <td>1.09</td>\n",
       "      <td>2.31</td>\n",
       "      <td>7.08</td>\n",
       "      <td>9.43</td>\n",
       "      <td>7.27</td>\n",
       "      <td>3.21</td>\n",
       "    </tr>\n",
       "    <tr>\n",
       "      <th>User_14</th>\n",
       "      <td>3.16</td>\n",
       "      <td>5.62</td>\n",
       "      <td>1.85</td>\n",
       "      <td>4.43</td>\n",
       "      <td>8.25</td>\n",
       "      <td>6.38</td>\n",
       "      <td>3.82</td>\n",
       "      <td>9.68</td>\n",
       "    </tr>\n",
       "    <tr>\n",
       "      <th>User_15</th>\n",
       "      <td>8.62</td>\n",
       "      <td>10.83</td>\n",
       "      <td>7.35</td>\n",
       "      <td>8.53</td>\n",
       "      <td>3.82</td>\n",
       "      <td>2.15</td>\n",
       "      <td>1.33</td>\n",
       "      <td>5.62</td>\n",
       "    </tr>\n",
       "  </tbody>\n",
       "</table>\n",
       "</div>"
      ],
      "text/plain": [
       "         Filme_1  Filme_2  Filme_3  Filme_4  Filme_5  Filme_6  Filme_7  \\\n",
       "User_1      4.20     6.34     4.25     5.01     6.88     7.95     5.81   \n",
       "User_2      6.05     9.51     2.31     8.15     5.75     4.31     3.22   \n",
       "User_3      3.87     6.99     1.97     6.05     8.23    11.29     9.45   \n",
       "User_4      4.35     6.85     3.25     5.89     5.86     9.85     8.72   \n",
       "User_5      6.95     9.42     5.20     7.69     4.31     3.92     3.06   \n",
       "User_6      3.76     5.65     3.71     4.42     5.91     5.64     3.65   \n",
       "User_7      3.63     4.94     3.23     3.93     2.96     2.76     1.91   \n",
       "User_8      8.64     9.74     9.69     7.28     2.28     1.87     1.16   \n",
       "User_9      6.05     8.86     2.41     7.75     3.05     3.94     4.13   \n",
       "User_10     7.32     8.03     9.60     5.75     3.00     3.25     1.98   \n",
       "User_11     2.09     4.04     2.96     2.99     8.61     8.97     5.85   \n",
       "User_12     1.21     2.11     3.88     1.03     7.60     7.07     3.71   \n",
       "User_13     1.00     2.79     1.09     2.31     7.08     9.43     7.27   \n",
       "User_14     3.16     5.62     1.85     4.43     8.25     6.38     3.82   \n",
       "User_15     8.62    10.83     7.35     8.53     3.82     2.15     1.33   \n",
       "\n",
       "         Filme_8  \n",
       "User_1      3.84  \n",
       "User_2      6.80  \n",
       "User_3      4.81  \n",
       "User_4      1.09  \n",
       "User_5      4.36  \n",
       "User_6      3.99  \n",
       "User_7      2.22  \n",
       "User_8      1.95  \n",
       "User_9      3.45  \n",
       "User_10     1.00  \n",
       "User_11     5.26  \n",
       "User_12     4.31  \n",
       "User_13     3.21  \n",
       "User_14     9.68  \n",
       "User_15     5.62  "
      ]
     },
     "execution_count": 20,
     "metadata": {},
     "output_type": "execute_result"
    }
   ],
   "source": [
    "#predição usando apenas os dados de treino!!\n",
    "\n",
    "pd.DataFrame(fat.predict(), columns = df.columns, index = df.index).round(2)"
   ]
  },
  {
   "cell_type": "markdown",
   "metadata": {},
   "source": [
    "<br>\n",
    "\n",
    "Veja que a matriz resultante __não é esparsa!__\n",
    "\n",
    "Dessa forma, como sabemos, podemos utilizá-la para as recomendações.\n",
    "\n",
    "Como __nosso objetivo no exercício é avaliar performance__, podemos __comparar__ os resultados dessa matriz resultante com os valores dos dados de validação!"
   ]
  },
  {
   "cell_type": "code",
   "execution_count": 21,
   "metadata": {},
   "outputs": [
    {
     "data": {
      "text/html": [
       "<div>\n",
       "<style scoped>\n",
       "    .dataframe tbody tr th:only-of-type {\n",
       "        vertical-align: middle;\n",
       "    }\n",
       "\n",
       "    .dataframe tbody tr th {\n",
       "        vertical-align: top;\n",
       "    }\n",
       "\n",
       "    .dataframe thead th {\n",
       "        text-align: right;\n",
       "    }\n",
       "</style>\n",
       "<table border=\"1\" class=\"dataframe\">\n",
       "  <thead>\n",
       "    <tr style=\"text-align: right;\">\n",
       "      <th></th>\n",
       "      <th>Filme_1</th>\n",
       "      <th>Filme_2</th>\n",
       "      <th>Filme_3</th>\n",
       "      <th>Filme_4</th>\n",
       "      <th>Filme_5</th>\n",
       "      <th>Filme_6</th>\n",
       "      <th>Filme_7</th>\n",
       "      <th>Filme_8</th>\n",
       "    </tr>\n",
       "  </thead>\n",
       "  <tbody>\n",
       "    <tr>\n",
       "      <th>User_1</th>\n",
       "      <td>0.0</td>\n",
       "      <td>0.0</td>\n",
       "      <td>0.0</td>\n",
       "      <td>1.0</td>\n",
       "      <td>0.0</td>\n",
       "      <td>0.0</td>\n",
       "      <td>0.0</td>\n",
       "      <td>8.0</td>\n",
       "    </tr>\n",
       "    <tr>\n",
       "      <th>User_2</th>\n",
       "      <td>9.0</td>\n",
       "      <td>0.0</td>\n",
       "      <td>0.0</td>\n",
       "      <td>2.0</td>\n",
       "      <td>0.0</td>\n",
       "      <td>0.0</td>\n",
       "      <td>0.0</td>\n",
       "      <td>0.0</td>\n",
       "    </tr>\n",
       "    <tr>\n",
       "      <th>User_3</th>\n",
       "      <td>0.0</td>\n",
       "      <td>0.0</td>\n",
       "      <td>9.0</td>\n",
       "      <td>0.0</td>\n",
       "      <td>0.0</td>\n",
       "      <td>10.0</td>\n",
       "      <td>0.0</td>\n",
       "      <td>0.0</td>\n",
       "    </tr>\n",
       "    <tr>\n",
       "      <th>User_4</th>\n",
       "      <td>0.0</td>\n",
       "      <td>0.0</td>\n",
       "      <td>0.0</td>\n",
       "      <td>5.0</td>\n",
       "      <td>0.0</td>\n",
       "      <td>10.0</td>\n",
       "      <td>0.0</td>\n",
       "      <td>0.0</td>\n",
       "    </tr>\n",
       "    <tr>\n",
       "      <th>User_5</th>\n",
       "      <td>0.0</td>\n",
       "      <td>6.0</td>\n",
       "      <td>0.0</td>\n",
       "      <td>0.0</td>\n",
       "      <td>0.0</td>\n",
       "      <td>0.0</td>\n",
       "      <td>0.0</td>\n",
       "      <td>2.0</td>\n",
       "    </tr>\n",
       "    <tr>\n",
       "      <th>User_6</th>\n",
       "      <td>0.0</td>\n",
       "      <td>0.0</td>\n",
       "      <td>0.0</td>\n",
       "      <td>0.0</td>\n",
       "      <td>0.0</td>\n",
       "      <td>8.0</td>\n",
       "      <td>9.0</td>\n",
       "      <td>0.0</td>\n",
       "    </tr>\n",
       "    <tr>\n",
       "      <th>User_7</th>\n",
       "      <td>0.0</td>\n",
       "      <td>0.0</td>\n",
       "      <td>4.0</td>\n",
       "      <td>0.0</td>\n",
       "      <td>0.0</td>\n",
       "      <td>3.0</td>\n",
       "      <td>0.0</td>\n",
       "      <td>0.0</td>\n",
       "    </tr>\n",
       "    <tr>\n",
       "      <th>User_8</th>\n",
       "      <td>10.0</td>\n",
       "      <td>0.0</td>\n",
       "      <td>0.0</td>\n",
       "      <td>0.0</td>\n",
       "      <td>0.0</td>\n",
       "      <td>0.0</td>\n",
       "      <td>2.0</td>\n",
       "      <td>0.0</td>\n",
       "    </tr>\n",
       "    <tr>\n",
       "      <th>User_9</th>\n",
       "      <td>0.0</td>\n",
       "      <td>9.0</td>\n",
       "      <td>0.0</td>\n",
       "      <td>0.0</td>\n",
       "      <td>0.0</td>\n",
       "      <td>3.0</td>\n",
       "      <td>0.0</td>\n",
       "      <td>0.0</td>\n",
       "    </tr>\n",
       "    <tr>\n",
       "      <th>User_10</th>\n",
       "      <td>0.0</td>\n",
       "      <td>0.0</td>\n",
       "      <td>0.0</td>\n",
       "      <td>9.0</td>\n",
       "      <td>0.0</td>\n",
       "      <td>4.0</td>\n",
       "      <td>0.0</td>\n",
       "      <td>0.0</td>\n",
       "    </tr>\n",
       "    <tr>\n",
       "      <th>User_11</th>\n",
       "      <td>4.0</td>\n",
       "      <td>0.0</td>\n",
       "      <td>0.0</td>\n",
       "      <td>3.0</td>\n",
       "      <td>0.0</td>\n",
       "      <td>0.0</td>\n",
       "      <td>0.0</td>\n",
       "      <td>0.0</td>\n",
       "    </tr>\n",
       "    <tr>\n",
       "      <th>User_12</th>\n",
       "      <td>0.0</td>\n",
       "      <td>0.0</td>\n",
       "      <td>0.0</td>\n",
       "      <td>0.0</td>\n",
       "      <td>0.0</td>\n",
       "      <td>10.0</td>\n",
       "      <td>10.0</td>\n",
       "      <td>0.0</td>\n",
       "    </tr>\n",
       "    <tr>\n",
       "      <th>User_13</th>\n",
       "      <td>0.0</td>\n",
       "      <td>4.0</td>\n",
       "      <td>0.0</td>\n",
       "      <td>3.0</td>\n",
       "      <td>0.0</td>\n",
       "      <td>0.0</td>\n",
       "      <td>0.0</td>\n",
       "      <td>0.0</td>\n",
       "    </tr>\n",
       "    <tr>\n",
       "      <th>User_14</th>\n",
       "      <td>0.0</td>\n",
       "      <td>0.0</td>\n",
       "      <td>0.0</td>\n",
       "      <td>1.0</td>\n",
       "      <td>0.0</td>\n",
       "      <td>10.0</td>\n",
       "      <td>0.0</td>\n",
       "      <td>0.0</td>\n",
       "    </tr>\n",
       "    <tr>\n",
       "      <th>User_15</th>\n",
       "      <td>0.0</td>\n",
       "      <td>9.0</td>\n",
       "      <td>0.0</td>\n",
       "      <td>10.0</td>\n",
       "      <td>0.0</td>\n",
       "      <td>0.0</td>\n",
       "      <td>0.0</td>\n",
       "      <td>0.0</td>\n",
       "    </tr>\n",
       "  </tbody>\n",
       "</table>\n",
       "</div>"
      ],
      "text/plain": [
       "         Filme_1  Filme_2  Filme_3  Filme_4  Filme_5  Filme_6  Filme_7  \\\n",
       "User_1       0.0      0.0      0.0      1.0      0.0      0.0      0.0   \n",
       "User_2       9.0      0.0      0.0      2.0      0.0      0.0      0.0   \n",
       "User_3       0.0      0.0      9.0      0.0      0.0     10.0      0.0   \n",
       "User_4       0.0      0.0      0.0      5.0      0.0     10.0      0.0   \n",
       "User_5       0.0      6.0      0.0      0.0      0.0      0.0      0.0   \n",
       "User_6       0.0      0.0      0.0      0.0      0.0      8.0      9.0   \n",
       "User_7       0.0      0.0      4.0      0.0      0.0      3.0      0.0   \n",
       "User_8      10.0      0.0      0.0      0.0      0.0      0.0      2.0   \n",
       "User_9       0.0      9.0      0.0      0.0      0.0      3.0      0.0   \n",
       "User_10      0.0      0.0      0.0      9.0      0.0      4.0      0.0   \n",
       "User_11      4.0      0.0      0.0      3.0      0.0      0.0      0.0   \n",
       "User_12      0.0      0.0      0.0      0.0      0.0     10.0     10.0   \n",
       "User_13      0.0      4.0      0.0      3.0      0.0      0.0      0.0   \n",
       "User_14      0.0      0.0      0.0      1.0      0.0     10.0      0.0   \n",
       "User_15      0.0      9.0      0.0     10.0      0.0      0.0      0.0   \n",
       "\n",
       "         Filme_8  \n",
       "User_1       8.0  \n",
       "User_2       0.0  \n",
       "User_3       0.0  \n",
       "User_4       0.0  \n",
       "User_5       2.0  \n",
       "User_6       0.0  \n",
       "User_7       0.0  \n",
       "User_8       0.0  \n",
       "User_9       0.0  \n",
       "User_10      0.0  \n",
       "User_11      0.0  \n",
       "User_12      0.0  \n",
       "User_13      0.0  \n",
       "User_14      0.0  \n",
       "User_15      0.0  "
      ]
     },
     "execution_count": 21,
     "metadata": {},
     "output_type": "execute_result"
    }
   ],
   "source": [
    "pd.DataFrame(val, columns = df.columns, index = df.index)"
   ]
  },
  {
   "cell_type": "markdown",
   "metadata": {},
   "source": [
    "<br>\n",
    "\n",
    "### Exercício:\n",
    "\n",
    "Carregue o conjunto de dados a partir da função getData() e utilize o modelo de fatoração matricial.\n",
    "\n",
    "Faça uma divisão dos dados em treino/validação/teste de acordo com a metodologia acima discutida (Utilize qtd = 2, ou seja, 2 interações por usuário serão retiradas na divisão dos dados). \n",
    "\n",
    "Testando vários conjuntos de parâmetros - isto é, um análogo ao Grid Search de modelos - encontre a melhor fatoração matricial para realizarmos recomendações neste dataset.\n",
    "\n",
    "Obs.: esse grid search acima pode ser feito manualmente, implementado num loop."
   ]
  },
  {
   "cell_type": "code",
   "execution_count": 22,
   "metadata": {
    "scrolled": false
   },
   "outputs": [
    {
     "name": "stdout",
     "output_type": "stream",
     "text": [
      "(367, 80)\n"
     ]
    },
    {
     "data": {
      "text/html": [
       "<div>\n",
       "<style scoped>\n",
       "    .dataframe tbody tr th:only-of-type {\n",
       "        vertical-align: middle;\n",
       "    }\n",
       "\n",
       "    .dataframe tbody tr th {\n",
       "        vertical-align: top;\n",
       "    }\n",
       "\n",
       "    .dataframe thead th {\n",
       "        text-align: right;\n",
       "    }\n",
       "</style>\n",
       "<table border=\"1\" class=\"dataframe\">\n",
       "  <thead>\n",
       "    <tr style=\"text-align: right;\">\n",
       "      <th></th>\n",
       "      <th>Filme_1</th>\n",
       "      <th>Filme_2</th>\n",
       "      <th>Filme_3</th>\n",
       "      <th>Filme_4</th>\n",
       "      <th>Filme_5</th>\n",
       "      <th>Filme_6</th>\n",
       "      <th>Filme_7</th>\n",
       "      <th>Filme_8</th>\n",
       "      <th>Filme_9</th>\n",
       "      <th>Filme_10</th>\n",
       "      <th>...</th>\n",
       "      <th>Filme_71</th>\n",
       "      <th>Filme_72</th>\n",
       "      <th>Filme_73</th>\n",
       "      <th>Filme_74</th>\n",
       "      <th>Filme_75</th>\n",
       "      <th>Filme_76</th>\n",
       "      <th>Filme_77</th>\n",
       "      <th>Filme_78</th>\n",
       "      <th>Filme_79</th>\n",
       "      <th>Filme_80</th>\n",
       "    </tr>\n",
       "  </thead>\n",
       "  <tbody>\n",
       "    <tr>\n",
       "      <th>User_0</th>\n",
       "      <td>5.0</td>\n",
       "      <td>3.0</td>\n",
       "      <td>4.0</td>\n",
       "      <td>3.0</td>\n",
       "      <td>3.0</td>\n",
       "      <td>5.0</td>\n",
       "      <td>4.0</td>\n",
       "      <td>1.0</td>\n",
       "      <td>5.0</td>\n",
       "      <td>3.0</td>\n",
       "      <td>...</td>\n",
       "      <td>3.0</td>\n",
       "      <td>4.0</td>\n",
       "      <td>3.0</td>\n",
       "      <td>1.0</td>\n",
       "      <td>4.0</td>\n",
       "      <td>4.0</td>\n",
       "      <td>4.0</td>\n",
       "      <td>1.0</td>\n",
       "      <td>4.0</td>\n",
       "      <td>4.0</td>\n",
       "    </tr>\n",
       "    <tr>\n",
       "      <th>User_1</th>\n",
       "      <td>4.0</td>\n",
       "      <td>3.0</td>\n",
       "      <td>NaN</td>\n",
       "      <td>NaN</td>\n",
       "      <td>NaN</td>\n",
       "      <td>NaN</td>\n",
       "      <td>NaN</td>\n",
       "      <td>NaN</td>\n",
       "      <td>NaN</td>\n",
       "      <td>NaN</td>\n",
       "      <td>...</td>\n",
       "      <td>NaN</td>\n",
       "      <td>NaN</td>\n",
       "      <td>NaN</td>\n",
       "      <td>NaN</td>\n",
       "      <td>NaN</td>\n",
       "      <td>NaN</td>\n",
       "      <td>NaN</td>\n",
       "      <td>NaN</td>\n",
       "      <td>3.0</td>\n",
       "      <td>2.0</td>\n",
       "    </tr>\n",
       "    <tr>\n",
       "      <th>User_2</th>\n",
       "      <td>4.0</td>\n",
       "      <td>NaN</td>\n",
       "      <td>NaN</td>\n",
       "      <td>NaN</td>\n",
       "      <td>NaN</td>\n",
       "      <td>NaN</td>\n",
       "      <td>2.0</td>\n",
       "      <td>4.0</td>\n",
       "      <td>4.0</td>\n",
       "      <td>NaN</td>\n",
       "      <td>...</td>\n",
       "      <td>4.0</td>\n",
       "      <td>NaN</td>\n",
       "      <td>NaN</td>\n",
       "      <td>NaN</td>\n",
       "      <td>NaN</td>\n",
       "      <td>NaN</td>\n",
       "      <td>NaN</td>\n",
       "      <td>NaN</td>\n",
       "      <td>3.0</td>\n",
       "      <td>NaN</td>\n",
       "    </tr>\n",
       "    <tr>\n",
       "      <th>User_3</th>\n",
       "      <td>NaN</td>\n",
       "      <td>NaN</td>\n",
       "      <td>NaN</td>\n",
       "      <td>5.0</td>\n",
       "      <td>NaN</td>\n",
       "      <td>NaN</td>\n",
       "      <td>5.0</td>\n",
       "      <td>5.0</td>\n",
       "      <td>5.0</td>\n",
       "      <td>4.0</td>\n",
       "      <td>...</td>\n",
       "      <td>5.0</td>\n",
       "      <td>5.0</td>\n",
       "      <td>3.0</td>\n",
       "      <td>NaN</td>\n",
       "      <td>NaN</td>\n",
       "      <td>NaN</td>\n",
       "      <td>5.0</td>\n",
       "      <td>3.0</td>\n",
       "      <td>4.0</td>\n",
       "      <td>4.0</td>\n",
       "    </tr>\n",
       "    <tr>\n",
       "      <th>User_4</th>\n",
       "      <td>4.0</td>\n",
       "      <td>NaN</td>\n",
       "      <td>NaN</td>\n",
       "      <td>4.0</td>\n",
       "      <td>NaN</td>\n",
       "      <td>NaN</td>\n",
       "      <td>4.0</td>\n",
       "      <td>NaN</td>\n",
       "      <td>4.0</td>\n",
       "      <td>NaN</td>\n",
       "      <td>...</td>\n",
       "      <td>NaN</td>\n",
       "      <td>NaN</td>\n",
       "      <td>NaN</td>\n",
       "      <td>NaN</td>\n",
       "      <td>NaN</td>\n",
       "      <td>NaN</td>\n",
       "      <td>NaN</td>\n",
       "      <td>NaN</td>\n",
       "      <td>NaN</td>\n",
       "      <td>NaN</td>\n",
       "    </tr>\n",
       "    <tr>\n",
       "      <th>...</th>\n",
       "      <td>...</td>\n",
       "      <td>...</td>\n",
       "      <td>...</td>\n",
       "      <td>...</td>\n",
       "      <td>...</td>\n",
       "      <td>...</td>\n",
       "      <td>...</td>\n",
       "      <td>...</td>\n",
       "      <td>...</td>\n",
       "      <td>...</td>\n",
       "      <td>...</td>\n",
       "      <td>...</td>\n",
       "      <td>...</td>\n",
       "      <td>...</td>\n",
       "      <td>...</td>\n",
       "      <td>...</td>\n",
       "      <td>...</td>\n",
       "      <td>...</td>\n",
       "      <td>...</td>\n",
       "      <td>...</td>\n",
       "      <td>...</td>\n",
       "    </tr>\n",
       "    <tr>\n",
       "      <th>User_362</th>\n",
       "      <td>3.0</td>\n",
       "      <td>NaN</td>\n",
       "      <td>NaN</td>\n",
       "      <td>3.0</td>\n",
       "      <td>NaN</td>\n",
       "      <td>NaN</td>\n",
       "      <td>4.0</td>\n",
       "      <td>NaN</td>\n",
       "      <td>3.0</td>\n",
       "      <td>NaN</td>\n",
       "      <td>...</td>\n",
       "      <td>NaN</td>\n",
       "      <td>3.0</td>\n",
       "      <td>4.0</td>\n",
       "      <td>NaN</td>\n",
       "      <td>NaN</td>\n",
       "      <td>NaN</td>\n",
       "      <td>NaN</td>\n",
       "      <td>NaN</td>\n",
       "      <td>3.0</td>\n",
       "      <td>2.0</td>\n",
       "    </tr>\n",
       "    <tr>\n",
       "      <th>User_363</th>\n",
       "      <td>2.0</td>\n",
       "      <td>4.0</td>\n",
       "      <td>NaN</td>\n",
       "      <td>5.0</td>\n",
       "      <td>NaN</td>\n",
       "      <td>NaN</td>\n",
       "      <td>NaN</td>\n",
       "      <td>NaN</td>\n",
       "      <td>NaN</td>\n",
       "      <td>NaN</td>\n",
       "      <td>...</td>\n",
       "      <td>NaN</td>\n",
       "      <td>3.0</td>\n",
       "      <td>NaN</td>\n",
       "      <td>NaN</td>\n",
       "      <td>NaN</td>\n",
       "      <td>NaN</td>\n",
       "      <td>NaN</td>\n",
       "      <td>NaN</td>\n",
       "      <td>NaN</td>\n",
       "      <td>NaN</td>\n",
       "    </tr>\n",
       "    <tr>\n",
       "      <th>User_364</th>\n",
       "      <td>4.0</td>\n",
       "      <td>NaN</td>\n",
       "      <td>4.0</td>\n",
       "      <td>NaN</td>\n",
       "      <td>NaN</td>\n",
       "      <td>5.0</td>\n",
       "      <td>4.0</td>\n",
       "      <td>NaN</td>\n",
       "      <td>4.0</td>\n",
       "      <td>NaN</td>\n",
       "      <td>...</td>\n",
       "      <td>NaN</td>\n",
       "      <td>NaN</td>\n",
       "      <td>NaN</td>\n",
       "      <td>NaN</td>\n",
       "      <td>NaN</td>\n",
       "      <td>NaN</td>\n",
       "      <td>NaN</td>\n",
       "      <td>NaN</td>\n",
       "      <td>NaN</td>\n",
       "      <td>NaN</td>\n",
       "    </tr>\n",
       "    <tr>\n",
       "      <th>User_365</th>\n",
       "      <td>NaN</td>\n",
       "      <td>NaN</td>\n",
       "      <td>NaN</td>\n",
       "      <td>2.0</td>\n",
       "      <td>NaN</td>\n",
       "      <td>NaN</td>\n",
       "      <td>4.0</td>\n",
       "      <td>5.0</td>\n",
       "      <td>3.0</td>\n",
       "      <td>NaN</td>\n",
       "      <td>...</td>\n",
       "      <td>NaN</td>\n",
       "      <td>NaN</td>\n",
       "      <td>NaN</td>\n",
       "      <td>NaN</td>\n",
       "      <td>NaN</td>\n",
       "      <td>NaN</td>\n",
       "      <td>NaN</td>\n",
       "      <td>NaN</td>\n",
       "      <td>NaN</td>\n",
       "      <td>NaN</td>\n",
       "    </tr>\n",
       "    <tr>\n",
       "      <th>User_366</th>\n",
       "      <td>NaN</td>\n",
       "      <td>5.0</td>\n",
       "      <td>NaN</td>\n",
       "      <td>NaN</td>\n",
       "      <td>NaN</td>\n",
       "      <td>NaN</td>\n",
       "      <td>NaN</td>\n",
       "      <td>NaN</td>\n",
       "      <td>3.0</td>\n",
       "      <td>NaN</td>\n",
       "      <td>...</td>\n",
       "      <td>NaN</td>\n",
       "      <td>2.0</td>\n",
       "      <td>3.0</td>\n",
       "      <td>NaN</td>\n",
       "      <td>NaN</td>\n",
       "      <td>4.0</td>\n",
       "      <td>NaN</td>\n",
       "      <td>NaN</td>\n",
       "      <td>5.0</td>\n",
       "      <td>2.0</td>\n",
       "    </tr>\n",
       "  </tbody>\n",
       "</table>\n",
       "<p>367 rows × 80 columns</p>\n",
       "</div>"
      ],
      "text/plain": [
       "          Filme_1  Filme_2  Filme_3  Filme_4  Filme_5  Filme_6  Filme_7  \\\n",
       "User_0        5.0      3.0      4.0      3.0      3.0      5.0      4.0   \n",
       "User_1        4.0      3.0      NaN      NaN      NaN      NaN      NaN   \n",
       "User_2        4.0      NaN      NaN      NaN      NaN      NaN      2.0   \n",
       "User_3        NaN      NaN      NaN      5.0      NaN      NaN      5.0   \n",
       "User_4        4.0      NaN      NaN      4.0      NaN      NaN      4.0   \n",
       "...           ...      ...      ...      ...      ...      ...      ...   \n",
       "User_362      3.0      NaN      NaN      3.0      NaN      NaN      4.0   \n",
       "User_363      2.0      4.0      NaN      5.0      NaN      NaN      NaN   \n",
       "User_364      4.0      NaN      4.0      NaN      NaN      5.0      4.0   \n",
       "User_365      NaN      NaN      NaN      2.0      NaN      NaN      4.0   \n",
       "User_366      NaN      5.0      NaN      NaN      NaN      NaN      NaN   \n",
       "\n",
       "          Filme_8  Filme_9  Filme_10  ...  Filme_71  Filme_72  Filme_73  \\\n",
       "User_0        1.0      5.0       3.0  ...       3.0       4.0       3.0   \n",
       "User_1        NaN      NaN       NaN  ...       NaN       NaN       NaN   \n",
       "User_2        4.0      4.0       NaN  ...       4.0       NaN       NaN   \n",
       "User_3        5.0      5.0       4.0  ...       5.0       5.0       3.0   \n",
       "User_4        NaN      4.0       NaN  ...       NaN       NaN       NaN   \n",
       "...           ...      ...       ...  ...       ...       ...       ...   \n",
       "User_362      NaN      3.0       NaN  ...       NaN       3.0       4.0   \n",
       "User_363      NaN      NaN       NaN  ...       NaN       3.0       NaN   \n",
       "User_364      NaN      4.0       NaN  ...       NaN       NaN       NaN   \n",
       "User_365      5.0      3.0       NaN  ...       NaN       NaN       NaN   \n",
       "User_366      NaN      3.0       NaN  ...       NaN       2.0       3.0   \n",
       "\n",
       "          Filme_74  Filme_75  Filme_76  Filme_77  Filme_78  Filme_79  Filme_80  \n",
       "User_0         1.0       4.0       4.0       4.0       1.0       4.0       4.0  \n",
       "User_1         NaN       NaN       NaN       NaN       NaN       3.0       2.0  \n",
       "User_2         NaN       NaN       NaN       NaN       NaN       3.0       NaN  \n",
       "User_3         NaN       NaN       NaN       5.0       3.0       4.0       4.0  \n",
       "User_4         NaN       NaN       NaN       NaN       NaN       NaN       NaN  \n",
       "...            ...       ...       ...       ...       ...       ...       ...  \n",
       "User_362       NaN       NaN       NaN       NaN       NaN       3.0       2.0  \n",
       "User_363       NaN       NaN       NaN       NaN       NaN       NaN       NaN  \n",
       "User_364       NaN       NaN       NaN       NaN       NaN       NaN       NaN  \n",
       "User_365       NaN       NaN       NaN       NaN       NaN       NaN       NaN  \n",
       "User_366       NaN       NaN       4.0       NaN       NaN       5.0       2.0  \n",
       "\n",
       "[367 rows x 80 columns]"
      ]
     },
     "execution_count": 22,
     "metadata": {},
     "output_type": "execute_result"
    }
   ],
   "source": [
    "R = getData()\n",
    "print(R.shape)\n",
    "R"
   ]
  },
  {
   "cell_type": "markdown",
   "metadata": {},
   "source": [
    "#### Primeiro passo: trocar todos os dados faltantes por 0 e tranformar nosso dataset num array, porém vamos fazer uma rápida análise de quantos dados faltantes temos no total."
   ]
  },
  {
   "cell_type": "code",
   "execution_count": 23,
   "metadata": {},
   "outputs": [
    {
     "data": {
      "text/plain": [
       "20471"
      ]
     },
     "execution_count": 23,
     "metadata": {},
     "output_type": "execute_result"
    }
   ],
   "source": [
    "nulo = R.isnull().sum().sum()\n",
    "\n",
    "nulo"
   ]
  },
  {
   "cell_type": "code",
   "execution_count": 24,
   "metadata": {},
   "outputs": [
    {
     "data": {
      "text/plain": [
       "0.697241144414169"
      ]
     },
     "execution_count": 24,
     "metadata": {},
     "output_type": "execute_result"
    }
   ],
   "source": [
    "# em termos de porcentagem:\n",
    "\n",
    "a = R.isnull().sum().sum()/(R.shape[0]*R.shape[1])\n",
    "\n",
    "a"
   ]
  },
  {
   "cell_type": "markdown",
   "metadata": {},
   "source": [
    "Quase 70% dos dados são nulos, precisamos de um baixo erro para preencher esses dados da melhor maneira possível. Agora sim, vamos trocar os dados faltantes por 0."
   ]
  },
  {
   "cell_type": "code",
   "execution_count": 25,
   "metadata": {},
   "outputs": [],
   "source": [
    "ratings_ex = R.fillna(0).values"
   ]
  },
  {
   "cell_type": "code",
   "execution_count": 26,
   "metadata": {},
   "outputs": [
    {
     "data": {
      "text/plain": [
       "array([[5., 3., 4., ..., 1., 4., 4.],\n",
       "       [4., 3., 0., ..., 0., 3., 2.],\n",
       "       [4., 0., 0., ..., 0., 3., 0.],\n",
       "       ...,\n",
       "       [4., 0., 4., ..., 0., 0., 0.],\n",
       "       [0., 0., 0., ..., 0., 0., 0.],\n",
       "       [0., 5., 0., ..., 0., 5., 2.]])"
      ]
     },
     "execution_count": 26,
     "metadata": {},
     "output_type": "execute_result"
    }
   ],
   "source": [
    "ratings_ex"
   ]
  },
  {
   "cell_type": "markdown",
   "metadata": {},
   "source": [
    "#### Segundo passo: Dividir os dados em dados de treino, validação e teste usando a função dada no exercício."
   ]
  },
  {
   "cell_type": "code",
   "execution_count": 27,
   "metadata": {},
   "outputs": [],
   "source": [
    "treino, teste = train_test_split(ratings_ex, 2)"
   ]
  },
  {
   "cell_type": "code",
   "execution_count": 28,
   "metadata": {},
   "outputs": [
    {
     "data": {
      "text/plain": [
       "array([[5., 3., 4., ..., 1., 4., 4.],\n",
       "       [4., 3., 0., ..., 0., 3., 2.],\n",
       "       [4., 0., 0., ..., 0., 3., 0.],\n",
       "       ...,\n",
       "       [4., 0., 4., ..., 0., 0., 0.],\n",
       "       [0., 0., 0., ..., 0., 0., 0.],\n",
       "       [0., 5., 0., ..., 0., 5., 2.]])"
      ]
     },
     "execution_count": 28,
     "metadata": {},
     "output_type": "execute_result"
    }
   ],
   "source": [
    "treino"
   ]
  },
  {
   "cell_type": "code",
   "execution_count": 29,
   "metadata": {},
   "outputs": [
    {
     "data": {
      "text/plain": [
       "array([[0., 0., 0., ..., 0., 0., 0.],\n",
       "       [0., 0., 0., ..., 0., 0., 0.],\n",
       "       [0., 0., 0., ..., 0., 0., 0.],\n",
       "       ...,\n",
       "       [0., 0., 0., ..., 0., 0., 0.],\n",
       "       [0., 0., 0., ..., 0., 0., 0.],\n",
       "       [0., 0., 0., ..., 0., 0., 0.]])"
      ]
     },
     "execution_count": 29,
     "metadata": {},
     "output_type": "execute_result"
    }
   ],
   "source": [
    "teste"
   ]
  },
  {
   "cell_type": "code",
   "execution_count": 30,
   "metadata": {},
   "outputs": [],
   "source": [
    "treino, valid = train_test_split(treino, 2)"
   ]
  },
  {
   "cell_type": "code",
   "execution_count": 31,
   "metadata": {},
   "outputs": [
    {
     "data": {
      "text/plain": [
       "array([[5., 3., 4., ..., 1., 4., 4.],\n",
       "       [4., 3., 0., ..., 0., 3., 2.],\n",
       "       [4., 0., 0., ..., 0., 3., 0.],\n",
       "       ...,\n",
       "       [4., 0., 4., ..., 0., 0., 0.],\n",
       "       [0., 0., 0., ..., 0., 0., 0.],\n",
       "       [0., 5., 0., ..., 0., 5., 2.]])"
      ]
     },
     "execution_count": 31,
     "metadata": {},
     "output_type": "execute_result"
    }
   ],
   "source": [
    "treino"
   ]
  },
  {
   "cell_type": "code",
   "execution_count": 32,
   "metadata": {},
   "outputs": [
    {
     "data": {
      "text/plain": [
       "array([[0., 0., 0., ..., 0., 0., 0.],\n",
       "       [0., 0., 0., ..., 0., 0., 0.],\n",
       "       [0., 0., 0., ..., 0., 0., 0.],\n",
       "       ...,\n",
       "       [0., 0., 0., ..., 0., 0., 0.],\n",
       "       [0., 0., 0., ..., 0., 0., 0.],\n",
       "       [0., 0., 0., ..., 0., 0., 0.]])"
      ]
     },
     "execution_count": 32,
     "metadata": {},
     "output_type": "execute_result"
    }
   ],
   "source": [
    "valid"
   ]
  },
  {
   "cell_type": "code",
   "execution_count": 33,
   "metadata": {},
   "outputs": [
    {
     "data": {
      "text/plain": [
       "array([[0., 0., 0., ..., 0., 0., 0.],\n",
       "       [0., 0., 0., ..., 0., 0., 0.],\n",
       "       [0., 0., 0., ..., 0., 0., 0.],\n",
       "       ...,\n",
       "       [0., 0., 0., ..., 0., 0., 0.],\n",
       "       [0., 0., 0., ..., 0., 0., 0.],\n",
       "       [0., 0., 0., ..., 0., 0., 0.]])"
      ]
     },
     "execution_count": 33,
     "metadata": {},
     "output_type": "execute_result"
    }
   ],
   "source": [
    "teste"
   ]
  },
  {
   "cell_type": "markdown",
   "metadata": {},
   "source": [
    "Antes de criar nosso GridSeach, vamos fazer uma fatoração nos nosso dados com parâmetros fixados, entre eles, 500 passos, depois disso, analisaremos o gráfico de erro, e assim poderemos ter uma noção intuitiva da quantidade máxima de passos que devemos escolher para fazer o GridSeach."
   ]
  },
  {
   "cell_type": "code",
   "execution_count": 34,
   "metadata": {},
   "outputs": [],
   "source": [
    "fato = MatrixFactorization(dataframe = pd.DataFrame(treino, columns = R.columns, index = R.index), \n",
    "                          K = 10, steps = 200, alpha = 0.0002, beta = 0.2)"
   ]
  },
  {
   "cell_type": "code",
   "execution_count": 35,
   "metadata": {},
   "outputs": [
    {
     "name": "stdout",
     "output_type": "stream",
     "text": [
      "Fatoração concluída. Tempo aproximado: 2 minuto(s).\n"
     ]
    }
   ],
   "source": [
    "fato.fit()"
   ]
  },
  {
   "cell_type": "code",
   "execution_count": 36,
   "metadata": {},
   "outputs": [
    {
     "data": {
      "image/png": "[encoded data removed]",
      "text/plain": [
       "<Figure size 1080x432 with 1 Axes>"
      ]
     },
     "metadata": {
      "needs_background": "light"
     },
     "output_type": "display_data"
    }
   ],
   "source": [
    "fato.print_MSE_steps()"
   ]
  },
  {
   "cell_type": "markdown",
   "metadata": {},
   "source": [
    "Agora que temos uma noção da quantidade de passos que precisaremos (entre 150 e 300), vamos criar uma função parecida com o MSE, onde vai nos retornar o erro quando compararmos nossos dados de treino, com os de validação e teste"
   ]
  },
  {
   "cell_type": "code",
   "execution_count": 37,
   "metadata": {},
   "outputs": [],
   "source": [
    "def mse_error(y_pred,y_true):\n",
    "    \n",
    "    R = y_true\n",
    "    Rp = y_pred\n",
    "    \n",
    "    lista_erro = []\n",
    "    \n",
    "    mse_total_step = 0\n",
    "\n",
    "    for i in range(len(R)):\n",
    "        for j in range(len(R[i])):\n",
    "                   \n",
    "            if R[i][j] > 0:\n",
    "                eij = R[i][j] - Rp[i][j]\n",
    "                    \n",
    "                mse_total_step += (eij)**2\n",
    "                        \n",
    "                        \n",
    "    lista_erro.append(mse_total_step)\n",
    "    \n",
    "    return lista_erro[-1]"
   ]
  },
  {
   "cell_type": "markdown",
   "metadata": {},
   "source": [
    "Iremos fazer nosso GridSeach por partes, inicialmente fixaremos:\n",
    "\n",
    "__Alpha = 0.0001__\n",
    "\n",
    "__Beta = 0.1__\n",
    "\n",
    "__Número de Passos = 200__\n",
    "\n",
    "E iremos variar a dimensão do espaço latente K."
   ]
  },
  {
   "cell_type": "code",
   "execution_count": 38,
   "metadata": {},
   "outputs": [
    {
     "name": "stdout",
     "output_type": "stream",
     "text": [
      "Fatoração concluída. Tempo aproximado: 1 minuto(s).\n",
      "\n",
      "Parâmetros utilidados: alpha = 0.001, beta = 0.1, Steps = 200, K =   3\n",
      "Erro em dados de treino:  4817.589520296703 \n",
      "Erro em dados de Validação:  585.6997971126938 \n",
      "Erro em dados de teste:  699.238672530255 \n",
      "\n",
      "Fatoração concluída. Tempo aproximado: 1 minuto(s).\n",
      "\n",
      "Parâmetros utilidados: alpha = 0.001, beta = 0.1, Steps = 200, K =   5\n",
      "Erro em dados de treino:  4173.664869073066 \n",
      "Erro em dados de Validação:  624.3441194051841 \n",
      "Erro em dados de teste:  735.8610042119882 \n",
      "\n",
      "Fatoração concluída. Tempo aproximado: 2 minuto(s).\n",
      "\n",
      "Parâmetros utilidados: alpha = 0.001, beta = 0.1, Steps = 200, K =   10\n",
      "Erro em dados de treino:  3061.7009805091134 \n",
      "Erro em dados de Validação:  663.595914890245 \n",
      "Erro em dados de teste:  751.5796188878983 \n",
      "\n",
      "Fatoração concluída. Tempo aproximado: 6 minuto(s).\n",
      "\n",
      "Parâmetros utilidados: alpha = 0.001, beta = 0.1, Steps = 200, K =   40\n",
      "Erro em dados de treino:  1130.6351190555147 \n",
      "Erro em dados de Validação:  658.5688181907437 \n",
      "Erro em dados de teste:  772.2664793146367 \n",
      "\n",
      "Fatoração concluída. Tempo aproximado: 9 minuto(s).\n",
      "\n",
      "Parâmetros utilidados: alpha = 0.001, beta = 0.1, Steps = 200, K =   60\n",
      "Erro em dados de treino:  823.1082215204145 \n",
      "Erro em dados de Validação:  664.8439896942859 \n",
      "Erro em dados de teste:  782.3349435836781 \n",
      "\n"
     ]
    }
   ],
   "source": [
    "for k in [3,5,10,40,60]:\n",
    "                \n",
    "    fato = MatrixFactorization(dataframe = pd.DataFrame(treino, columns = R.columns, index = R.index), \n",
    "                          K = k, steps = 200, alpha = 0.001, beta = 0.1)\n",
    "                \n",
    "    fato.fit()\n",
    "    \n",
    "    mse = mse_error(y_pred = fato.predict(), y_true = valid)\n",
    "    mse1 = mse_error(y_pred = fato.predict(), y_true = teste)\n",
    "                \n",
    "    print('\\nParâmetros utilidados: alpha = 0.001, beta = 0.1, Steps = 200, K =  ', k)\n",
    "    print('Erro em dados de treino: ', fato.lista_erro_step[-1], '\\nErro em dados de Validação: ', mse, \n",
    "          '\\nErro em dados de teste: ', mse1, '\\n')"
   ]
  },
  {
   "cell_type": "markdown",
   "metadata": {},
   "source": [
    "A primeira observação que devemos fazer é que a diferença dos erros do dado de treino para validação e teste se da pelo fato de que nos dados de validação e de teste, somente duas das colunas são não nulas, e consequêntemente ao fazer o somatório da nossa função mse_error, esse número vai ser menor do que o erro encontrado pela fatoração nos dados de treino.\n",
    "\n",
    "Outra coisa que devemos obserar é que minimizar o erro nos dados de treino é bom, porém os dados 'desconhecidos' são os dados de validação e de teste, portanto, não adianta ter um erro muito baixo no dados de treino, se esse erro aumenta nos dados de validação e de teste, pois assim, temos uma chance mais alta de overfiting.\n",
    "\n",
    "Tendo em vista essas observações, vamos escolhar K = 10 para ser a dimensão do nosso espaço latente, pois nele temos um baixo erro nos dados de treino e erros mais baixos nos dados de validação e teste comparados com K = 40 e 60.\\"
   ]
  },
  {
   "cell_type": "markdown",
   "metadata": {},
   "source": [
    "### Agora fixando k = 10, vamos fazer a variação no alpha e ver os resultados."
   ]
  },
  {
   "cell_type": "code",
   "execution_count": 40,
   "metadata": {},
   "outputs": [
    {
     "name": "stdout",
     "output_type": "stream",
     "text": [
      "Fatoração concluída. Tempo aproximado: 2 minuto(s).\n",
      "\n",
      "Parâmetros utilidados: alpha =  0.001 beta = 0.1, Steps = 200, K =  10\n",
      "Erro em dados de treino:  3176.0052167809213 \n",
      "Erro em dados de Validação:  624.3835056932573 \n",
      "Erro em dados de teste:  763.5105183001924 \n",
      "\n",
      "Fatoração concluída. Tempo aproximado: 2 minuto(s).\n",
      "\n",
      "Parâmetros utilidados: alpha =  0.002 beta = 0.1, Steps = 200, K =  10\n",
      "Erro em dados de treino:  2445.5642565119197 \n",
      "Erro em dados de Validação:  715.5716045826306 \n",
      "Erro em dados de teste:  782.7351340522534 \n",
      "\n",
      "Fatoração concluída. Tempo aproximado: 2 minuto(s).\n",
      "\n",
      "Parâmetros utilidados: alpha =  0.003 beta = 0.1, Steps = 200, K =  10\n",
      "Erro em dados de treino:  2261.3706782762515 \n",
      "Erro em dados de Validação:  739.8828247225316 \n",
      "Erro em dados de teste:  770.192385603037 \n",
      "\n",
      "Fatoração concluída. Tempo aproximado: 2 minuto(s).\n",
      "\n",
      "Parâmetros utilidados: alpha =  0.004 beta = 0.1, Steps = 200, K =  10\n",
      "Erro em dados de treino:  2166.876886278131 \n",
      "Erro em dados de Validação:  791.1198056137805 \n",
      "Erro em dados de teste:  801.1843645718733 \n",
      "\n",
      "Fatoração concluída. Tempo aproximado: 2 minuto(s).\n",
      "\n",
      "Parâmetros utilidados: alpha =  0.005 beta = 0.1, Steps = 200, K =  10\n",
      "Erro em dados de treino:  2195.292305738902 \n",
      "Erro em dados de Validação:  732.9566144742489 \n",
      "Erro em dados de teste:  813.9215968178577 \n",
      "\n",
      "Fatoração concluída. Tempo aproximado: 2 minuto(s).\n",
      "\n",
      "Parâmetros utilidados: alpha =  0.006 beta = 0.1, Steps = 200, K =  10\n",
      "Erro em dados de treino:  2199.0175805227823 \n",
      "Erro em dados de Validação:  831.3077808877189 \n",
      "Erro em dados de teste:  857.2797885216411 \n",
      "\n"
     ]
    }
   ],
   "source": [
    "for alpha in np.arange(0.001,0.007, 0.001):\n",
    "                \n",
    "    fato = MatrixFactorization(dataframe = pd.DataFrame(treino, columns = R.columns, index = R.index), \n",
    "                          K = 10, steps = 200, alpha = alpha, beta = 0.1)\n",
    "                \n",
    "    fato.fit()\n",
    "    \n",
    "    mse = mse_error(y_pred = fato.predict(), y_true = valid)\n",
    "    mse1 = mse_error(y_pred = fato.predict(), y_true = teste)\n",
    "                \n",
    "    print('\\nParâmetros utilidados: alpha = ', alpha, 'beta = 0.1, Steps = 200, K =  10')\n",
    "    print('Erro em dados de treino: ', fato.lista_erro_step[-1], '\\nErro em dados de Validação: ', mse, \n",
    "          '\\nErro em dados de teste: ', mse1, '\\n')"
   ]
  },
  {
   "cell_type": "markdown",
   "metadata": {},
   "source": [
    "Podemos notar que de 0.003 para cima, o erro nos dados de treino pouco mudou, enquanto nos dados de  validação e teste, aumentaram.\n",
    "\n",
    "Entre 0.001 e 0.002, pela diferença entre os valores, afim de evitar algum possível overfiting, vamos escolher alpha = 0.002.\n",
    "\n",
    "Agora já temos fixados:\n",
    "\n",
    "__K = 10__\n",
    "\n",
    "__Alpha = 0.001__\n",
    "\n",
    "Vamos então encontrar possíveis valores para Beta."
   ]
  },
  {
   "cell_type": "code",
   "execution_count": 41,
   "metadata": {},
   "outputs": [
    {
     "name": "stdout",
     "output_type": "stream",
     "text": [
      "Fatoração concluída. Tempo aproximado: 2 minuto(s).\n",
      "\n",
      "Parâmetros utilidados: alpha = 0.002 beta =  0.1 Steps = 200, K =  10\n",
      "Erro em dados de treino:  2456.0493110925017 \n",
      "Erro em dados de Validação:  670.7596293375715 \n",
      "Erro em dados de teste:  767.9555217045585 \n",
      "\n",
      "Fatoração concluída. Tempo aproximado: 2 minuto(s).\n",
      "\n",
      "Parâmetros utilidados: alpha = 0.002 beta =  0.2 Steps = 200, K =  10\n",
      "Erro em dados de treino:  3089.8402342312083 \n",
      "Erro em dados de Validação:  623.6663162378925 \n",
      "Erro em dados de teste:  702.1543214652692 \n",
      "\n",
      "Fatoração concluída. Tempo aproximado: 2 minuto(s).\n",
      "\n",
      "Parâmetros utilidados: alpha = 0.002 beta =  0.30000000000000004 Steps = 200, K =  10\n",
      "Erro em dados de treino:  4075.882486460002 \n",
      "Erro em dados de Validação:  574.1422170500161 \n",
      "Erro em dados de teste:  679.9905284512436 \n",
      "\n",
      "Fatoração concluída. Tempo aproximado: 3 minuto(s).\n",
      "\n",
      "Parâmetros utilidados: alpha = 0.002 beta =  0.4 Steps = 200, K =  10\n",
      "Erro em dados de treino:  5024.664150580431 \n",
      "Erro em dados de Validação:  580.0541419988449 \n",
      "Erro em dados de teste:  686.2515779305235 \n",
      "\n",
      "Fatoração concluída. Tempo aproximado: 3 minuto(s).\n",
      "\n",
      "Parâmetros utilidados: alpha = 0.002 beta =  0.5 Steps = 200, K =  10\n",
      "Erro em dados de treino:  5720.828388959029 \n",
      "Erro em dados de Validação:  599.6202499791848 \n",
      "Erro em dados de teste:  705.0150341279546 \n",
      "\n",
      "Fatoração concluída. Tempo aproximado: 2 minuto(s).\n",
      "\n",
      "Parâmetros utilidados: alpha = 0.002 beta =  0.6 Steps = 200, K =  10\n",
      "Erro em dados de treino:  6362.028560762174 \n",
      "Erro em dados de Validação:  633.3643721482003 \n",
      "Erro em dados de teste:  735.8539338590704 \n",
      "\n"
     ]
    }
   ],
   "source": [
    "for beta in np.arange(0.1,0.7, 0.1):\n",
    "                \n",
    "    fato = MatrixFactorization(dataframe = pd.DataFrame(treino, columns = R.columns, index = R.index), \n",
    "                          K = 10, steps = 200, alpha = 0.002, beta = beta)\n",
    "                \n",
    "    fato.fit()\n",
    "    \n",
    "    mse = mse_error(y_pred = fato.predict(), y_true = valid)\n",
    "    mse1 = mse_error(y_pred = fato.predict(), y_true = teste)\n",
    "                \n",
    "    print('\\nParâmetros utilidados: alpha = 0.002', 'beta = ' , beta, 'Steps = 200, K =  10')\n",
    "    print('Erro em dados de treino: ', fato.lista_erro_step[-1], '\\nErro em dados de Validação: ', mse, \n",
    "          '\\nErro em dados de teste: ', mse1, '\\n')"
   ]
  },
  {
   "cell_type": "markdown",
   "metadata": {},
   "source": [
    "Temos algo bem intessante aqui, até beta = 0.3, apesar do erro em dados de treino ter aumentado, o erro nos dados de validação e teste, abaixaram, vamos escolher um meio termo para nossa regularização, beta = 0.2\n",
    "\n",
    "Para finalizar nosso GridSearch, vamos fazer uma variação no número de passos."
   ]
  },
  {
   "cell_type": "code",
   "execution_count": 42,
   "metadata": {},
   "outputs": [
    {
     "name": "stdout",
     "output_type": "stream",
     "text": [
      "Fatoração concluída. Tempo aproximado: 1 minuto(s).\n",
      "\n",
      "Parâmetros utilidados: alpha = 0.002 beta = 0.2, Steps = 50  K =  10\n",
      "Erro em dados de treino:  4986.42889663429 \n",
      "Erro em dados de Validação:  603.8952714463453 \n",
      "Erro em dados de teste:  712.5550044957585 \n",
      "\n",
      "Fatoração concluída. Tempo aproximado: 1 minuto(s).\n",
      "\n",
      "Parâmetros utilidados: alpha = 0.002 beta = 0.2, Steps = 100  K =  10\n",
      "Erro em dados de treino:  3845.5549759178625 \n",
      "Erro em dados de Validação:  618.9722635083359 \n",
      "Erro em dados de teste:  685.6835481766689 \n",
      "\n",
      "Fatoração concluída. Tempo aproximado: 2 minuto(s).\n",
      "\n",
      "Parâmetros utilidados: alpha = 0.002 beta = 0.2, Steps = 150  K =  10\n",
      "Erro em dados de treino:  3359.4517630588907 \n",
      "Erro em dados de Validação:  590.2490967737846 \n",
      "Erro em dados de teste:  748.5543374339212 \n",
      "\n",
      "Fatoração concluída. Tempo aproximado: 3 minuto(s).\n",
      "\n",
      "Parâmetros utilidados: alpha = 0.002 beta = 0.2, Steps = 200  K =  10\n",
      "Erro em dados de treino:  3060.541234368548 \n",
      "Erro em dados de Validação:  621.3233110892327 \n",
      "Erro em dados de teste:  717.0550751754396 \n",
      "\n",
      "Fatoração concluída. Tempo aproximado: 3 minuto(s).\n",
      "\n",
      "Parâmetros utilidados: alpha = 0.002 beta = 0.2, Steps = 250  K =  10\n",
      "Erro em dados de treino:  2929.57439842971 \n",
      "Erro em dados de Validação:  607.6334284267526 \n",
      "Erro em dados de teste:  705.4089029809819 \n",
      "\n",
      "Fatoração concluída. Tempo aproximado: 3 minuto(s).\n",
      "\n",
      "Parâmetros utilidados: alpha = 0.002 beta = 0.2, Steps = 300  K =  10\n",
      "Erro em dados de treino:  2874.1945141510805 \n",
      "Erro em dados de Validação:  607.7244269243027 \n",
      "Erro em dados de teste:  713.2207332516715 \n",
      "\n"
     ]
    }
   ],
   "source": [
    "for steps in np.arange(50,350,50):\n",
    "                \n",
    "    fato = MatrixFactorization(dataframe = pd.DataFrame(treino, columns = R.columns, index = R.index), \n",
    "                          K = 10, steps = steps, alpha = 0.002, beta = 0.2)\n",
    "                \n",
    "    fato.fit()\n",
    "    \n",
    "    mse = mse_error(y_pred = fato.predict(), y_true = valid)\n",
    "    mse1 = mse_error(y_pred = fato.predict(), y_true = teste)\n",
    "                \n",
    "    print('\\nParâmetros utilidados: alpha = 0.002', 'beta = 0.2, Steps =', steps, ' K =  10')\n",
    "    print('Erro em dados de treino: ', fato.lista_erro_step[-1], '\\nErro em dados de Validação: ', mse, \n",
    "          '\\nErro em dados de teste: ', mse1, '\\n')"
   ]
  },
  {
   "cell_type": "markdown",
   "metadata": {},
   "source": [
    "Finalizamos então escolhendo nosso último parâmetro, número de passos = 250.\n",
    "\n",
    "Mais uma observação que podemos fazer é que poderiamos ter colocado todas essas variações de parâmetros em um único código, iria demorar mais tempo e teriamos mais combinações para analisar, mas fazendo assim passo a passo, conseguimos entender o que ta acontecendo e conseguimos bons resultados.\n",
    "\n",
    "Vamos finalizar então criando nosso objeto com os parâmetros escolhidos para depois fitar e aplicar no nosso dataset original"
   ]
  },
  {
   "cell_type": "code",
   "execution_count": 43,
   "metadata": {},
   "outputs": [
    {
     "name": "stdout",
     "output_type": "stream",
     "text": [
      "Fatoração concluída. Tempo aproximado: 3 minuto(s).\n"
     ]
    }
   ],
   "source": [
    "fato1 = MatrixFactorization(dataframe = pd.DataFrame(ratings_ex, columns = R.columns, index = R.index), \n",
    "                          K = 10, steps = 250, alpha = 0.002, beta = 0.2)\n",
    "                \n",
    "\n",
    "fato1.fit()"
   ]
  },
  {
   "cell_type": "code",
   "execution_count": 44,
   "metadata": {},
   "outputs": [
    {
     "data": {
      "text/plain": [
       "3814.7880196879023"
      ]
     },
     "execution_count": 44,
     "metadata": {},
     "output_type": "execute_result"
    }
   ],
   "source": [
    "fato1.lista_erro_step[-1]"
   ]
  },
  {
   "cell_type": "code",
   "execution_count": 45,
   "metadata": {},
   "outputs": [
    {
     "data": {
      "image/png": "[encoded data removed]",
      "text/plain": [
       "<Figure size 1080x432 with 1 Axes>"
      ]
     },
     "metadata": {
      "needs_background": "light"
     },
     "output_type": "display_data"
    }
   ],
   "source": [
    "fato1.print_MSE_steps()"
   ]
  },
  {
   "cell_type": "markdown",
   "metadata": {},
   "source": [
    "Finalizamos aqui com um ótimo resultado, se dividirmos o erro pela quantidade de registros não nulos nos obtemos:"
   ]
  },
  {
   "cell_type": "code",
   "execution_count": 46,
   "metadata": {},
   "outputs": [
    {
     "data": {
      "text/plain": [
       "0.42915828773629233"
      ]
     },
     "execution_count": 46,
     "metadata": {},
     "output_type": "execute_result"
    }
   ],
   "source": [
    "media_erro = fato1.lista_erro_step[-1]/(R.shape[0]*R.shape[1]-nulo)\n",
    "\n",
    "media_erro"
   ]
  },
  {
   "cell_type": "markdown",
   "metadata": {},
   "source": [
    "Ou seja, o quadrado da diferença dos valores originais para os preditos pela matriz de fatoração é em média de 0.43, um número muito baixo.\n",
    "\n",
    "Para conferir o quão próximo chegamos, podemos comparar uma linha das duas tabelas."
   ]
  },
  {
   "cell_type": "code",
   "execution_count": 55,
   "metadata": {},
   "outputs": [
    {
     "data": {
      "text/html": [
       "<div>\n",
       "<style scoped>\n",
       "    .dataframe tbody tr th:only-of-type {\n",
       "        vertical-align: middle;\n",
       "    }\n",
       "\n",
       "    .dataframe tbody tr th {\n",
       "        vertical-align: top;\n",
       "    }\n",
       "\n",
       "    .dataframe thead th {\n",
       "        text-align: right;\n",
       "    }\n",
       "</style>\n",
       "<table border=\"1\" class=\"dataframe\">\n",
       "  <thead>\n",
       "    <tr style=\"text-align: right;\">\n",
       "      <th></th>\n",
       "      <th>Filme_1</th>\n",
       "      <th>Filme_2</th>\n",
       "      <th>Filme_3</th>\n",
       "      <th>Filme_4</th>\n",
       "      <th>Filme_5</th>\n",
       "      <th>Filme_6</th>\n",
       "      <th>Filme_7</th>\n",
       "      <th>Filme_8</th>\n",
       "      <th>Filme_9</th>\n",
       "      <th>Filme_10</th>\n",
       "    </tr>\n",
       "  </thead>\n",
       "  <tbody>\n",
       "    <tr>\n",
       "      <th>User_0</th>\n",
       "      <td>3.633915</td>\n",
       "      <td>2.956317</td>\n",
       "      <td>3.542881</td>\n",
       "      <td>3.312958</td>\n",
       "      <td>3.039617</td>\n",
       "      <td>3.817698</td>\n",
       "      <td>3.707119</td>\n",
       "      <td>3.480896</td>\n",
       "      <td>4.242296</td>\n",
       "      <td>3.758695</td>\n",
       "    </tr>\n",
       "  </tbody>\n",
       "</table>\n",
       "</div>"
      ],
      "text/plain": [
       "         Filme_1   Filme_2   Filme_3   Filme_4   Filme_5   Filme_6   Filme_7  \\\n",
       "User_0  3.633915  2.956317  3.542881  3.312958  3.039617  3.817698  3.707119   \n",
       "\n",
       "         Filme_8   Filme_9  Filme_10  \n",
       "User_0  3.480896  4.242296  3.758695  "
      ]
     },
     "execution_count": 55,
     "metadata": {},
     "output_type": "execute_result"
    }
   ],
   "source": [
    "df = pd.DataFrame(fato1.predict(), columns = R.columns, index = R.index)\n",
    "\n",
    "df.iloc[:1,:10]"
   ]
  },
  {
   "cell_type": "code",
   "execution_count": 56,
   "metadata": {},
   "outputs": [
    {
     "data": {
      "text/html": [
       "<div>\n",
       "<style scoped>\n",
       "    .dataframe tbody tr th:only-of-type {\n",
       "        vertical-align: middle;\n",
       "    }\n",
       "\n",
       "    .dataframe tbody tr th {\n",
       "        vertical-align: top;\n",
       "    }\n",
       "\n",
       "    .dataframe thead th {\n",
       "        text-align: right;\n",
       "    }\n",
       "</style>\n",
       "<table border=\"1\" class=\"dataframe\">\n",
       "  <thead>\n",
       "    <tr style=\"text-align: right;\">\n",
       "      <th></th>\n",
       "      <th>Filme_1</th>\n",
       "      <th>Filme_2</th>\n",
       "      <th>Filme_3</th>\n",
       "      <th>Filme_4</th>\n",
       "      <th>Filme_5</th>\n",
       "      <th>Filme_6</th>\n",
       "      <th>Filme_7</th>\n",
       "      <th>Filme_8</th>\n",
       "      <th>Filme_9</th>\n",
       "      <th>Filme_10</th>\n",
       "    </tr>\n",
       "  </thead>\n",
       "  <tbody>\n",
       "    <tr>\n",
       "      <th>User_0</th>\n",
       "      <td>5.0</td>\n",
       "      <td>3.0</td>\n",
       "      <td>4.0</td>\n",
       "      <td>3.0</td>\n",
       "      <td>3.0</td>\n",
       "      <td>5.0</td>\n",
       "      <td>4.0</td>\n",
       "      <td>1.0</td>\n",
       "      <td>5.0</td>\n",
       "      <td>3.0</td>\n",
       "    </tr>\n",
       "  </tbody>\n",
       "</table>\n",
       "</div>"
      ],
      "text/plain": [
       "        Filme_1  Filme_2  Filme_3  Filme_4  Filme_5  Filme_6  Filme_7  \\\n",
       "User_0      5.0      3.0      4.0      3.0      3.0      5.0      4.0   \n",
       "\n",
       "        Filme_8  Filme_9  Filme_10  \n",
       "User_0      1.0      5.0       3.0  "
      ]
     },
     "execution_count": 56,
     "metadata": {},
     "output_type": "execute_result"
    }
   ],
   "source": [
    "R.iloc[:1,:10]"
   ]
  },
  {
   "cell_type": "markdown",
   "metadata": {},
   "source": [
    "Podemos ver que temos sim algum erro mais notável, como no Filme_8, porem a grande maioria ta com esses muito pequenos, se as notas forem arredondadas (já que teoricamente as notas são sempre números natuais), teriamos um grande número de acertos.\n",
    "\n",
    "Então muito provavelmente, pela maneira que escolhemos os parâmetros, de maneira que não 'overfitasse' nos dados de validação e de teste, vamos ter excelentes resultados para o sistema de recomendação.\n",
    "\n",
    "Finalizamos aqui o exercício do último módulo."
   ]
  },
  {
   "cell_type": "code",
   "execution_count": null,
   "metadata": {},
   "outputs": [],
   "source": []
  }
 ],
 "metadata": {
  "kernelspec": {
   "display_name": "Python 3",
   "language": "python",
   "name": "python3"
  },
  "language_info": {
   "codemirror_mode": {
    "name": "ipython",
    "version": 3
   },
   "file_extension": ".py",
   "mimetype": "text/x-python",
   "name": "python",
   "nbconvert_exporter": "python",
   "pygments_lexer": "ipython3",
   "version": "3.8.8"
  },
  "varInspector": {
   "cols": {
    "lenName": 16,
    "lenType": 16,
    "lenVar": 40
   },
   "kernels_config": {
    "python": {
     "delete_cmd_postfix": "",
     "delete_cmd_prefix": "del ",
     "library": "var_list.py",
     "varRefreshCmd": "print(var_dic_list())"
    },
    "r": {
     "delete_cmd_postfix": ") ",
     "delete_cmd_prefix": "rm(",
     "library": "var_list.r",
     "varRefreshCmd": "cat(var_dic_list()) "
    }
   },
   "types_to_exclude": [
    "module",
    "function",
    "builtin_function_or_method",
    "instance",
    "_Feature"
   ],
   "window_display": false
  }
 },
 "nbformat": 4,
 "nbformat_minor": 2
}
