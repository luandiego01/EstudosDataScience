{
 "cells": [
  {
   "cell_type": "markdown",
   "id": "19359ee8",
   "metadata": {},
   "source": [
    "### Processamento, sistema de recomendação e classificação de textos\n",
    "\n",
    "Nosso objetivo nesse notebook é fazer três coisas:\n",
    "\n",
    "__1 - Falar sobre pré-processamento que podemos fazer em textos incluindo a criação de uma classe que faz todo o pré-processamento, redimensionamento e clusterização de textos__\n",
    "\n",
    "__2 - Criar um sistema de recomendação de textos, onde o usuário vai entrar com um dos temas pré definidos:__\n",
    "\n",
    "- Technology\n",
    "- Sports\n",
    "- Politics\n",
    "\n",
    "__E o sistema vai recomendar um texto de uma das categórias baseado na clusterização feita antes, além disso conseguiremos alimentar o sistema com uma tabela de usuário x item, na qual pode ser usada em um futuro para outras tecnicas de sistema de recomendações__\n",
    "\n",
    "Aqui faremos um sistema simples, mas que já da pra entender a ideia principal e que pode ser pensando e melhorado para determinado tipos de situações.\n",
    "\n",
    "__3 - Com base na clusterização feita inicialmente, criar uma função que permite o usuário colocar um texto e a função nos retorna a classificação, se aquele texto é sobre esportes, politica ou tecnologia.__"
   ]
  },
  {
   "cell_type": "code",
   "execution_count": 1,
   "id": "31db529e",
   "metadata": {},
   "outputs": [],
   "source": [
    "# importando as biblitecas necessárias inicialmente\n",
    "\n",
    "import re\n",
    "import os\n",
    "import emoji\n",
    "import spacy\n",
    "import string\n",
    "import requests\n",
    "import numpy as np\n",
    "import pandas as pd\n",
    "import matplotlib.pyplot as plt\n",
    "from bs4 import BeautifulSoup\n",
    "from nltk.stem.porter import PorterStemmer\n",
    "from sklearn.feature_extraction.text import ENGLISH_STOP_WORDS"
   ]
  },
  {
   "cell_type": "markdown",
   "id": "2987a6e8",
   "metadata": {},
   "source": [
    "Iremos aqui fazer um Webscrapping no site https://inshorts.com/, nele temos varias pequenas materias sobre vários temas, para nosso exemplo, escolheremos três temas bem distintos e trabalharemos com eles."
   ]
  },
  {
   "cell_type": "code",
   "execution_count": 2,
   "id": "260b65c5",
   "metadata": {},
   "outputs": [],
   "source": [
    "seed_urls = ['https://inshorts.com/en/read/technology',\n",
    "             'https://inshorts.com/en/read/sports',\n",
    "             'https://inshorts.com/en/read/politics' ]\n",
    "\n",
    "def build_dataset(seed_urls):\n",
    "    news_data = []\n",
    "    for url in seed_urls:\n",
    "        news_category = url.split('/')[-1]\n",
    "        data = requests.get(url)\n",
    "        soup = BeautifulSoup(data.content, 'html.parser')\n",
    "        \n",
    "        news_articles = [{'news_headline': headline.find('span', \n",
    "                                                         attrs={\"itemprop\": \"headline\"}).string,\n",
    "                          'news_article': article.find('div', \n",
    "                                                       attrs={\"itemprop\": \"articleBody\"}).string,\n",
    "                          'news_category': news_category}\n",
    "                         \n",
    "                            for headline, article in \n",
    "                             zip(soup.find_all('div', \n",
    "                                               class_=[\"news-card-title news-right-box\"]),\n",
    "                                 soup.find_all('div', \n",
    "                                               class_=[\"news-card-content news-right-box\"]))\n",
    "                        ]\n",
    "        news_data.extend(news_articles)\n",
    "        \n",
    "    df =  pd.DataFrame(news_data)\n",
    "    df = df[['news_headline', 'news_article', 'news_category']]\n",
    "    return df"
   ]
  },
  {
   "cell_type": "code",
   "execution_count": 3,
   "id": "2c626ab2",
   "metadata": {},
   "outputs": [
    {
     "data": {
      "text/html": [
       "<div>\n",
       "<style scoped>\n",
       "    .dataframe tbody tr th:only-of-type {\n",
       "        vertical-align: middle;\n",
       "    }\n",
       "\n",
       "    .dataframe tbody tr th {\n",
       "        vertical-align: top;\n",
       "    }\n",
       "\n",
       "    .dataframe thead th {\n",
       "        text-align: right;\n",
       "    }\n",
       "</style>\n",
       "<table border=\"1\" class=\"dataframe\">\n",
       "  <thead>\n",
       "    <tr style=\"text-align: right;\">\n",
       "      <th></th>\n",
       "      <th>news_headline</th>\n",
       "      <th>news_article</th>\n",
       "      <th>news_category</th>\n",
       "    </tr>\n",
       "  </thead>\n",
       "  <tbody>\n",
       "    <tr>\n",
       "      <th>0</th>\n",
       "      <td>S Korean college's toilet makes power from poo...</td>\n",
       "      <td>South Korea's Ulsan National Institute of Scie...</td>\n",
       "      <td>technology</td>\n",
       "    </tr>\n",
       "    <tr>\n",
       "      <th>1</th>\n",
       "      <td>101-carat diamond auctioned for ₹91 crore in c...</td>\n",
       "      <td>A 101.38-carat diamond has been auctioned at S...</td>\n",
       "      <td>technology</td>\n",
       "    </tr>\n",
       "    <tr>\n",
       "      <th>2</th>\n",
       "      <td>SC to hear Centre's plea on transfer of petiti...</td>\n",
       "      <td>The Supreme Court has said the Centre's plea s...</td>\n",
       "      <td>technology</td>\n",
       "    </tr>\n",
       "    <tr>\n",
       "      <th>3</th>\n",
       "      <td>Microsoft giving ₹1.1 lakh pandemic bonus to e...</td>\n",
       "      <td>Microsoft is giving a $1,500 (over ₹1.1 lakh) ...</td>\n",
       "      <td>technology</td>\n",
       "    </tr>\n",
       "    <tr>\n",
       "      <th>4</th>\n",
       "      <td>Amazon asks managers to hide performance-impro...</td>\n",
       "      <td>Amazon instructs its managers not to let emplo...</td>\n",
       "      <td>technology</td>\n",
       "    </tr>\n",
       "    <tr>\n",
       "      <th>...</th>\n",
       "      <td>...</td>\n",
       "      <td>...</td>\n",
       "      <td>...</td>\n",
       "    </tr>\n",
       "    <tr>\n",
       "      <th>70</th>\n",
       "      <td>Uttarakhand CM meets PM Modi, requests AIIMS i...</td>\n",
       "      <td>Newly-appointed Uttarakhand CM Pushkar Singh D...</td>\n",
       "      <td>politics</td>\n",
       "    </tr>\n",
       "    <tr>\n",
       "      <th>71</th>\n",
       "      <td>Oppn must come together, else history won't fo...</td>\n",
       "      <td>Leader of Opposition in Bihar Assembly, Tejash...</td>\n",
       "      <td>politics</td>\n",
       "    </tr>\n",
       "    <tr>\n",
       "      <th>72</th>\n",
       "      <td>He's admired across the spectrum: PM Modi on R...</td>\n",
       "      <td>PM Narendra Modi on Saturday greeted Defence M...</td>\n",
       "      <td>politics</td>\n",
       "    </tr>\n",
       "    <tr>\n",
       "      <th>73</th>\n",
       "      <td>200 people will protest near Parliament from J...</td>\n",
       "      <td>Bhartiya Kisan Union (BKU) leader Rakesh Tikai...</td>\n",
       "      <td>politics</td>\n",
       "    </tr>\n",
       "    <tr>\n",
       "      <th>74</th>\n",
       "      <td>Bullock cart used during protest against fuel ...</td>\n",
       "      <td>A bullock cart, on which Congress workers and ...</td>\n",
       "      <td>politics</td>\n",
       "    </tr>\n",
       "  </tbody>\n",
       "</table>\n",
       "<p>75 rows × 3 columns</p>\n",
       "</div>"
      ],
      "text/plain": [
       "                                        news_headline  \\\n",
       "0   S Korean college's toilet makes power from poo...   \n",
       "1   101-carat diamond auctioned for ₹91 crore in c...   \n",
       "2   SC to hear Centre's plea on transfer of petiti...   \n",
       "3   Microsoft giving ₹1.1 lakh pandemic bonus to e...   \n",
       "4   Amazon asks managers to hide performance-impro...   \n",
       "..                                                ...   \n",
       "70  Uttarakhand CM meets PM Modi, requests AIIMS i...   \n",
       "71  Oppn must come together, else history won't fo...   \n",
       "72  He's admired across the spectrum: PM Modi on R...   \n",
       "73  200 people will protest near Parliament from J...   \n",
       "74  Bullock cart used during protest against fuel ...   \n",
       "\n",
       "                                         news_article news_category  \n",
       "0   South Korea's Ulsan National Institute of Scie...    technology  \n",
       "1   A 101.38-carat diamond has been auctioned at S...    technology  \n",
       "2   The Supreme Court has said the Centre's plea s...    technology  \n",
       "3   Microsoft is giving a $1,500 (over ₹1.1 lakh) ...    technology  \n",
       "4   Amazon instructs its managers not to let emplo...    technology  \n",
       "..                                                ...           ...  \n",
       "70  Newly-appointed Uttarakhand CM Pushkar Singh D...      politics  \n",
       "71  Leader of Opposition in Bihar Assembly, Tejash...      politics  \n",
       "72  PM Narendra Modi on Saturday greeted Defence M...      politics  \n",
       "73  Bhartiya Kisan Union (BKU) leader Rakesh Tikai...      politics  \n",
       "74  A bullock cart, on which Congress workers and ...      politics  \n",
       "\n",
       "[75 rows x 3 columns]"
      ]
     },
     "execution_count": 3,
     "metadata": {},
     "output_type": "execute_result"
    }
   ],
   "source": [
    "# construndo o dataset com a função acima\n",
    "\n",
    "news_df = build_dataset(seed_urls)\n",
    "news_df"
   ]
  },
  {
   "cell_type": "markdown",
   "id": "af8838d7",
   "metadata": {},
   "source": [
    "A função que vamos usar abaixo faz duas coisas:\n",
    "\n",
    "- pré-processamento padrão, retirando stopwwords, emojis, números e etc\n",
    "- tokenização do texto, isto é colocar todo o texto separado por palavras em uma lista."
   ]
  },
  {
   "cell_type": "code",
   "execution_count": 5,
   "id": "5afe930b",
   "metadata": {},
   "outputs": [],
   "source": [
    "def preprocess_text(text, remove_stop = True, stem_words = False, remove_mentions_hashtags = True):\n",
    "    \"\"\"\n",
    "    eg:\n",
    "    input: preprocess_text(\"@water #dream hi hello where are you going be there tomorrow happening happen happens\",  \n",
    "    stem_words = True) \n",
    "    output: ['tomorrow', 'happen', 'go', 'hello']\n",
    "    \"\"\"\n",
    "\n",
    "    # Remove emojis\n",
    "    emoji_pattern = re.compile(\"[\" \"\\U0001F1E0-\\U0001F6FF\" \"]+\", flags=re.UNICODE)\n",
    "    text = emoji_pattern.sub(r\"\", text)\n",
    "    text = \"\".join([x for x in text if x not in emoji.UNICODE_EMOJI])\n",
    "\n",
    "    if remove_mentions_hashtags:\n",
    "        text = re.sub(r\"@(\\w+)\", \" \", text)\n",
    "        text = re.sub(r\"#(\\w+)\", \" \", text)\n",
    "\n",
    "    text = re.sub(r\"[^\\x00-\\x7F]+\", \" \", text)\n",
    "    regex = re.compile('[' + re.escape(string.punctuation) + '0-9\\\\r\\\\t\\\\n]') # remove punctuation and numbers\n",
    "    nopunct = regex.sub(\" \", text.lower())\n",
    "    words = (''.join(nopunct)).split()\n",
    "\n",
    "    if(remove_stop):\n",
    "        words = [w for w in words if w not in ENGLISH_STOP_WORDS]\n",
    "        words = [w for w in words if len(w) > 2]  # remove a,an,of etc.\n",
    "\n",
    "    if(stem_words):\n",
    "        stemmer = PorterStemmer()\n",
    "        words = [stemmer.stem(w) for w in words]\n",
    "\n",
    "    return list(words)"
   ]
  },
  {
   "cell_type": "code",
   "execution_count": 6,
   "id": "386f203d",
   "metadata": {},
   "outputs": [],
   "source": [
    "rows, cols = news_df.shape"
   ]
  },
  {
   "cell_type": "code",
   "execution_count": 7,
   "id": "78392845",
   "metadata": {},
   "outputs": [],
   "source": [
    "news_df1 = news_df.copy() # criando uma copia para o caso de ser necessário o uso do dataset em sua primeira versão\n",
    "\n",
    "news_df['token'] = [preprocess_text(news_df[\"news_article\"][row]) for row in range(rows)]"
   ]
  },
  {
   "cell_type": "code",
   "execution_count": 8,
   "id": "cce22769",
   "metadata": {},
   "outputs": [
    {
     "data": {
      "text/html": [
       "<div>\n",
       "<style scoped>\n",
       "    .dataframe tbody tr th:only-of-type {\n",
       "        vertical-align: middle;\n",
       "    }\n",
       "\n",
       "    .dataframe tbody tr th {\n",
       "        vertical-align: top;\n",
       "    }\n",
       "\n",
       "    .dataframe thead th {\n",
       "        text-align: right;\n",
       "    }\n",
       "</style>\n",
       "<table border=\"1\" class=\"dataframe\">\n",
       "  <thead>\n",
       "    <tr style=\"text-align: right;\">\n",
       "      <th></th>\n",
       "      <th>news_headline</th>\n",
       "      <th>news_article</th>\n",
       "      <th>news_category</th>\n",
       "      <th>token</th>\n",
       "    </tr>\n",
       "  </thead>\n",
       "  <tbody>\n",
       "    <tr>\n",
       "      <th>0</th>\n",
       "      <td>S Korean college's toilet makes power from poo...</td>\n",
       "      <td>South Korea's Ulsan National Institute of Scie...</td>\n",
       "      <td>technology</td>\n",
       "      <td>[south, korea, ulsan, national, institute, sci...</td>\n",
       "    </tr>\n",
       "    <tr>\n",
       "      <th>1</th>\n",
       "      <td>101-carat diamond auctioned for ₹91 crore in c...</td>\n",
       "      <td>A 101.38-carat diamond has been auctioned at S...</td>\n",
       "      <td>technology</td>\n",
       "      <td>[carat, diamond, auctioned, sotheby, crore, mi...</td>\n",
       "    </tr>\n",
       "    <tr>\n",
       "      <th>2</th>\n",
       "      <td>SC to hear Centre's plea on transfer of petiti...</td>\n",
       "      <td>The Supreme Court has said the Centre's plea s...</td>\n",
       "      <td>technology</td>\n",
       "      <td>[supreme, court, said, centre, plea, seeking, ...</td>\n",
       "    </tr>\n",
       "    <tr>\n",
       "      <th>3</th>\n",
       "      <td>Microsoft giving ₹1.1 lakh pandemic bonus to e...</td>\n",
       "      <td>Microsoft is giving a $1,500 (over ₹1.1 lakh) ...</td>\n",
       "      <td>technology</td>\n",
       "      <td>[microsoft, giving, lakh, pandemic, bonus, emp...</td>\n",
       "    </tr>\n",
       "    <tr>\n",
       "      <th>4</th>\n",
       "      <td>Amazon asks managers to hide performance-impro...</td>\n",
       "      <td>Amazon instructs its managers not to let emplo...</td>\n",
       "      <td>technology</td>\n",
       "      <td>[amazon, instructs, managers, let, employees, ...</td>\n",
       "    </tr>\n",
       "    <tr>\n",
       "      <th>...</th>\n",
       "      <td>...</td>\n",
       "      <td>...</td>\n",
       "      <td>...</td>\n",
       "      <td>...</td>\n",
       "    </tr>\n",
       "    <tr>\n",
       "      <th>70</th>\n",
       "      <td>Uttarakhand CM meets PM Modi, requests AIIMS i...</td>\n",
       "      <td>Newly-appointed Uttarakhand CM Pushkar Singh D...</td>\n",
       "      <td>politics</td>\n",
       "      <td>[newly, appointed, uttarakhand, pushkar, singh...</td>\n",
       "    </tr>\n",
       "    <tr>\n",
       "      <th>71</th>\n",
       "      <td>Oppn must come together, else history won't fo...</td>\n",
       "      <td>Leader of Opposition in Bihar Assembly, Tejash...</td>\n",
       "      <td>politics</td>\n",
       "      <td>[leader, opposition, bihar, assembly, tejashwi...</td>\n",
       "    </tr>\n",
       "    <tr>\n",
       "      <th>72</th>\n",
       "      <td>He's admired across the spectrum: PM Modi on R...</td>\n",
       "      <td>PM Narendra Modi on Saturday greeted Defence M...</td>\n",
       "      <td>politics</td>\n",
       "      <td>[narendra, modi, saturday, greeted, defence, m...</td>\n",
       "    </tr>\n",
       "    <tr>\n",
       "      <th>73</th>\n",
       "      <td>200 people will protest near Parliament from J...</td>\n",
       "      <td>Bhartiya Kisan Union (BKU) leader Rakesh Tikai...</td>\n",
       "      <td>politics</td>\n",
       "      <td>[bhartiya, kisan, union, bku, leader, rakesh, ...</td>\n",
       "    </tr>\n",
       "    <tr>\n",
       "      <th>74</th>\n",
       "      <td>Bullock cart used during protest against fuel ...</td>\n",
       "      <td>A bullock cart, on which Congress workers and ...</td>\n",
       "      <td>politics</td>\n",
       "      <td>[bullock, cart, congress, workers, leaders, pr...</td>\n",
       "    </tr>\n",
       "  </tbody>\n",
       "</table>\n",
       "<p>75 rows × 4 columns</p>\n",
       "</div>"
      ],
      "text/plain": [
       "                                        news_headline  \\\n",
       "0   S Korean college's toilet makes power from poo...   \n",
       "1   101-carat diamond auctioned for ₹91 crore in c...   \n",
       "2   SC to hear Centre's plea on transfer of petiti...   \n",
       "3   Microsoft giving ₹1.1 lakh pandemic bonus to e...   \n",
       "4   Amazon asks managers to hide performance-impro...   \n",
       "..                                                ...   \n",
       "70  Uttarakhand CM meets PM Modi, requests AIIMS i...   \n",
       "71  Oppn must come together, else history won't fo...   \n",
       "72  He's admired across the spectrum: PM Modi on R...   \n",
       "73  200 people will protest near Parliament from J...   \n",
       "74  Bullock cart used during protest against fuel ...   \n",
       "\n",
       "                                         news_article news_category  \\\n",
       "0   South Korea's Ulsan National Institute of Scie...    technology   \n",
       "1   A 101.38-carat diamond has been auctioned at S...    technology   \n",
       "2   The Supreme Court has said the Centre's plea s...    technology   \n",
       "3   Microsoft is giving a $1,500 (over ₹1.1 lakh) ...    technology   \n",
       "4   Amazon instructs its managers not to let emplo...    technology   \n",
       "..                                                ...           ...   \n",
       "70  Newly-appointed Uttarakhand CM Pushkar Singh D...      politics   \n",
       "71  Leader of Opposition in Bihar Assembly, Tejash...      politics   \n",
       "72  PM Narendra Modi on Saturday greeted Defence M...      politics   \n",
       "73  Bhartiya Kisan Union (BKU) leader Rakesh Tikai...      politics   \n",
       "74  A bullock cart, on which Congress workers and ...      politics   \n",
       "\n",
       "                                                token  \n",
       "0   [south, korea, ulsan, national, institute, sci...  \n",
       "1   [carat, diamond, auctioned, sotheby, crore, mi...  \n",
       "2   [supreme, court, said, centre, plea, seeking, ...  \n",
       "3   [microsoft, giving, lakh, pandemic, bonus, emp...  \n",
       "4   [amazon, instructs, managers, let, employees, ...  \n",
       "..                                                ...  \n",
       "70  [newly, appointed, uttarakhand, pushkar, singh...  \n",
       "71  [leader, opposition, bihar, assembly, tejashwi...  \n",
       "72  [narendra, modi, saturday, greeted, defence, m...  \n",
       "73  [bhartiya, kisan, union, bku, leader, rakesh, ...  \n",
       "74  [bullock, cart, congress, workers, leaders, pr...  \n",
       "\n",
       "[75 rows x 4 columns]"
      ]
     },
     "execution_count": 8,
     "metadata": {},
     "output_type": "execute_result"
    }
   ],
   "source": [
    "# visualizando o dataset criado\n",
    "\n",
    "news_df"
   ]
  },
  {
   "cell_type": "markdown",
   "id": "03717e8b",
   "metadata": {},
   "source": [
    "Vamos comparar o primeiro texto do dataset antes e depois do pré-processamento:"
   ]
  },
  {
   "cell_type": "code",
   "execution_count": 9,
   "id": "1fc41776",
   "metadata": {},
   "outputs": [
    {
     "data": {
      "text/plain": [
       "\"South Korea's Ulsan National Institute of Science and Technology professors have designed a toilet that converts methane from one's faeces into a power source for the appliances in the building, including gas stove, a professor said. Students using the toilet are rewarded with 10 units of digital currency 'Ggool' per day, which can be used to buy things on campus.\""
      ]
     },
     "execution_count": 9,
     "metadata": {},
     "output_type": "execute_result"
    }
   ],
   "source": [
    "news_df['news_article'][0]"
   ]
  },
  {
   "cell_type": "code",
   "execution_count": 10,
   "id": "8b0d246b",
   "metadata": {},
   "outputs": [
    {
     "name": "stdout",
     "output_type": "stream",
     "text": [
      "['south', 'korea', 'ulsan', 'national', 'institute', 'science', 'technology', 'professors', 'designed', 'toilet', 'converts', 'methane', 'faeces', 'power', 'source', 'appliances', 'building', 'including', 'gas', 'stove', 'professor', 'said', 'students', 'using', 'toilet', 'rewarded', 'units', 'digital', 'currency', 'ggool', 'day', 'used', 'buy', 'things', 'campus']\n"
     ]
    }
   ],
   "source": [
    "print(news_df['token'][0])"
   ]
  },
  {
   "cell_type": "markdown",
   "id": "d7a467cb",
   "metadata": {},
   "source": [
    "### Vetorização\n",
    "\n",
    "O próximo passo vai ser a vetorização dos nossos textos, a biblioteca que nos permite fazer isso de maneira eficiente é a spacy:\n",
    "\n",
    "[Documentação spacy](https://spacy.io/usage)"
   ]
  },
  {
   "cell_type": "code",
   "execution_count": 11,
   "id": "2f0d01bc",
   "metadata": {},
   "outputs": [],
   "source": [
    "nlp = spacy.load('en_core_web_md')\n",
    "\n",
    "# definindo função que retorna os vetores para cada palavra:\n",
    "\n",
    "def vec(s):\n",
    "    return nlp.vocab[s].vector\n"
   ]
  },
  {
   "cell_type": "markdown",
   "id": "40083389",
   "metadata": {},
   "source": [
    "Para entender um pouco o que a vetorização está fazendo, vamos pegar a primeira palavra do primeiro texto do dataset"
   ]
  },
  {
   "cell_type": "code",
   "execution_count": 12,
   "id": "6e1c7eb7",
   "metadata": {},
   "outputs": [
    {
     "data": {
      "text/plain": [
       "array([ 3.0233e-01,  1.0602e-01,  3.4486e-01, -1.7187e-01,  1.1376e+00,\n",
       "        1.2113e-01, -4.4904e-01,  5.8672e-01,  1.2389e-01,  2.7719e+00,\n",
       "       -4.8481e-01, -1.0983e-01,  2.7575e-01, -2.7715e-01, -2.8142e-01,\n",
       "       -4.1233e-02,  1.6334e-01,  1.3552e+00,  5.0799e-01, -2.7932e-01,\n",
       "        3.5309e-01,  3.7836e-01,  5.3228e-01, -5.8108e-04, -1.2489e-02,\n",
       "       -4.4130e-01, -6.0205e-02, -1.3591e-01, -1.5055e-01,  4.0398e-01,\n",
       "        3.7536e-01,  4.6984e-01, -2.6681e-01,  2.4657e-02, -4.6052e-01,\n",
       "        7.8195e-02, -3.1437e-01,  6.5725e-02, -4.1573e-01, -2.8379e-02,\n",
       "       -4.1889e-01,  8.0712e-02,  4.8615e-01,  4.4394e-03,  1.6153e-01,\n",
       "       -3.2498e-02,  2.6039e-01, -2.9447e-01, -5.2268e-01, -2.9064e-01,\n",
       "        1.3021e-01,  2.3819e-01, -1.6416e-01,  7.7372e-02,  1.5120e-01,\n",
       "        4.7038e-01, -9.3803e-02,  2.4088e-01, -4.7686e-02,  2.0386e-01,\n",
       "       -2.6520e-01, -9.1300e-02,  1.9710e-01,  8.2668e-01, -1.2207e-02,\n",
       "        2.8575e-01,  1.0221e-01,  3.6869e-01,  1.4288e-01,  2.5073e-01,\n",
       "       -4.1226e-01,  1.8670e-01, -5.6951e-02, -2.1277e-02,  5.0105e-01,\n",
       "        6.5689e-02, -3.3406e-01,  2.1637e-01,  2.4704e-01, -1.9354e-01,\n",
       "        2.2124e-01,  3.7961e-01,  3.1893e-01,  3.1694e-01, -1.0564e-01,\n",
       "       -3.0444e-02,  5.5067e-01,  3.8544e-01, -4.2867e-01, -2.1661e-01,\n",
       "       -3.3680e-01, -4.1164e-01, -7.4019e-02, -3.5023e-01,  3.6806e-01,\n",
       "        2.4785e-01,  3.9129e-01, -1.7611e-01, -3.3975e-02,  1.4625e-01,\n",
       "        2.8874e-01,  2.6289e-01, -1.9461e-02,  2.5712e-01, -6.0681e-04,\n",
       "       -2.2629e-01, -3.3465e-01,  1.7554e-01, -7.8942e-02, -2.5744e-01,\n",
       "       -2.3630e-02, -1.9540e-01, -5.4193e-01,  1.3914e-01, -7.5890e-02,\n",
       "       -1.6061e-01,  5.9249e-01, -8.7958e-03, -6.7692e-01,  1.5286e-02,\n",
       "        6.4360e-02,  6.7032e-01,  2.3802e-01, -1.0212e+00,  7.5255e-02,\n",
       "       -8.5870e-02,  1.4834e-01,  2.5958e-01, -1.1184e-01,  5.6161e-02,\n",
       "       -2.8547e-01, -3.8093e-01, -5.6111e-02,  9.5374e-02,  1.0611e-01,\n",
       "       -5.5312e-01,  4.5377e-03, -5.4694e-01,  1.8583e-01, -4.1758e-01,\n",
       "       -9.5562e-01, -2.5194e-01,  1.8379e-03, -2.9744e-01,  2.0582e-01,\n",
       "        9.9718e-02,  5.8689e-03,  1.8594e-01, -5.1415e-02, -1.8334e-01,\n",
       "       -6.4602e-01,  1.9761e-01, -1.9186e-01, -2.5837e-01, -2.4238e-01,\n",
       "       -4.2519e-01,  2.3968e-01,  7.9546e-02, -8.3739e-02,  3.8324e-01,\n",
       "        7.1113e-01,  1.0094e-01,  9.1652e-02,  5.6897e-01,  3.4321e-01,\n",
       "        1.3232e-01, -4.7690e-01, -1.3404e-01,  5.0681e-01,  2.0607e-01,\n",
       "        5.8932e-01,  2.4514e-01, -1.0644e+00, -2.3823e-01, -3.9885e-01,\n",
       "       -2.8269e-01, -2.4996e-01,  3.3818e-02,  3.5886e-01, -1.7326e-01,\n",
       "        9.0033e-02, -3.2835e-02, -9.4670e-02, -3.2104e-01,  4.3423e-01,\n",
       "        2.3614e-01,  1.6484e-02, -6.5667e-01,  2.2893e-01, -9.2427e-02,\n",
       "        3.1099e-01,  1.6193e-01,  5.7617e-02, -2.7526e-01,  2.3233e-02,\n",
       "       -1.9454e-01,  1.1068e-01, -6.0268e-02,  2.8760e-01, -3.4720e-01,\n",
       "       -1.1547e-01,  5.5554e-02,  1.9060e-01,  4.0767e-01,  2.5179e-01,\n",
       "       -1.1193e-01,  6.5255e-02, -3.7698e-01,  1.6220e-01, -1.8344e-01,\n",
       "       -1.8701e-01, -4.1256e-01,  6.3855e-01,  5.7581e-01, -8.2152e-02,\n",
       "       -7.8997e-02, -6.1252e-01,  5.2767e-01,  7.3751e-01,  2.1518e-01,\n",
       "        1.2097e-01, -2.1983e-01,  1.6801e-01, -2.5459e-01,  2.3238e-01,\n",
       "       -2.8575e-03, -3.7162e-01,  6.6094e-02, -4.4437e-04,  4.0683e-01,\n",
       "       -1.7824e-01,  7.3172e-02,  4.2909e-01,  3.5816e-01,  1.7138e-01,\n",
       "       -2.7039e-01,  4.6224e-01,  9.3656e-02,  1.5341e-01,  4.6014e-01,\n",
       "       -2.3548e-02, -4.4604e-02,  1.4311e-01, -2.8224e-01, -2.1254e-01,\n",
       "        1.5842e-01,  3.6903e-01, -6.4097e-02, -3.2382e-02, -5.4372e-01,\n",
       "       -2.2441e-01,  2.1698e-01,  1.0408e+00, -3.8461e-02,  3.9538e-01,\n",
       "        5.3223e-01,  2.4025e-01, -5.8147e-02, -4.2180e-01, -1.9522e-01,\n",
       "        4.2055e-01, -2.0759e-02,  4.7325e-01, -5.1803e-01,  1.9843e-01,\n",
       "       -8.3686e-01,  1.2882e-01, -6.8850e-02, -1.1847e+00,  9.9071e-02,\n",
       "       -6.6918e-01,  9.0015e-02, -4.7916e-01, -2.0212e-01,  2.8518e-01,\n",
       "       -2.2851e-01, -1.8244e-01, -5.8945e-01, -3.2466e-01, -3.1297e-01,\n",
       "        2.4051e-01, -3.6631e-01, -3.3121e-01,  6.6434e-01, -1.3305e-01,\n",
       "        4.1676e-01,  2.9905e-01, -1.8528e-01,  1.9383e-01, -3.8761e-01,\n",
       "       -1.0026e-01,  4.7720e-01, -5.8394e-01, -2.6847e-02,  1.5867e-01,\n",
       "        2.1582e-01,  1.3483e-03,  4.4954e-02, -6.0852e-01, -2.6661e-01],\n",
       "      dtype=float32)"
      ]
     },
     "execution_count": 12,
     "metadata": {},
     "output_type": "execute_result"
    }
   ],
   "source": [
    "nlp.vocab[news_df['token'][0][0]].vector"
   ]
  },
  {
   "cell_type": "code",
   "execution_count": 13,
   "id": "c69af1c3",
   "metadata": {},
   "outputs": [
    {
     "data": {
      "text/plain": [
       "(300,)"
      ]
     },
     "execution_count": 13,
     "metadata": {},
     "output_type": "execute_result"
    }
   ],
   "source": [
    "# conferindo o tamanho\n",
    "\n",
    "nlp.vocab[news_df['token'][0][0]].vector.shape"
   ]
  },
  {
   "cell_type": "code",
   "execution_count": 14,
   "id": "b72acc09",
   "metadata": {},
   "outputs": [
    {
     "data": {
      "text/plain": [
       "'south'"
      ]
     },
     "execution_count": 14,
     "metadata": {},
     "output_type": "execute_result"
    }
   ],
   "source": [
    "news_df['token'][0][0]"
   ]
  },
  {
   "cell_type": "markdown",
   "id": "16089960",
   "metadata": {},
   "source": [
    "Transformamos a palavra 'south' em um vetor com 300 colunas, agora faremos isso com todas as palavras de todos os textos."
   ]
  },
  {
   "cell_type": "code",
   "execution_count": 15,
   "id": "dfa654a2",
   "metadata": {},
   "outputs": [],
   "source": [
    "vec_size = 300\n",
    "list_of_matrix = [] #criando uma lista vazia que vai ser preenchida no final do código\n",
    "for corpus in news_df['token']: # pegando cada noticia na coluna 'token'\n",
    "    matrix = np.empty([len(corpus), vec_size]) # criando uma matriz vazia, com quantidade de linhas sendo a quantidade de palavras\n",
    "                                               # da noticia e 300 colunas\n",
    "    for idx, word in enumerate(corpus):\n",
    "        matrix[idx,:] = vec(word) # adicionando em cada uma das 300 colunas, as palavras vetorizadas\n",
    "    list_of_matrix.append(matrix) # adicionando cada matriz nova a lista vazia criada no começo, cada elemento dessa lista, possui\n",
    "                                  # a quantidade de palavras da materia de linhas e 300 colunas"
   ]
  },
  {
   "cell_type": "markdown",
   "id": "f8ae961f",
   "metadata": {},
   "source": [
    "### O código acima nos retorna uma lista de matrizes, cada elemento dessa lista é uma matriz, com as palavras da materia e cada uma dessas palavras vetorizadas.\n",
    "\n",
    "#### Por exemplo, a primeira materia tem 35 palavras, logo ao ver o tamanho da primeira matriz dessa lista, devemos ter uma matriz de tamanho (35,300), vamos conferir:"
   ]
  },
  {
   "cell_type": "code",
   "execution_count": 17,
   "id": "ac7c40c1",
   "metadata": {},
   "outputs": [
    {
     "data": {
      "text/plain": [
       "(35, (35, 300))"
      ]
     },
     "execution_count": 17,
     "metadata": {},
     "output_type": "execute_result"
    }
   ],
   "source": [
    "len(news_df['token'][0]), list_of_matrix[0].shape"
   ]
  },
  {
   "cell_type": "markdown",
   "id": "53df55c7",
   "metadata": {},
   "source": [
    "Agora iremos criar uma matriz final, para isso pegaremos cada um dos elementos da lista de matriz criada acima, e cacularemos a média em relação as linhas.\n",
    "\n",
    "Ao final, teremos uma matriz com 75 linhas (quantidade de matérias) e 300 colunas ( representação de cada materia pela média de cada palavra dela vetorizada)"
   ]
  },
  {
   "cell_type": "code",
   "execution_count": 18,
   "id": "1f123c75",
   "metadata": {},
   "outputs": [],
   "source": [
    "final_feature_matrix = np.empty([rows, vec_size])\n",
    "\n",
    "for row in range(rows):\n",
    "    final_feature_matrix[row,:] = list_of_matrix[row].mean(axis = 0)"
   ]
  },
  {
   "cell_type": "code",
   "execution_count": 19,
   "id": "baf4cd66",
   "metadata": {},
   "outputs": [
    {
     "data": {
      "text/plain": [
       "array([[-0.05112883,  0.01279246,  0.15757324, ...,  0.00571164,\n",
       "         0.00928433,  0.16328086],\n",
       "       [-0.15604249,  0.28972959,  0.08924858, ..., -0.24731129,\n",
       "         0.0388306 ,  0.35225023],\n",
       "       [ 0.07318612,  0.1322581 , -0.00988987, ..., -0.06427381,\n",
       "         0.15191296,  0.21147284],\n",
       "       ...,\n",
       "       [ 0.05282876,  0.13511844,  0.12018356, ...,  0.02290274,\n",
       "        -0.01877232,  0.02261794],\n",
       "       [-0.08782356,  0.16876584, -0.02366944, ...,  0.08170322,\n",
       "         0.04187412,  0.16789795],\n",
       "       [-0.24058759,  0.10707956,  0.2652065 , ...,  0.14049404,\n",
       "        -0.06892216,  0.14375159]])"
      ]
     },
     "execution_count": 19,
     "metadata": {},
     "output_type": "execute_result"
    }
   ],
   "source": [
    "final_feature_matrix"
   ]
  },
  {
   "cell_type": "code",
   "execution_count": 20,
   "id": "d59ce633",
   "metadata": {},
   "outputs": [
    {
     "data": {
      "text/plain": [
       "(75, 300)"
      ]
     },
     "execution_count": 20,
     "metadata": {},
     "output_type": "execute_result"
    }
   ],
   "source": [
    "final_feature_matrix.shape"
   ]
  },
  {
   "cell_type": "markdown",
   "id": "cd643f8d",
   "metadata": {},
   "source": [
    "Já fizemos todo o processamento nos textos, já podemos fazer a clusterização para dividir nossos dados. Porém, para explorar um pouco mais nossas possibilidades, vamos fazer um redimensionamento, afinal, estamos com 300 colunas. \n",
    "\n",
    "Vamos escolher dois modelos de redimensionamento, fazer a clusterização em cada um dos novos dados e escolher o melhor resultado para nosso modelo final. "
   ]
  },
  {
   "cell_type": "markdown",
   "id": "5d9bca30",
   "metadata": {},
   "source": [
    "### Redimensionamento - PCA\n",
    "\n",
    "vamos fazer o primeiro redimensionamento com o PCA (Principal component analysis).\n",
    "\n",
    "[Documentação PCA](https://scikit-learn.org/stable/modules/generated/sklearn.decomposition.PCA.html?highlight=pca#sklearn.decomposition.PCA)\n",
    "\n",
    "Iremos fazer dois testes, primeiro vamos reduzir para 20 variáveis e depois vamos reduzir para apenas duas variáveis."
   ]
  },
  {
   "cell_type": "code",
   "execution_count": 21,
   "id": "5c8e4ac1",
   "metadata": {},
   "outputs": [],
   "source": [
    "from sklearn.decomposition import PCA\n",
    "pca = PCA(n_components=20)\n",
    "principalComponents = pca.fit_transform(final_feature_matrix)"
   ]
  },
  {
   "cell_type": "code",
   "execution_count": 22,
   "id": "13979f2e",
   "metadata": {},
   "outputs": [
    {
     "data": {
      "text/plain": [
       "(75, 20)"
      ]
     },
     "execution_count": 22,
     "metadata": {},
     "output_type": "execute_result"
    }
   ],
   "source": [
    "# note que diminuimos realmente de 300 para 20 variáveis\n",
    "\n",
    "principalComponents.shape"
   ]
  },
  {
   "cell_type": "code",
   "execution_count": 23,
   "id": "5e2da81f",
   "metadata": {},
   "outputs": [
    {
     "data": {
      "text/plain": [
       "array([1, 1, 1, 1, 1, 1, 1, 1, 1, 1, 1, 1, 1, 0, 1, 1, 1, 1, 1, 1, 1, 1,\n",
       "       1, 1, 1, 0, 2, 0, 2, 1, 0, 0, 2, 0, 0, 0, 2, 0, 0, 0, 0, 0, 0, 0,\n",
       "       0, 0, 0, 0, 0, 0, 2, 2, 1, 2, 2, 2, 1, 2, 2, 2, 2, 2, 2, 2, 2, 2,\n",
       "       2, 2, 2, 2, 2, 2, 2, 2, 2])"
      ]
     },
     "execution_count": 23,
     "metadata": {},
     "output_type": "execute_result"
    }
   ],
   "source": [
    "# como temos três categorias, vamos fazer o agrupamento em três clusters\n",
    "\n",
    "from sklearn.cluster import KMeans\n",
    "kmeans = KMeans(n_clusters=3, random_state=0).fit(principalComponents)\n",
    "kmeans.labels_"
   ]
  },
  {
   "cell_type": "code",
   "execution_count": 24,
   "id": "d3480891",
   "metadata": {},
   "outputs": [
    {
     "name": "stdout",
     "output_type": "stream",
     "text": [
      "13    technology\n",
      "25        sports\n",
      "27        sports\n",
      "30        sports\n",
      "31        sports\n",
      "33        sports\n",
      "34        sports\n",
      "35        sports\n",
      "37        sports\n",
      "38        sports\n",
      "39        sports\n",
      "40        sports\n",
      "41        sports\n",
      "42        sports\n",
      "43        sports\n",
      "44        sports\n",
      "45        sports\n",
      "46        sports\n",
      "47        sports\n",
      "48        sports\n",
      "49        sports\n",
      "Name: news_category, dtype: object\n",
      "0     technology\n",
      "1     technology\n",
      "2     technology\n",
      "3     technology\n",
      "4     technology\n",
      "5     technology\n",
      "6     technology\n",
      "7     technology\n",
      "8     technology\n",
      "9     technology\n",
      "10    technology\n",
      "11    technology\n",
      "12    technology\n",
      "14    technology\n",
      "15    technology\n",
      "16    technology\n",
      "17    technology\n",
      "18    technology\n",
      "19    technology\n",
      "20    technology\n",
      "21    technology\n",
      "22    technology\n",
      "23    technology\n",
      "24    technology\n",
      "29        sports\n",
      "52      politics\n",
      "56      politics\n",
      "Name: news_category, dtype: object\n",
      "26      sports\n",
      "28      sports\n",
      "32      sports\n",
      "36      sports\n",
      "50    politics\n",
      "51    politics\n",
      "53    politics\n",
      "54    politics\n",
      "55    politics\n",
      "57    politics\n",
      "58    politics\n",
      "59    politics\n",
      "60    politics\n",
      "61    politics\n",
      "62    politics\n",
      "63    politics\n",
      "64    politics\n",
      "65    politics\n",
      "66    politics\n",
      "67    politics\n",
      "68    politics\n",
      "69    politics\n",
      "70    politics\n",
      "71    politics\n",
      "72    politics\n",
      "73    politics\n",
      "74    politics\n",
      "Name: news_category, dtype: object\n"
     ]
    }
   ],
   "source": [
    "# conferindo a clusterização de acordo com as materias do dataset\n",
    "\n",
    "print(news_df[\"news_category\"][kmeans.labels_ == 0]) \n",
    "print(news_df[\"news_category\"][kmeans.labels_ == 1])\n",
    "print(news_df[\"news_category\"][kmeans.labels_ == 2])"
   ]
  },
  {
   "cell_type": "markdown",
   "id": "af173176",
   "metadata": {},
   "source": [
    "Não conseguimos separar 100% todas as categorias, mas conseguimos um ótimo resultado, vamos fazer o teste agora reduzindo para apenas duas dimensões."
   ]
  },
  {
   "cell_type": "code",
   "execution_count": 25,
   "id": "48cad226",
   "metadata": {},
   "outputs": [],
   "source": [
    "pca2 = PCA(n_components=2)\n",
    "principalComponents2 = pca2.fit_transform(final_feature_matrix)\n",
    "kmeans2 = KMeans(n_clusters=3, random_state=0).fit(principalComponents2)"
   ]
  },
  {
   "cell_type": "code",
   "execution_count": 26,
   "id": "c608c775",
   "metadata": {},
   "outputs": [
    {
     "name": "stdout",
     "output_type": "stream",
     "text": [
      "13    technology\n",
      "25        sports\n",
      "27        sports\n",
      "30        sports\n",
      "31        sports\n",
      "33        sports\n",
      "34        sports\n",
      "35        sports\n",
      "37        sports\n",
      "38        sports\n",
      "39        sports\n",
      "40        sports\n",
      "41        sports\n",
      "42        sports\n",
      "43        sports\n",
      "44        sports\n",
      "45        sports\n",
      "46        sports\n",
      "47        sports\n",
      "48        sports\n",
      "49        sports\n",
      "Name: news_category, dtype: object\n",
      "23    technology\n",
      "26        sports\n",
      "28        sports\n",
      "32        sports\n",
      "36        sports\n",
      "50      politics\n",
      "51      politics\n",
      "53      politics\n",
      "54      politics\n",
      "55      politics\n",
      "57      politics\n",
      "58      politics\n",
      "59      politics\n",
      "60      politics\n",
      "61      politics\n",
      "62      politics\n",
      "63      politics\n",
      "64      politics\n",
      "65      politics\n",
      "66      politics\n",
      "67      politics\n",
      "68      politics\n",
      "69      politics\n",
      "70      politics\n",
      "71      politics\n",
      "72      politics\n",
      "73      politics\n",
      "74      politics\n",
      "Name: news_category, dtype: object\n",
      "0     technology\n",
      "1     technology\n",
      "2     technology\n",
      "3     technology\n",
      "4     technology\n",
      "5     technology\n",
      "6     technology\n",
      "7     technology\n",
      "8     technology\n",
      "9     technology\n",
      "10    technology\n",
      "11    technology\n",
      "12    technology\n",
      "14    technology\n",
      "15    technology\n",
      "16    technology\n",
      "17    technology\n",
      "18    technology\n",
      "19    technology\n",
      "20    technology\n",
      "21    technology\n",
      "22    technology\n",
      "24    technology\n",
      "29        sports\n",
      "52      politics\n",
      "56      politics\n",
      "Name: news_category, dtype: object\n"
     ]
    }
   ],
   "source": [
    "print(news_df[\"news_category\"][kmeans2.labels_ == 0]) \n",
    "print(news_df[\"news_category\"][kmeans2.labels_ == 1])\n",
    "print(news_df[\"news_category\"][kmeans2.labels_ == 2])"
   ]
  },
  {
   "cell_type": "markdown",
   "id": "60a5dca0",
   "metadata": {},
   "source": [
    "Como estamos em duas dimensões, podemos comparar graficamente as categorias reais com as categorias agrupadas pelo KMeans"
   ]
  },
  {
   "cell_type": "code",
   "execution_count": 27,
   "id": "5f4ba4a6",
   "metadata": {},
   "outputs": [
    {
     "data": {
      "image/png": "[encoded data removed]",
      "text/plain": [
       "<Figure size 432x288 with 1 Axes>"
      ]
     },
     "metadata": {
      "needs_background": "light"
     },
     "output_type": "display_data"
    }
   ],
   "source": [
    "x = principalComponents2[:,0]\n",
    "y = principalComponents2[:,1]\n",
    "\n",
    "colors = {'technology':'red', 'politics':'blue', 'sports':'green'}\n",
    "plt.scatter(x, y, alpha=0.5, c = news_df['news_category'].apply(lambda x: colors[x]))\n",
    "plt.title('Visualização das categorias depois do redimensionamento')\n",
    "plt.xlabel('Componente 1')\n",
    "plt.ylabel('Componente 2')\n",
    "plt.show()"
   ]
  },
  {
   "cell_type": "code",
   "execution_count": 28,
   "id": "9c66c0e8",
   "metadata": {},
   "outputs": [
    {
     "data": {
      "image/png": "[encoded data removed]",
      "text/plain": [
       "<Figure size 432x288 with 1 Axes>"
      ]
     },
     "metadata": {
      "needs_background": "light"
     },
     "output_type": "display_data"
    }
   ],
   "source": [
    "plt.title('Agrupamento pelo KMeans')\n",
    "plt.scatter(x, y,  \n",
    "            c = kmeans2.predict(principalComponents2), cmap = plt.cm.Paired)\n",
    "for centr in kmeans2.cluster_centers_:\n",
    "    plt.scatter(centr[0], centr[1], s = 100, marker = 'x', c = 'black', lw = 7)\n",
    "plt.show()"
   ]
  },
  {
   "cell_type": "markdown",
   "id": "51ee72bd",
   "metadata": {},
   "source": [
    "Muito interessante como conseguimos uma ótima separação dos dados. Vamos repetir o processo com outro modelo de redimensionamento, o ICA\n",
    "\n",
    "### Redimensionamento - ICA (Independent Component Analysis)\n",
    "\n",
    "[Documentação ICA](https://scikit-learn.org/stable/modules/generated/sklearn.decomposition.FastICA.html?highlight=ica#sklearn.decomposition.FastICA)\n",
    "\n",
    "Vamos repetir o processo que fizemos para o PCA, isto é, faremos dois redimensionamentos, um com 20 variáveis e outro com 2 variáveis.\n"
   ]
  },
  {
   "cell_type": "code",
   "execution_count": 29,
   "id": "cd459dac",
   "metadata": {},
   "outputs": [],
   "source": [
    "from sklearn.decomposition import FastICA"
   ]
  },
  {
   "cell_type": "code",
   "execution_count": 30,
   "id": "f0745ab8",
   "metadata": {},
   "outputs": [
    {
     "data": {
      "text/plain": [
       "array([0, 0, 2, 0, 0, 2, 2, 2, 2, 2, 2, 2, 0, 0, 2, 2, 2, 2, 2, 2, 2, 2,\n",
       "       0, 2, 2, 0, 0, 2, 2, 0, 0, 0, 0, 0, 2, 0, 0, 0, 0, 2, 0, 0, 2, 0,\n",
       "       0, 0, 2, 2, 0, 0, 2, 1, 0, 2, 2, 1, 2, 1, 1, 1, 2, 1, 1, 1, 2, 2,\n",
       "       1, 2, 1, 1, 2, 1, 1, 1, 1])"
      ]
     },
     "execution_count": 30,
     "metadata": {},
     "output_type": "execute_result"
    }
   ],
   "source": [
    "ica = FastICA(n_components=20, random_state= 0)\n",
    "principalComponents3 = ica.fit_transform(final_feature_matrix)\n",
    "\n",
    "kmeans3 = KMeans(n_clusters=3, random_state=0).fit(principalComponents3)\n",
    "kmeans3.labels_"
   ]
  },
  {
   "cell_type": "code",
   "execution_count": 31,
   "id": "e1705d00",
   "metadata": {},
   "outputs": [
    {
     "name": "stdout",
     "output_type": "stream",
     "text": [
      "0     technology\n",
      "1     technology\n",
      "3     technology\n",
      "4     technology\n",
      "12    technology\n",
      "13    technology\n",
      "22    technology\n",
      "25        sports\n",
      "26        sports\n",
      "29        sports\n",
      "30        sports\n",
      "31        sports\n",
      "32        sports\n",
      "33        sports\n",
      "35        sports\n",
      "36        sports\n",
      "37        sports\n",
      "38        sports\n",
      "40        sports\n",
      "41        sports\n",
      "43        sports\n",
      "44        sports\n",
      "45        sports\n",
      "48        sports\n",
      "49        sports\n",
      "52      politics\n",
      "Name: news_category, dtype: object\n",
      "51    politics\n",
      "55    politics\n",
      "57    politics\n",
      "58    politics\n",
      "59    politics\n",
      "61    politics\n",
      "62    politics\n",
      "63    politics\n",
      "66    politics\n",
      "68    politics\n",
      "69    politics\n",
      "71    politics\n",
      "72    politics\n",
      "73    politics\n",
      "74    politics\n",
      "Name: news_category, dtype: object\n",
      "2     technology\n",
      "5     technology\n",
      "6     technology\n",
      "7     technology\n",
      "8     technology\n",
      "9     technology\n",
      "10    technology\n",
      "11    technology\n",
      "14    technology\n",
      "15    technology\n",
      "16    technology\n",
      "17    technology\n",
      "18    technology\n",
      "19    technology\n",
      "20    technology\n",
      "21    technology\n",
      "23    technology\n",
      "24    technology\n",
      "27        sports\n",
      "28        sports\n",
      "34        sports\n",
      "39        sports\n",
      "42        sports\n",
      "46        sports\n",
      "47        sports\n",
      "50      politics\n",
      "53      politics\n",
      "54      politics\n",
      "56      politics\n",
      "60      politics\n",
      "64      politics\n",
      "65      politics\n",
      "67      politics\n",
      "70      politics\n",
      "Name: news_category, dtype: object\n"
     ]
    }
   ],
   "source": [
    "print(news_df[\"news_category\"][kmeans3.labels_ == 0]) \n",
    "print(news_df[\"news_category\"][kmeans3.labels_ == 1])\n",
    "print(news_df[\"news_category\"][kmeans3.labels_ == 2])"
   ]
  },
  {
   "cell_type": "markdown",
   "id": "30c3cd30",
   "metadata": {},
   "source": [
    "Pelo que percebemos, o redimensionamento para 20 variáveis não foi tão preciso, vamos ver agora para 2 variáveis."
   ]
  },
  {
   "cell_type": "code",
   "execution_count": 32,
   "id": "d5cd594a",
   "metadata": {},
   "outputs": [
    {
     "data": {
      "text/plain": [
       "array([2, 2, 2, 2, 2, 2, 2, 2, 2, 2, 2, 2, 2, 0, 2, 2, 2, 2, 2, 2, 2, 2,\n",
       "       2, 1, 2, 0, 1, 0, 1, 2, 0, 0, 1, 0, 0, 0, 1, 0, 0, 0, 0, 0, 0, 0,\n",
       "       0, 0, 0, 0, 0, 0, 1, 1, 2, 1, 1, 1, 2, 1, 1, 1, 1, 1, 1, 1, 1, 1,\n",
       "       1, 1, 1, 1, 1, 1, 1, 1, 1])"
      ]
     },
     "execution_count": 32,
     "metadata": {},
     "output_type": "execute_result"
    }
   ],
   "source": [
    "ica2 = FastICA(n_components=2, random_state= 0)\n",
    "principalComponents4 = ica2.fit_transform(final_feature_matrix)\n",
    "\n",
    "kmeans4 = KMeans(n_clusters=3, random_state=0).fit(principalComponents4)\n",
    "kmeans4.labels_"
   ]
  },
  {
   "cell_type": "code",
   "execution_count": 33,
   "id": "8be20184",
   "metadata": {},
   "outputs": [
    {
     "name": "stdout",
     "output_type": "stream",
     "text": [
      "13    technology\n",
      "25        sports\n",
      "27        sports\n",
      "30        sports\n",
      "31        sports\n",
      "33        sports\n",
      "34        sports\n",
      "35        sports\n",
      "37        sports\n",
      "38        sports\n",
      "39        sports\n",
      "40        sports\n",
      "41        sports\n",
      "42        sports\n",
      "43        sports\n",
      "44        sports\n",
      "45        sports\n",
      "46        sports\n",
      "47        sports\n",
      "48        sports\n",
      "49        sports\n",
      "Name: news_category, dtype: object\n",
      "23    technology\n",
      "26        sports\n",
      "28        sports\n",
      "32        sports\n",
      "36        sports\n",
      "50      politics\n",
      "51      politics\n",
      "53      politics\n",
      "54      politics\n",
      "55      politics\n",
      "57      politics\n",
      "58      politics\n",
      "59      politics\n",
      "60      politics\n",
      "61      politics\n",
      "62      politics\n",
      "63      politics\n",
      "64      politics\n",
      "65      politics\n",
      "66      politics\n",
      "67      politics\n",
      "68      politics\n",
      "69      politics\n",
      "70      politics\n",
      "71      politics\n",
      "72      politics\n",
      "73      politics\n",
      "74      politics\n",
      "Name: news_category, dtype: object\n",
      "0     technology\n",
      "1     technology\n",
      "2     technology\n",
      "3     technology\n",
      "4     technology\n",
      "5     technology\n",
      "6     technology\n",
      "7     technology\n",
      "8     technology\n",
      "9     technology\n",
      "10    technology\n",
      "11    technology\n",
      "12    technology\n",
      "14    technology\n",
      "15    technology\n",
      "16    technology\n",
      "17    technology\n",
      "18    technology\n",
      "19    technology\n",
      "20    technology\n",
      "21    technology\n",
      "22    technology\n",
      "24    technology\n",
      "29        sports\n",
      "52      politics\n",
      "56      politics\n",
      "Name: news_category, dtype: object\n"
     ]
    }
   ],
   "source": [
    "print(news_df[\"news_category\"][kmeans4.labels_ == 0]) \n",
    "print(news_df[\"news_category\"][kmeans4.labels_ == 1])\n",
    "print(news_df[\"news_category\"][kmeans4.labels_ == 2])"
   ]
  },
  {
   "cell_type": "markdown",
   "id": "43635e89",
   "metadata": {},
   "source": [
    "Para duas dimensões, conseguimos os mesmos resultados que o feito com o PCA para duas dimensões também, vamos olhar graficamente."
   ]
  },
  {
   "cell_type": "code",
   "execution_count": 34,
   "id": "ea7e0731",
   "metadata": {},
   "outputs": [
    {
     "data": {
      "image/png": "[encoded data removed]",
      "text/plain": [
       "<Figure size 432x288 with 1 Axes>"
      ]
     },
     "metadata": {
      "needs_background": "light"
     },
     "output_type": "display_data"
    }
   ],
   "source": [
    "x2 = principalComponents4[:,0]\n",
    "y2 = principalComponents4[:,1]\n",
    "\n",
    "colors = {'technology':'red', 'politics':'blue', 'sports':'green'}\n",
    "plt.scatter(x2, y2, alpha=0.5, c = news_df['news_category'].apply(lambda x: colors[x]))\n",
    "plt.title('Visualização das categorias depois do redimensionamento')\n",
    "plt.xlabel('x')\n",
    "plt.ylabel('y')\n",
    "plt.show()"
   ]
  },
  {
   "cell_type": "code",
   "execution_count": 35,
   "id": "0c15b5c6",
   "metadata": {},
   "outputs": [
    {
     "data": {
      "image/png": "[encoded data removed]",
      "text/plain": [
       "<Figure size 432x288 with 1 Axes>"
      ]
     },
     "metadata": {
      "needs_background": "light"
     },
     "output_type": "display_data"
    }
   ],
   "source": [
    "plt.title('Agrupamento pelo KMeans')\n",
    "plt.scatter(x2, y2,  \n",
    "            c = kmeans4.predict(principalComponents4), cmap = plt.cm.Paired)\n",
    "for centr in kmeans4.cluster_centers_:\n",
    "    plt.scatter(centr[0], centr[1], s = 100, marker = 'x', c = 'black', lw = 7)\n",
    "plt.show()"
   ]
  },
  {
   "cell_type": "markdown",
   "id": "ff136e47",
   "metadata": {},
   "source": [
    "### Criando uma classe de Pré-Processamento.\n",
    "\n",
    "Será que conseguimos juntar tudo isso que fizemos até agora em um único lugar? A resposta é sim, conseguimos, vamos fazer isso criando uma classe, que fará tudo isso que fizemos antes, desde o pré-processamento, tokenização, redimensionamento, clusterização e por fim, nos mostrará um gráfico, caso o redimensionamento sejá feito para duas variáveis."
   ]
  },
  {
   "cell_type": "code",
   "execution_count": 36,
   "id": "0faf2132",
   "metadata": {},
   "outputs": [],
   "source": [
    "class preprocessamento_total():\n",
    "    \n",
    "    def __init__(self, data, coluna):\n",
    "        self.data = data\n",
    "        self.coluna = coluna\n",
    "        self.rows = data.shape[0]\n",
    "        self.cols = data.shape[1]\n",
    "        self.final_feature_matrix = np.empty([self.rows, 300])\n",
    "        list_of_matrix = []\n",
    "    \n",
    "    def preprocess(self):\n",
    "        self.data['token'] = [preprocess_text(self.data[self.coluna][row]) for row in range(self.rows)]\n",
    "    \n",
    "    def to_vector(self):\n",
    "        nlp = spacy.load('en_core_web_md')\n",
    "        for corpus in self.data['token']:\n",
    "            matrix = np.empty([len(corpus), 300])\n",
    "        for idx, word in enumerate(corpus):\n",
    "            matrix[idx,:] = nlp.vocab[word].vector\n",
    "        list_of_matrix.append(matrix)\n",
    "        for row in range(self.rows):\n",
    "            self.final_feature_matrix[row,:] = list_of_matrix[row].mean(axis = 0)\n",
    "    \n",
    "    def clust(self, modelo = 'PCA', dimensao = 2, clusters = 3):\n",
    "        self.clusters = clusters\n",
    "        self.modelo = modelo\n",
    "        self.dimensao = dimensao\n",
    "        self.labels = []\n",
    "        try:\n",
    "            if modelo == 'PCA':\n",
    "                self.pca = PCA(n_components=dimensao)\n",
    "                self.principalComponents = self.pca.fit_transform(self.final_feature_matrix)\n",
    "                self.kmeans = KMeans(n_clusters=clusters, random_state=0).fit(self.principalComponents)\n",
    "                self.labels = kmeans.labels_\n",
    "                return self.labels\n",
    "            elif modelo == 'ICA':\n",
    "                self.ica = FastICA(n_components=dimensao, random_state= 0)\n",
    "                self.principalComponents = self.ica.fit_transform(self.final_feature_matrix)\n",
    "                self.kmeans = KMeans(n_clusters=clusters, random_state=0).fit(self.principalComponents)\n",
    "                self.labels = self.kmeans.labels_\n",
    "                return self.labels\n",
    "            else:\n",
    "                print('A classe foi criada com suporte apenas para os modelos PCA e ICA')\n",
    "        except:\n",
    "            print('Os dados precisam serem vetorizados antes com o método .to_vector()')\n",
    "    def graf(self):\n",
    "        try:\n",
    "            if self.dimensao == 2:\n",
    "                plt.figure(figsize = [12,8])\n",
    "                plt.title('Agrupamento pelo KMeans')\n",
    "                plt.scatter(self.principalComponents[:,0], self.principalComponents[:,1],  \n",
    "                c = self.kmeans.predict(self.principalComponents), cmap = plt.cm.Paired)\n",
    "                for centr in self.kmeans.cluster_centers_:\n",
    "                    plt.scatter(centr[0], centr[1], s = 100, marker = 'x', c = 'black', lw = 7)\n",
    "                plt.show()\n",
    "            else:\n",
    "                print(\"Só conseguimos criar o gráfico se a dimensão do redimensionamento for igual a dois.\")\n",
    "        except:\n",
    "            print('A clusterização precisa ser feita antes com o metodo .clust()')"
   ]
  },
  {
   "cell_type": "markdown",
   "id": "a89c2878",
   "metadata": {},
   "source": [
    "Vamos escolher o modelo ICA com n = 2 como o modelo final para o sistema de recomendação que iremos criar\n",
    "\n",
    "Agora repetiremos o processo feito com nossa base de dados, agora usando a classe criada acima."
   ]
  },
  {
   "cell_type": "code",
   "execution_count": 37,
   "id": "ed6f10c1",
   "metadata": {},
   "outputs": [],
   "source": [
    "# aqui precisamos usar o dataset na versão original, por isso estamos aplicando a função em 'news_df1'\n",
    "\n",
    "prepro1 = preprocessamento_total(data = news_df1, coluna = 'news_article')"
   ]
  },
  {
   "cell_type": "code",
   "execution_count": 38,
   "id": "0c7c0176",
   "metadata": {},
   "outputs": [
    {
     "data": {
      "text/html": [
       "<div>\n",
       "<style scoped>\n",
       "    .dataframe tbody tr th:only-of-type {\n",
       "        vertical-align: middle;\n",
       "    }\n",
       "\n",
       "    .dataframe tbody tr th {\n",
       "        vertical-align: top;\n",
       "    }\n",
       "\n",
       "    .dataframe thead th {\n",
       "        text-align: right;\n",
       "    }\n",
       "</style>\n",
       "<table border=\"1\" class=\"dataframe\">\n",
       "  <thead>\n",
       "    <tr style=\"text-align: right;\">\n",
       "      <th></th>\n",
       "      <th>news_headline</th>\n",
       "      <th>news_article</th>\n",
       "      <th>news_category</th>\n",
       "    </tr>\n",
       "  </thead>\n",
       "  <tbody>\n",
       "    <tr>\n",
       "      <th>0</th>\n",
       "      <td>S Korean college's toilet makes power from poo...</td>\n",
       "      <td>South Korea's Ulsan National Institute of Scie...</td>\n",
       "      <td>technology</td>\n",
       "    </tr>\n",
       "    <tr>\n",
       "      <th>1</th>\n",
       "      <td>101-carat diamond auctioned for ₹91 crore in c...</td>\n",
       "      <td>A 101.38-carat diamond has been auctioned at S...</td>\n",
       "      <td>technology</td>\n",
       "    </tr>\n",
       "    <tr>\n",
       "      <th>2</th>\n",
       "      <td>SC to hear Centre's plea on transfer of petiti...</td>\n",
       "      <td>The Supreme Court has said the Centre's plea s...</td>\n",
       "      <td>technology</td>\n",
       "    </tr>\n",
       "    <tr>\n",
       "      <th>3</th>\n",
       "      <td>Microsoft giving ₹1.1 lakh pandemic bonus to e...</td>\n",
       "      <td>Microsoft is giving a $1,500 (over ₹1.1 lakh) ...</td>\n",
       "      <td>technology</td>\n",
       "    </tr>\n",
       "    <tr>\n",
       "      <th>4</th>\n",
       "      <td>Amazon asks managers to hide performance-impro...</td>\n",
       "      <td>Amazon instructs its managers not to let emplo...</td>\n",
       "      <td>technology</td>\n",
       "    </tr>\n",
       "    <tr>\n",
       "      <th>...</th>\n",
       "      <td>...</td>\n",
       "      <td>...</td>\n",
       "      <td>...</td>\n",
       "    </tr>\n",
       "    <tr>\n",
       "      <th>70</th>\n",
       "      <td>Uttarakhand CM meets PM Modi, requests AIIMS i...</td>\n",
       "      <td>Newly-appointed Uttarakhand CM Pushkar Singh D...</td>\n",
       "      <td>politics</td>\n",
       "    </tr>\n",
       "    <tr>\n",
       "      <th>71</th>\n",
       "      <td>Oppn must come together, else history won't fo...</td>\n",
       "      <td>Leader of Opposition in Bihar Assembly, Tejash...</td>\n",
       "      <td>politics</td>\n",
       "    </tr>\n",
       "    <tr>\n",
       "      <th>72</th>\n",
       "      <td>He's admired across the spectrum: PM Modi on R...</td>\n",
       "      <td>PM Narendra Modi on Saturday greeted Defence M...</td>\n",
       "      <td>politics</td>\n",
       "    </tr>\n",
       "    <tr>\n",
       "      <th>73</th>\n",
       "      <td>200 people will protest near Parliament from J...</td>\n",
       "      <td>Bhartiya Kisan Union (BKU) leader Rakesh Tikai...</td>\n",
       "      <td>politics</td>\n",
       "    </tr>\n",
       "    <tr>\n",
       "      <th>74</th>\n",
       "      <td>Bullock cart used during protest against fuel ...</td>\n",
       "      <td>A bullock cart, on which Congress workers and ...</td>\n",
       "      <td>politics</td>\n",
       "    </tr>\n",
       "  </tbody>\n",
       "</table>\n",
       "<p>75 rows × 3 columns</p>\n",
       "</div>"
      ],
      "text/plain": [
       "                                        news_headline  \\\n",
       "0   S Korean college's toilet makes power from poo...   \n",
       "1   101-carat diamond auctioned for ₹91 crore in c...   \n",
       "2   SC to hear Centre's plea on transfer of petiti...   \n",
       "3   Microsoft giving ₹1.1 lakh pandemic bonus to e...   \n",
       "4   Amazon asks managers to hide performance-impro...   \n",
       "..                                                ...   \n",
       "70  Uttarakhand CM meets PM Modi, requests AIIMS i...   \n",
       "71  Oppn must come together, else history won't fo...   \n",
       "72  He's admired across the spectrum: PM Modi on R...   \n",
       "73  200 people will protest near Parliament from J...   \n",
       "74  Bullock cart used during protest against fuel ...   \n",
       "\n",
       "                                         news_article news_category  \n",
       "0   South Korea's Ulsan National Institute of Scie...    technology  \n",
       "1   A 101.38-carat diamond has been auctioned at S...    technology  \n",
       "2   The Supreme Court has said the Centre's plea s...    technology  \n",
       "3   Microsoft is giving a $1,500 (over ₹1.1 lakh) ...    technology  \n",
       "4   Amazon instructs its managers not to let emplo...    technology  \n",
       "..                                                ...           ...  \n",
       "70  Newly-appointed Uttarakhand CM Pushkar Singh D...      politics  \n",
       "71  Leader of Opposition in Bihar Assembly, Tejash...      politics  \n",
       "72  PM Narendra Modi on Saturday greeted Defence M...      politics  \n",
       "73  Bhartiya Kisan Union (BKU) leader Rakesh Tikai...      politics  \n",
       "74  A bullock cart, on which Congress workers and ...      politics  \n",
       "\n",
       "[75 rows x 3 columns]"
      ]
     },
     "execution_count": 38,
     "metadata": {},
     "output_type": "execute_result"
    }
   ],
   "source": [
    "# conferindo a base de dados\n",
    "\n",
    "prepro1.data"
   ]
  },
  {
   "cell_type": "code",
   "execution_count": 39,
   "id": "0f9a6155",
   "metadata": {},
   "outputs": [],
   "source": [
    "# fazendo o pré-processamento\n",
    "\n",
    "prepro1.preprocess()"
   ]
  },
  {
   "cell_type": "code",
   "execution_count": 40,
   "id": "6456716d",
   "metadata": {},
   "outputs": [
    {
     "data": {
      "text/html": [
       "<div>\n",
       "<style scoped>\n",
       "    .dataframe tbody tr th:only-of-type {\n",
       "        vertical-align: middle;\n",
       "    }\n",
       "\n",
       "    .dataframe tbody tr th {\n",
       "        vertical-align: top;\n",
       "    }\n",
       "\n",
       "    .dataframe thead th {\n",
       "        text-align: right;\n",
       "    }\n",
       "</style>\n",
       "<table border=\"1\" class=\"dataframe\">\n",
       "  <thead>\n",
       "    <tr style=\"text-align: right;\">\n",
       "      <th></th>\n",
       "      <th>news_headline</th>\n",
       "      <th>news_article</th>\n",
       "      <th>news_category</th>\n",
       "      <th>token</th>\n",
       "    </tr>\n",
       "  </thead>\n",
       "  <tbody>\n",
       "    <tr>\n",
       "      <th>0</th>\n",
       "      <td>S Korean college's toilet makes power from poo...</td>\n",
       "      <td>South Korea's Ulsan National Institute of Scie...</td>\n",
       "      <td>technology</td>\n",
       "      <td>[south, korea, ulsan, national, institute, sci...</td>\n",
       "    </tr>\n",
       "    <tr>\n",
       "      <th>1</th>\n",
       "      <td>101-carat diamond auctioned for ₹91 crore in c...</td>\n",
       "      <td>A 101.38-carat diamond has been auctioned at S...</td>\n",
       "      <td>technology</td>\n",
       "      <td>[carat, diamond, auctioned, sotheby, crore, mi...</td>\n",
       "    </tr>\n",
       "    <tr>\n",
       "      <th>2</th>\n",
       "      <td>SC to hear Centre's plea on transfer of petiti...</td>\n",
       "      <td>The Supreme Court has said the Centre's plea s...</td>\n",
       "      <td>technology</td>\n",
       "      <td>[supreme, court, said, centre, plea, seeking, ...</td>\n",
       "    </tr>\n",
       "    <tr>\n",
       "      <th>3</th>\n",
       "      <td>Microsoft giving ₹1.1 lakh pandemic bonus to e...</td>\n",
       "      <td>Microsoft is giving a $1,500 (over ₹1.1 lakh) ...</td>\n",
       "      <td>technology</td>\n",
       "      <td>[microsoft, giving, lakh, pandemic, bonus, emp...</td>\n",
       "    </tr>\n",
       "    <tr>\n",
       "      <th>4</th>\n",
       "      <td>Amazon asks managers to hide performance-impro...</td>\n",
       "      <td>Amazon instructs its managers not to let emplo...</td>\n",
       "      <td>technology</td>\n",
       "      <td>[amazon, instructs, managers, let, employees, ...</td>\n",
       "    </tr>\n",
       "    <tr>\n",
       "      <th>...</th>\n",
       "      <td>...</td>\n",
       "      <td>...</td>\n",
       "      <td>...</td>\n",
       "      <td>...</td>\n",
       "    </tr>\n",
       "    <tr>\n",
       "      <th>70</th>\n",
       "      <td>Uttarakhand CM meets PM Modi, requests AIIMS i...</td>\n",
       "      <td>Newly-appointed Uttarakhand CM Pushkar Singh D...</td>\n",
       "      <td>politics</td>\n",
       "      <td>[newly, appointed, uttarakhand, pushkar, singh...</td>\n",
       "    </tr>\n",
       "    <tr>\n",
       "      <th>71</th>\n",
       "      <td>Oppn must come together, else history won't fo...</td>\n",
       "      <td>Leader of Opposition in Bihar Assembly, Tejash...</td>\n",
       "      <td>politics</td>\n",
       "      <td>[leader, opposition, bihar, assembly, tejashwi...</td>\n",
       "    </tr>\n",
       "    <tr>\n",
       "      <th>72</th>\n",
       "      <td>He's admired across the spectrum: PM Modi on R...</td>\n",
       "      <td>PM Narendra Modi on Saturday greeted Defence M...</td>\n",
       "      <td>politics</td>\n",
       "      <td>[narendra, modi, saturday, greeted, defence, m...</td>\n",
       "    </tr>\n",
       "    <tr>\n",
       "      <th>73</th>\n",
       "      <td>200 people will protest near Parliament from J...</td>\n",
       "      <td>Bhartiya Kisan Union (BKU) leader Rakesh Tikai...</td>\n",
       "      <td>politics</td>\n",
       "      <td>[bhartiya, kisan, union, bku, leader, rakesh, ...</td>\n",
       "    </tr>\n",
       "    <tr>\n",
       "      <th>74</th>\n",
       "      <td>Bullock cart used during protest against fuel ...</td>\n",
       "      <td>A bullock cart, on which Congress workers and ...</td>\n",
       "      <td>politics</td>\n",
       "      <td>[bullock, cart, congress, workers, leaders, pr...</td>\n",
       "    </tr>\n",
       "  </tbody>\n",
       "</table>\n",
       "<p>75 rows × 4 columns</p>\n",
       "</div>"
      ],
      "text/plain": [
       "                                        news_headline  \\\n",
       "0   S Korean college's toilet makes power from poo...   \n",
       "1   101-carat diamond auctioned for ₹91 crore in c...   \n",
       "2   SC to hear Centre's plea on transfer of petiti...   \n",
       "3   Microsoft giving ₹1.1 lakh pandemic bonus to e...   \n",
       "4   Amazon asks managers to hide performance-impro...   \n",
       "..                                                ...   \n",
       "70  Uttarakhand CM meets PM Modi, requests AIIMS i...   \n",
       "71  Oppn must come together, else history won't fo...   \n",
       "72  He's admired across the spectrum: PM Modi on R...   \n",
       "73  200 people will protest near Parliament from J...   \n",
       "74  Bullock cart used during protest against fuel ...   \n",
       "\n",
       "                                         news_article news_category  \\\n",
       "0   South Korea's Ulsan National Institute of Scie...    technology   \n",
       "1   A 101.38-carat diamond has been auctioned at S...    technology   \n",
       "2   The Supreme Court has said the Centre's plea s...    technology   \n",
       "3   Microsoft is giving a $1,500 (over ₹1.1 lakh) ...    technology   \n",
       "4   Amazon instructs its managers not to let emplo...    technology   \n",
       "..                                                ...           ...   \n",
       "70  Newly-appointed Uttarakhand CM Pushkar Singh D...      politics   \n",
       "71  Leader of Opposition in Bihar Assembly, Tejash...      politics   \n",
       "72  PM Narendra Modi on Saturday greeted Defence M...      politics   \n",
       "73  Bhartiya Kisan Union (BKU) leader Rakesh Tikai...      politics   \n",
       "74  A bullock cart, on which Congress workers and ...      politics   \n",
       "\n",
       "                                                token  \n",
       "0   [south, korea, ulsan, national, institute, sci...  \n",
       "1   [carat, diamond, auctioned, sotheby, crore, mi...  \n",
       "2   [supreme, court, said, centre, plea, seeking, ...  \n",
       "3   [microsoft, giving, lakh, pandemic, bonus, emp...  \n",
       "4   [amazon, instructs, managers, let, employees, ...  \n",
       "..                                                ...  \n",
       "70  [newly, appointed, uttarakhand, pushkar, singh...  \n",
       "71  [leader, opposition, bihar, assembly, tejashwi...  \n",
       "72  [narendra, modi, saturday, greeted, defence, m...  \n",
       "73  [bhartiya, kisan, union, bku, leader, rakesh, ...  \n",
       "74  [bullock, cart, congress, workers, leaders, pr...  \n",
       "\n",
       "[75 rows x 4 columns]"
      ]
     },
     "execution_count": 40,
     "metadata": {},
     "output_type": "execute_result"
    }
   ],
   "source": [
    "# conferindo a base de dados mais uma vez\n",
    "\n",
    "prepro1.data"
   ]
  },
  {
   "cell_type": "code",
   "execution_count": 41,
   "id": "33c7acb3",
   "metadata": {},
   "outputs": [],
   "source": [
    "# fazendo a vetorização\n",
    "\n",
    "prepro1.to_vector()"
   ]
  },
  {
   "cell_type": "code",
   "execution_count": 42,
   "id": "82b83402",
   "metadata": {},
   "outputs": [
    {
     "data": {
      "text/plain": [
       "array([2, 2, 2, 2, 2, 2, 2, 2, 2, 2, 2, 2, 2, 0, 2, 2, 2, 2, 2, 2, 2, 2,\n",
       "       2, 1, 2, 0, 1, 0, 1, 2, 0, 0, 1, 0, 0, 0, 1, 0, 0, 0, 0, 0, 0, 0,\n",
       "       0, 0, 0, 0, 0, 0, 1, 1, 2, 1, 1, 1, 2, 1, 1, 1, 1, 1, 1, 1, 1, 1,\n",
       "       1, 1, 1, 1, 1, 1, 1, 1, 1])"
      ]
     },
     "execution_count": 42,
     "metadata": {},
     "output_type": "execute_result"
    }
   ],
   "source": [
    "# redimensionamento e clusterização\n",
    "\n",
    "prepro1.clust('ICA', dimensao= 2, clusters=3)"
   ]
  },
  {
   "cell_type": "markdown",
   "id": "8e1018e4",
   "metadata": {},
   "source": [
    "Como redimensionamos para 2 dimensões, podemos conferir o gráfico feito pela clusterização com o KMeans."
   ]
  },
  {
   "cell_type": "code",
   "execution_count": 43,
   "id": "d27aabac",
   "metadata": {},
   "outputs": [
    {
     "data": {
      "image/png": "[encoded data removed]",
      "text/plain": [
       "<Figure size 864x576 with 1 Axes>"
      ]
     },
     "metadata": {
      "needs_background": "light"
     },
     "output_type": "display_data"
    }
   ],
   "source": [
    "prepro1.graf()"
   ]
  },
  {
   "cell_type": "markdown",
   "id": "3b13c700",
   "metadata": {},
   "source": [
    "Antes de criar nosso sistema de recomendação, iremos fazer mais uma análise, vamos ver a distancia de cada um dos pontos das clusterizações estão seu centro."
   ]
  },
  {
   "cell_type": "code",
   "execution_count": 44,
   "id": "11f8c796",
   "metadata": {},
   "outputs": [
    {
     "data": {
      "text/plain": [
       "array([[ 0.14583512, -0.08038071],\n",
       "       [-0.00436446,  0.12756044],\n",
       "       [-0.11308972, -0.0724499 ]])"
      ]
     },
     "execution_count": 44,
     "metadata": {},
     "output_type": "execute_result"
    }
   ],
   "source": [
    "# centros dos clusters\n",
    "\n",
    "centros = prepro1.kmeans.cluster_centers_\n",
    "\n",
    "centros"
   ]
  },
  {
   "cell_type": "code",
   "execution_count": 45,
   "id": "bd5ade78",
   "metadata": {},
   "outputs": [],
   "source": [
    "# pegando cada componente da clusterização\n",
    "\n",
    "componente0 = prepro1.principalComponents[prepro1.kmeans.labels_ == 0]\n",
    "componente1 = prepro1.principalComponents[prepro1.kmeans.labels_ == 1]\n",
    "componente2 = prepro1.principalComponents[prepro1.kmeans.labels_ == 2]"
   ]
  },
  {
   "cell_type": "markdown",
   "id": "9e029d78",
   "metadata": {},
   "source": [
    "Agora vamos criar uma função para calcular a distância de cada um dos pontos desse clusters aos centros, e depois pegaremos o máximo de cada."
   ]
  },
  {
   "cell_type": "code",
   "execution_count": 46,
   "id": "0b7c22c5",
   "metadata": {},
   "outputs": [],
   "source": [
    "def dist(x,y):\n",
    "    d = np.sqrt((x[0]-y[0])**2 + (x[1]-y[1])**2)\n",
    "    return d"
   ]
  },
  {
   "cell_type": "code",
   "execution_count": 47,
   "id": "e8aad2d0",
   "metadata": {},
   "outputs": [
    {
     "name": "stdout",
     "output_type": "stream",
     "text": [
      "0.22084207983129947 0.3763411041847631 0.33232230451564154\n"
     ]
    }
   ],
   "source": [
    "MaiorDistancia0 = max([dist(centros[0],y) for  y in componente0])\n",
    "MaiorDistancia1 = max([dist(centros[0],y) for  y in componente1])\n",
    "MaiorDistancia2 = max([dist(centros[0],y) for  y in componente2])\n",
    "\n",
    "print(MaiorDistancia0, MaiorDistancia1, MaiorDistancia2)"
   ]
  },
  {
   "cell_type": "code",
   "execution_count": 48,
   "id": "ff892667",
   "metadata": {},
   "outputs": [
    {
     "name": "stdout",
     "output_type": "stream",
     "text": [
      "13    technology\n",
      "25        sports\n",
      "27        sports\n",
      "30        sports\n",
      "31        sports\n",
      "33        sports\n",
      "34        sports\n",
      "35        sports\n",
      "37        sports\n",
      "38        sports\n",
      "39        sports\n",
      "40        sports\n",
      "41        sports\n",
      "42        sports\n",
      "43        sports\n",
      "44        sports\n",
      "45        sports\n",
      "46        sports\n",
      "47        sports\n",
      "48        sports\n",
      "49        sports\n",
      "Name: news_category, dtype: object\n",
      "23    technology\n",
      "26        sports\n",
      "28        sports\n",
      "32        sports\n",
      "36        sports\n",
      "50      politics\n",
      "51      politics\n",
      "53      politics\n",
      "54      politics\n",
      "55      politics\n",
      "57      politics\n",
      "58      politics\n",
      "59      politics\n",
      "60      politics\n",
      "61      politics\n",
      "62      politics\n",
      "63      politics\n",
      "64      politics\n",
      "65      politics\n",
      "66      politics\n",
      "67      politics\n",
      "68      politics\n",
      "69      politics\n",
      "70      politics\n",
      "71      politics\n",
      "72      politics\n",
      "73      politics\n",
      "74      politics\n",
      "Name: news_category, dtype: object\n",
      "0     technology\n",
      "1     technology\n",
      "2     technology\n",
      "3     technology\n",
      "4     technology\n",
      "5     technology\n",
      "6     technology\n",
      "7     technology\n",
      "8     technology\n",
      "9     technology\n",
      "10    technology\n",
      "11    technology\n",
      "12    technology\n",
      "14    technology\n",
      "15    technology\n",
      "16    technology\n",
      "17    technology\n",
      "18    technology\n",
      "19    technology\n",
      "20    technology\n",
      "21    technology\n",
      "22    technology\n",
      "24    technology\n",
      "29        sports\n",
      "52      politics\n",
      "56      politics\n",
      "Name: news_category, dtype: object\n"
     ]
    }
   ],
   "source": [
    "# relembrando as principais categorias dos clusters:\n",
    "\n",
    "print(news_df[\"news_category\"][prepro1.kmeans.labels_ == 0]) \n",
    "print(news_df[\"news_category\"][prepro1.kmeans.labels_ == 1])\n",
    "print(news_df[\"news_category\"][prepro1.kmeans.labels_ == 2])"
   ]
  },
  {
   "cell_type": "markdown",
   "id": "3043f8b3",
   "metadata": {},
   "source": [
    "Terminamos então toda a análise exploratória necessária para conseguirmos criar nosso sistema de recomendação dos textos.\n",
    "\n",
    "# Sistema de recomendação.\n",
    "\n",
    "Vamos criar um sistema de recomendação onde o usuário nos diz uma categoria de texto no qual ele quer ler algo sobre (tecnologia, sports ou politica) e o sistema retornará um dos textos do nosso dataset, em seguida o usuario vai indicar se gostou ou não do texto recomendado, caso ele tenha gostado, o programa será finalizado, caso ele não tenha gostado, o programa retornada outro texto da mesma categoria. Os textos que não forem bem avaliados serão todos salvos em uma lista, para que depois possamos fazer uma nova análise sobre eles e ver o que pode ter ocorrido para tal.\n",
    "\n",
    "Claro que esse sistema é algo bem simples, porém é apenas uma ideia do que podemos fazer com dados relacionadoso a textos, trabalhando mais nele, aperfeicoando e o tornando mais eficiente.\n",
    "\n",
    "### Estratégia para construção do sistema.\n",
    "\n",
    "A classe que criaremos fará os seguintes passos:\n",
    "\n",
    "__1: Pega o nome do tema escolhido pelo usuário__\n",
    "\n",
    "__2: Escolhe o ponto mas perto do centro do cluster do tema escolhido__\n",
    "\n",
    "__3: Retorna o texto e pede para o usuário avaliar positivamente ou negativamente o texto__\n",
    "\n",
    "__4: Coloca na tebela de usuario-item a nota dada pela avaliação dele.__\n",
    "\n",
    "__5: Além disso, caso o usuário queira ler outro texto do mesmo tema ou outro, ele terá essa opção.__\n",
    "\n",
    "O mais interessante é que com o passar do tempo, a medida que os usuários forem se cadastrando no sistema, nos teremos uma tabela de recomendação mais robusta, podendo futuramente, fazer a sua fatoração ou alguma outra tecnica possível.\n",
    "\n"
   ]
  },
  {
   "cell_type": "markdown",
   "id": "17685239",
   "metadata": {},
   "source": [
    "Construimos a classe do sistema de recomendação da seguinte forma:\n",
    "\n",
    "__1 - Construtor da classe recebe o dataset, o nome da coluna que se encontra os textos, as categorias na ordem da clusterização feita pelo modelo.__\n",
    "\n",
    "__2 - O método usuário adiciona o usuário a matriz de usuário x item.__\n",
    "\n",
    "__3 - O método recomendação pede ao usuário o tema desejado e retorna um texto de acordo com os clusters, em seguida, já pede a avaliação do usuário e adiciona esse nota na tabela usuário x item.__\n",
    "\n"
   ]
  },
  {
   "cell_type": "code",
   "execution_count": 49,
   "id": "fce077af",
   "metadata": {},
   "outputs": [],
   "source": [
    "class sistemaAvaliacaoTextos():\n",
    "\n",
    "    def __init__(self, data, coluna, categorias, modelo):\n",
    "        self.data = data\n",
    "        self.coluna = coluna\n",
    "        self.categorias = categorias\n",
    "        self.modelo = modelo\n",
    "        df = np.empty([1, data.shape[0]])\n",
    "        df[:] = np.nan\n",
    "        self.tabelaRecomendação = pd.DataFrame(df)\n",
    "        \n",
    "    \n",
    "    def usuario(self, user):\n",
    "        self.user = user\n",
    "        df1 = np.empty([1, self.data.shape[0]])\n",
    "        df1[:] = np.nan\n",
    "        self.tabelaRecomendação = pd.concat([self.tabelaRecomendação,pd.DataFrame(df1)], axis = 0).reset_index().drop('index', axis = 1)\n",
    "        print('Usuário criado com sucesso')\n",
    "        \n",
    "    \n",
    "    def recomendacao(self, i):\n",
    "        self.listaCategorias = []\n",
    "        for n in range(len(self.categorias)):\n",
    "            X = self.modelo.data[self.modelo.kmeans.labels_ == n].reset_index()\n",
    "            self.listaCategorias.append(X) \n",
    "        tema = input('Qual tema você deseja escolher para leitura?\\n\\n')\n",
    "        for n1 in range(len(self.categorias)):\n",
    "            if tema.lower() == self.categorias[n1]:\n",
    "                print('\\nTexto: \\n')\n",
    "                print(self.listaCategorias[n1][self.coluna][i])\n",
    "                self.avaliacao(i, n1)\n",
    "                \n",
    "    def avaliacao(self, i, categ):\n",
    "        self.lugarNota = []\n",
    "        for n in range(len(self.data[self.coluna])):\n",
    "            if self.data[self.coluna][n] == self.listaCategorias[categ][self.coluna][i]:\n",
    "                self.lugarNota.append(n)\n",
    "        \n",
    "        ava = int(input('Qual nota você dá para o texto?'))\n",
    "        while (ava <0) or (ava >5):\n",
    "            print('A nota precisa tem que ser um valro entre 0 e 5')\n",
    "            \n",
    "        self.tabelaRecomendação.iloc[-1,self.lugarNota[0]] = float(ava)\n",
    "        \n",
    "        desejo = input('\\nObrigado pela Avaliação. \\n\\nDeseja ler outro texto?\\n\\n')\n",
    "        if desejo.lower() == 'sim':\n",
    "            self.recomendacao(i+1)\n",
    "        elif desejo.lower() == 'não':\n",
    "            print('Agradecemos o uso do sistema e até breve!')\n",
    "        else:\n",
    "            print('Desculpa, mas não consegui entender, volte sempre.')\n",
    "        \n",
    "    \n",
    "        "
   ]
  },
  {
   "cell_type": "markdown",
   "id": "2e6c5213",
   "metadata": {},
   "source": [
    "Vamos então criar o sistema usando o dataset 'news_df1', o modelo para clusterização 'prepro1' já criado anteriormente e as categorias ['sports', 'politics', 'technology'], pois como vimos mais acima, a clusterização foi feita nessa ordem."
   ]
  },
  {
   "cell_type": "code",
   "execution_count": 50,
   "id": "de4f916b",
   "metadata": {},
   "outputs": [],
   "source": [
    "recomenda1 = sistemaAvaliacaoTextos(news_df1, 'news_article', ['sports','politics','technology',], prepro1)"
   ]
  },
  {
   "cell_type": "code",
   "execution_count": 51,
   "id": "4e9c7028",
   "metadata": {},
   "outputs": [
    {
     "name": "stdout",
     "output_type": "stream",
     "text": [
      "Usuário criado com sucesso\n"
     ]
    }
   ],
   "source": [
    "# criando um usuário\n",
    "\n",
    "luan = recomenda1.usuario('luan')"
   ]
  },
  {
   "cell_type": "code",
   "execution_count": 52,
   "id": "30851cfc",
   "metadata": {},
   "outputs": [
    {
     "name": "stdout",
     "output_type": "stream",
     "text": [
      "Qual tema você deseja escolher para leitura?\n",
      "\n",
      "sports\n",
      "\n",
      "Texto: \n",
      "\n",
      "Rio de Janeiro officials will allow limited attendance of up to 6,500 spectators, or 10% of the Maracana Stadium's capacity, for Saturday's Copa America final between Brazil and Argentina, the Mayor's office said on Friday. Only those invited by South American football federation CONMEBOL will be allowed to attend. Attendees will be spread throughout the entire stadium this time.\n",
      "Qual nota você dá para o texto?5\n",
      "\n",
      "Obrigado pela Avaliação. \n",
      "\n",
      "Deseja ler outro texto?\n",
      "\n",
      "sim\n",
      "Qual tema você deseja escolher para leitura?\n",
      "\n",
      "politics\n",
      "\n",
      "Texto: \n",
      "\n",
      "Reacting to Union Minister Jyotiraditya Scindia's inclusion in Prime Minister Narendra Modi's cabinet, Madhya Pradesh Congress chief Kamal Nath on Friday said, \"Ab kaise aage chalti hai gaadi wo dekha jayega (It will be seen how this vehicle moves forward).\" \"Cabinet berth is a matter between Scindia and the BJP. May he be happy,\" Nath added.  \n",
      "Qual nota você dá para o texto?4\n",
      "\n",
      "Obrigado pela Avaliação. \n",
      "\n",
      "Deseja ler outro texto?\n",
      "\n",
      "sim\n",
      "Qual tema você deseja escolher para leitura?\n",
      "\n",
      "technology\n",
      "\n",
      "Texto: \n",
      "\n",
      "A 47-year-old Swedish man, Roger Nils-Jonas Karlsson, who ran an investment fraud scheme from 2011 till 2019 has been sentenced to 15 years in prison in the US. Karlsson encouraged victims to buy shares in the scheme using cryptocurrencies like Bitcoin, promising \"astronomical returns\" tied to the price of gold. He has been ordered to pay back over $16 million.\n",
      "Qual nota você dá para o texto?2\n",
      "\n",
      "Obrigado pela Avaliação. \n",
      "\n",
      "Deseja ler outro texto?\n",
      "\n",
      "não\n",
      "Agradecemos o uso do sistema e até breve!\n"
     ]
    }
   ],
   "source": [
    "# fazendo a recomendação e avaliação, iremos pedir um texto de cada categoria e analisar.\n",
    "\n",
    "recomenda1.recomendacao(10)"
   ]
  },
  {
   "cell_type": "markdown",
   "id": "796c2cc3",
   "metadata": {},
   "source": [
    "### As recomendações baseadas nos clusters estão muito boas, é claro que podemos melhorar muito essa parte, principalmente se tratando de layout, porém já temos uma ideia de como o sistema funciona, vamos ver agora a tabela de recomendações"
   ]
  },
  {
   "cell_type": "code",
   "execution_count": 53,
   "id": "55133568",
   "metadata": {},
   "outputs": [
    {
     "data": {
      "text/html": [
       "<div>\n",
       "<style scoped>\n",
       "    .dataframe tbody tr th:only-of-type {\n",
       "        vertical-align: middle;\n",
       "    }\n",
       "\n",
       "    .dataframe tbody tr th {\n",
       "        vertical-align: top;\n",
       "    }\n",
       "\n",
       "    .dataframe thead th {\n",
       "        text-align: right;\n",
       "    }\n",
       "</style>\n",
       "<table border=\"1\" class=\"dataframe\">\n",
       "  <thead>\n",
       "    <tr style=\"text-align: right;\">\n",
       "      <th></th>\n",
       "      <th>0</th>\n",
       "      <th>1</th>\n",
       "      <th>2</th>\n",
       "      <th>3</th>\n",
       "      <th>4</th>\n",
       "      <th>5</th>\n",
       "      <th>6</th>\n",
       "      <th>7</th>\n",
       "      <th>8</th>\n",
       "      <th>9</th>\n",
       "      <th>...</th>\n",
       "      <th>65</th>\n",
       "      <th>66</th>\n",
       "      <th>67</th>\n",
       "      <th>68</th>\n",
       "      <th>69</th>\n",
       "      <th>70</th>\n",
       "      <th>71</th>\n",
       "      <th>72</th>\n",
       "      <th>73</th>\n",
       "      <th>74</th>\n",
       "    </tr>\n",
       "  </thead>\n",
       "  <tbody>\n",
       "    <tr>\n",
       "      <th>0</th>\n",
       "      <td>NaN</td>\n",
       "      <td>NaN</td>\n",
       "      <td>NaN</td>\n",
       "      <td>NaN</td>\n",
       "      <td>NaN</td>\n",
       "      <td>NaN</td>\n",
       "      <td>NaN</td>\n",
       "      <td>NaN</td>\n",
       "      <td>NaN</td>\n",
       "      <td>NaN</td>\n",
       "      <td>...</td>\n",
       "      <td>NaN</td>\n",
       "      <td>NaN</td>\n",
       "      <td>NaN</td>\n",
       "      <td>NaN</td>\n",
       "      <td>NaN</td>\n",
       "      <td>NaN</td>\n",
       "      <td>NaN</td>\n",
       "      <td>NaN</td>\n",
       "      <td>NaN</td>\n",
       "      <td>NaN</td>\n",
       "    </tr>\n",
       "    <tr>\n",
       "      <th>1</th>\n",
       "      <td>NaN</td>\n",
       "      <td>NaN</td>\n",
       "      <td>NaN</td>\n",
       "      <td>NaN</td>\n",
       "      <td>NaN</td>\n",
       "      <td>NaN</td>\n",
       "      <td>NaN</td>\n",
       "      <td>NaN</td>\n",
       "      <td>NaN</td>\n",
       "      <td>NaN</td>\n",
       "      <td>...</td>\n",
       "      <td>NaN</td>\n",
       "      <td>NaN</td>\n",
       "      <td>NaN</td>\n",
       "      <td>NaN</td>\n",
       "      <td>NaN</td>\n",
       "      <td>NaN</td>\n",
       "      <td>NaN</td>\n",
       "      <td>NaN</td>\n",
       "      <td>NaN</td>\n",
       "      <td>NaN</td>\n",
       "    </tr>\n",
       "  </tbody>\n",
       "</table>\n",
       "<p>2 rows × 75 columns</p>\n",
       "</div>"
      ],
      "text/plain": [
       "   0   1   2   3   4   5   6   7   8   9   ...  65  66  67  68  69  70  71  \\\n",
       "0 NaN NaN NaN NaN NaN NaN NaN NaN NaN NaN  ... NaN NaN NaN NaN NaN NaN NaN   \n",
       "1 NaN NaN NaN NaN NaN NaN NaN NaN NaN NaN  ... NaN NaN NaN NaN NaN NaN NaN   \n",
       "\n",
       "   72  73  74  \n",
       "0 NaN NaN NaN  \n",
       "1 NaN NaN NaN  \n",
       "\n",
       "[2 rows x 75 columns]"
      ]
     },
     "execution_count": 53,
     "metadata": {},
     "output_type": "execute_result"
    }
   ],
   "source": [
    "recomenda1.tabelaRecomendação"
   ]
  },
  {
   "cell_type": "code",
   "execution_count": 56,
   "id": "f2f879a5",
   "metadata": {},
   "outputs": [
    {
     "data": {
      "text/plain": [
       "11.0"
      ]
     },
     "execution_count": 56,
     "metadata": {},
     "output_type": "execute_result"
    }
   ],
   "source": [
    "# somando os valores da linha do usuário criado\n",
    "\n",
    "recomenda1.tabelaRecomendação.iloc[1,:].sum()"
   ]
  },
  {
   "cell_type": "markdown",
   "id": "3fe37309",
   "metadata": {},
   "source": [
    "Temos exatamente a soma das notas dadas pelo usuário (5 + 4 + 2), vamos então encontrar essas colunas especificas."
   ]
  },
  {
   "cell_type": "code",
   "execution_count": 57,
   "id": "dc28e30f",
   "metadata": {},
   "outputs": [
    {
     "data": {
      "text/plain": [
       "12    2.0\n",
       "58    4.0\n",
       "39    5.0\n",
       "0     NaN\n",
       "1     NaN\n",
       "     ... \n",
       "70    NaN\n",
       "71    NaN\n",
       "72    NaN\n",
       "73    NaN\n",
       "74    NaN\n",
       "Name: 1, Length: 75, dtype: float64"
      ]
     },
     "execution_count": 57,
     "metadata": {},
     "output_type": "execute_result"
    }
   ],
   "source": [
    "recomenda1.tabelaRecomendação.iloc[1,:].sort_values()"
   ]
  },
  {
   "cell_type": "markdown",
   "id": "ef007370",
   "metadata": {},
   "source": [
    "Encontramos então os textos com suas notas.\n",
    "\n",
    "Como já dito, esse sistema é bem simples e muito pode ser melhorado, por exemplo, as notas dos usuários novos são sempre colocadas na última linha, porém se nosso sistema for on-line e mais de um usuário fizer o cadastro ao mesmo tempo, isso pode gerar conflitos, então temos que pensar como melhorar essa parte do código.\n",
    "\n",
    "Porém mais uma vez também, a ideia aqui é mostrar a possibilidade de crar um sistema de recomendação de textos, tendo como base uma clusterização feita depois de um redimensionamento de textos vetorizados."
   ]
  },
  {
   "cell_type": "markdown",
   "id": "683dac5d",
   "metadata": {},
   "source": [
    "_________________________________________________________________________________________\n",
    "\n",
    "# Classificação\n",
    " \n",
    "Para finalizar vamos fazer mais uma coisa, agora iremos trabalhar com classificação, nesse caso, o usuário não pede um tema, e sim ao contrário, ele insere um texto, e o algoritmo retorna em qual das três categorias o texto se encontra.\n",
    "\n",
    "Nesse caso o algoritmo vai receber o texto do usuario, fazer todo o pré-processamento nesse texto, e depois da vetorização, comparar a distancia dele com os centros dos clusters, e por fim, retornar a classificação do texto.\n",
    "\n",
    "### Antes de criar a função, vamos fazer um passo a passo com um exemplo, peguei um texto curto do site da nba e vamos tentar classifica-lo."
   ]
  },
  {
   "cell_type": "code",
   "execution_count": 58,
   "id": "e1fc2f34",
   "metadata": {},
   "outputs": [
    {
     "data": {
      "text/plain": [
       "'You saw the box score, the team-high 31 points in the Suns’ 118-108 win. But it’s the timeliness and impact of Booker’s production that lifts him to the top spot in this latest installment of our NBA Finals MVP Ladder.'"
      ]
     },
     "execution_count": 58,
     "metadata": {},
     "output_type": "execute_result"
    }
   ],
   "source": [
    "teste = \"You saw the box score, the team-high 31 points in the Suns’ 118-108 win. But it’s the timeliness and impact of Booker’s production that lifts him to the top spot in this latest installment of our NBA Finals MVP Ladder.\"\n",
    "\n",
    "teste"
   ]
  },
  {
   "cell_type": "code",
   "execution_count": 59,
   "id": "270ff090",
   "metadata": {},
   "outputs": [],
   "source": [
    "# fazendo o pré-processamento\n",
    "\n",
    "textoProcessado = preprocess_text(teste)"
   ]
  },
  {
   "cell_type": "code",
   "execution_count": 60,
   "id": "f7ecfe18",
   "metadata": {},
   "outputs": [
    {
     "name": "stdout",
     "output_type": "stream",
     "text": [
      "['saw', 'box', 'score', 'team', 'high', 'points', 'suns', 'win', 'timeliness', 'impact', 'booker', 'production', 'lifts', 'spot', 'latest', 'installment', 'nba', 'finals', 'mvp', 'ladder']\n"
     ]
    }
   ],
   "source": [
    "print(textoProcessado)"
   ]
  },
  {
   "cell_type": "code",
   "execution_count": 61,
   "id": "8f495db8",
   "metadata": {},
   "outputs": [],
   "source": [
    "# vetorizando o texto\n",
    "\n",
    "matrix = np.empty([len(textoProcessado), 300])\n",
    "for idx, word in enumerate(textoProcessado):\n",
    "         matrix[idx,:] = vec(word)\n",
    "final_feature_matrix = np.empty([1, 300])\n",
    "final_feature_matrix = matrix.mean(axis = 0).reshape(1,-1)"
   ]
  },
  {
   "cell_type": "code",
   "execution_count": 62,
   "id": "6dae1d91",
   "metadata": {},
   "outputs": [],
   "source": [
    "# aplicando o ICA que treinamos na nossa classe criada mais acima\n",
    "\n",
    "principalComponents = prepro1.ica.transform(final_feature_matrix)"
   ]
  },
  {
   "cell_type": "code",
   "execution_count": 63,
   "id": "e5aadcb5",
   "metadata": {},
   "outputs": [
    {
     "data": {
      "text/plain": [
       "array([[ 0.13475662, -0.19028812]])"
      ]
     },
     "execution_count": 63,
     "metadata": {},
     "output_type": "execute_result"
    }
   ],
   "source": [
    "principalComponents"
   ]
  },
  {
   "cell_type": "code",
   "execution_count": 64,
   "id": "acb863a2",
   "metadata": {},
   "outputs": [
    {
     "data": {
      "text/plain": [
       "[0.11046434837435044, 0.3469616428563792, 0.2744333336772382]"
      ]
     },
     "execution_count": 64,
     "metadata": {},
     "output_type": "execute_result"
    }
   ],
   "source": [
    "# gora vamos calcular a distancia da componente do meu texto a cada um dos centros dos clusters\n",
    "\n",
    "d1 = dist(principalComponents[0], centros[0])\n",
    "d2 = dist(principalComponents[0], centros[1])\n",
    "d3 = dist(principalComponents[0], centros[2])\n",
    "\n",
    "[d1, d2, d3]"
   ]
  },
  {
   "cell_type": "markdown",
   "id": "e0e2f7e2",
   "metadata": {},
   "source": [
    "Note que o ponto está mais perto do centro de label 0, que como já vimos mais acima, representa o agrupamento da categoria 'sports', portanto, temos um bom resultado.\n",
    "\n",
    "Vamos ver graficamente."
   ]
  },
  {
   "cell_type": "code",
   "execution_count": 65,
   "id": "35886f11",
   "metadata": {},
   "outputs": [
    {
     "data": {
      "image/png": "[encoded data removed]",
      "text/plain": [
       "<Figure size 864x576 with 1 Axes>"
      ]
     },
     "metadata": {
      "needs_background": "light"
     },
     "output_type": "display_data"
    }
   ],
   "source": [
    "principalDf = pd.DataFrame(data = prepro1.principalComponents\n",
    "             ,columns = ['principal component 1', 'principal component 2'])\n",
    "\n",
    "sports = principalDf[prepro1.kmeans.labels_ == 0].reset_index()\n",
    "politics = principalDf[prepro1.kmeans.labels_ == 1].reset_index()\n",
    "technology = principalDf[prepro1.kmeans.labels_ == 2].reset_index()\n",
    "\n",
    "\n",
    "plt.figure(figsize = [12,8])\n",
    "plt.title('Agrupamento pelo KMeans')\n",
    "plt.scatter(sports['principal component 1'], sports['principal component 2'],  \n",
    "            c = 'blue', label = \"Sports\")\n",
    "plt.scatter(politics['principal component 1'], politics['principal component 2'],  \n",
    "            c = 'yellow', label = \"Politics\")  \n",
    "plt.scatter(technology['principal component 1'], technology['principal component 2'],  \n",
    "            c = 'green', label = \"Technology\")  \n",
    "\n",
    "plt.scatter(principalComponents[0][0], principalComponents[0][1], c = 'red', s = 200, label = 'Texto')\n",
    "for centr in prepro1.kmeans.cluster_centers_:\n",
    "    plt.scatter(centr[0], centr[1], s = 100, marker = 'x', c = 'black', lw = 7)\n",
    "plt.legend()\n",
    "plt.show()"
   ]
  },
  {
   "cell_type": "markdown",
   "id": "b6be8593",
   "metadata": {},
   "source": [
    "Conseguimos comprovar graficamente o que já tinhamos visto anteriormente.\n",
    "\n",
    "Um ponto interessante é que conseguimos transformar todo nosso texto em um vetor com 2 coordenadas e com essas duas coordenadas, o algoritmo consegue encontrar a categoria dele.\n",
    "\n",
    "Para finalizar, vamos criar uma função para fazer essa classificação e testar com alguns textos."
   ]
  },
  {
   "cell_type": "code",
   "execution_count": 66,
   "id": "abff915d",
   "metadata": {},
   "outputs": [],
   "source": [
    "def classifi():\n",
    "    texto = input(\"Digite o texto no qual você quer classificar aqui: \\n\\n\")\n",
    "    textoProcessado = preprocess_text(texto)\n",
    "    matrix = np.empty([len(textoProcessado), 300])\n",
    "    for idx, word in enumerate(textoProcessado):\n",
    "         matrix[idx,:] = vec(word)\n",
    "    final_feature_matrix = np.empty([1, 300])\n",
    "    final_feature_matrix = matrix.mean(axis = 0).reshape(1,-1)\n",
    "    principalComponents = prepro1.ica.transform(final_feature_matrix)\n",
    "    d1 = dist(principalComponents[0], centros[0])\n",
    "    d2 = dist(principalComponents[0], centros[1])\n",
    "    d3 = dist(principalComponents[0], centros[2])\n",
    "    lista = [d1,d2,d3]\n",
    "    cluster = np.argmin(lista)\n",
    "    if cluster == 0:\n",
    "        print(\"\\nO seu texto fala sobre Esportes\")\n",
    "    if cluster == 1:\n",
    "        print(\"\\nO seu texto fala sobre Politica\")\n",
    "    if cluster == 2:\n",
    "        print(\"\\nO seu texto fala sobre Tecnologia\")"
   ]
  },
  {
   "cell_type": "code",
   "execution_count": 67,
   "id": "b43e4165",
   "metadata": {},
   "outputs": [
    {
     "name": "stdout",
     "output_type": "stream",
     "text": [
      "Digite o texto no qual você quer classificar aqui: \n",
      "\n",
      "You saw the box score, the team-high 31 points in the Suns’ 118-108 win. But it’s the timeliness and impact of Booker’s production that lifts him to the top spot in this latest installment of our NBA Finals MVP Ladder\n",
      "\n",
      "O seu texto fala sobre Esportes\n"
     ]
    }
   ],
   "source": [
    "# vamos começar com o texto que usamos acima\n",
    "\n",
    "classifi()"
   ]
  },
  {
   "cell_type": "code",
   "execution_count": 68,
   "id": "d4a6e052",
   "metadata": {},
   "outputs": [
    {
     "name": "stdout",
     "output_type": "stream",
     "text": [
      "Digite o texto no qual você quer classificar aqui: \n",
      "\n",
      "Created by British designer Thomas Heatherwick, it is hoped the Airo will go into production in China in 2023, with plans to make a million of them.\n",
      "\n",
      "O seu texto fala sobre Tecnologia\n"
     ]
    }
   ],
   "source": [
    "# agora um texto sobre a criação de um carro \n",
    "\n",
    "classifi()"
   ]
  },
  {
   "cell_type": "code",
   "execution_count": 69,
   "id": "0457ca14",
   "metadata": {},
   "outputs": [
    {
     "name": "stdout",
     "output_type": "stream",
     "text": [
      "Digite o texto no qual você quer classificar aqui: \n",
      "\n",
      "But Moscow denied US claims they had contacted the Russians repeatedly about the cyber-attacks in the past month.\n",
      "\n",
      "O seu texto fala sobre Tecnologia\n"
     ]
    }
   ],
   "source": [
    "# mais um exemplo\n",
    "\n",
    "classifi()"
   ]
  },
  {
   "cell_type": "markdown",
   "id": "2d4675d5",
   "metadata": {},
   "source": [
    "#### Note que apesar do texto poder se tratar também de política, ele fala sobre cyber-attacks, o que também nos permitiria classifica-lo como um texto sobre tecnologia.\n",
    "\n",
    "Vamos fazer um último exemplo, com alguma noticia sobre política mundial."
   ]
  },
  {
   "cell_type": "code",
   "execution_count": 70,
   "id": "f68d9f89",
   "metadata": {},
   "outputs": [
    {
     "name": "stdout",
     "output_type": "stream",
     "text": [
      "Digite o texto no qual você quer classificar aqui: \n",
      "\n",
      "The younger Biden's business dealings in Ukraine, China and elsewhere have often been held up by Republican critics as a conflict of interest for his father, which both Bidens deny.\n",
      "\n",
      "O seu texto fala sobre Politica\n"
     ]
    }
   ],
   "source": [
    "classifi()"
   ]
  },
  {
   "cell_type": "markdown",
   "id": "bac89a45",
   "metadata": {},
   "source": [
    "#### Temos então mais um acerto na nossa classificação.\n",
    "\n",
    "Concluimos aqui nosso notebook com todos os objetivos cumpridos."
   ]
  },
  {
   "cell_type": "code",
   "execution_count": null,
   "id": "04d8e931",
   "metadata": {},
   "outputs": [],
   "source": []
  }
 ],
 "metadata": {
  "kernelspec": {
   "display_name": "Python 3",
   "language": "python",
   "name": "python3"
  },
  "language_info": {
   "codemirror_mode": {
    "name": "ipython",
    "version": 3
   },
   "file_extension": ".py",
   "mimetype": "text/x-python",
   "name": "python",
   "nbconvert_exporter": "python",
   "pygments_lexer": "ipython3",
   "version": "3.8.8"
  },
  "varInspector": {
   "cols": {
    "lenName": 16,
    "lenType": 16,
    "lenVar": 40
   },
   "kernels_config": {
    "python": {
     "delete_cmd_postfix": "",
     "delete_cmd_prefix": "del ",
     "library": "var_list.py",
     "varRefreshCmd": "print(var_dic_list())"
    },
    "r": {
     "delete_cmd_postfix": ") ",
     "delete_cmd_prefix": "rm(",
     "library": "var_list.r",
     "varRefreshCmd": "cat(var_dic_list()) "
    }
   },
   "types_to_exclude": [
    "module",
    "function",
    "builtin_function_or_method",
    "instance",
    "_Feature"
   ],
   "window_display": false
  }
 },
 "nbformat": 4,
 "nbformat_minor": 5
}
