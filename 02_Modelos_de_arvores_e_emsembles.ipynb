{
 "cells": [
  {
   "cell_type": "markdown",
   "metadata": {},
   "source": [
    "### Modelos baseados em árvores\n",
    "\n",
    "<br>\n",
    "\n",
    "Neste exercício, vamos discutir a respeito da metolodia __grid-search__, que otimiza essa busca de hiperparâmetros.\n",
    "\n",
    "Considere o dataset abaixo (basta executar as células):"
   ]
  },
  {
   "cell_type": "code",
   "execution_count": 1,
   "metadata": {},
   "outputs": [],
   "source": [
    "import pandas as pd\n",
    "import numpy as np\n",
    "import matplotlib.pyplot as plt\n",
    "import seaborn as sns\n",
    "sns.set(style = 'darkgrid')"
   ]
  },
  {
   "cell_type": "code",
   "execution_count": 2,
   "metadata": {},
   "outputs": [],
   "source": [
    "from sklearn.datasets import load_diabetes\n",
    "from sklearn.model_selection import train_test_split"
   ]
  },
  {
   "cell_type": "code",
   "execution_count": 3,
   "metadata": {},
   "outputs": [
    {
     "name": "stdout",
     "output_type": "stream",
     "text": [
      "(331, 10) (111, 10) (331,) (111,)\n"
     ]
    }
   ],
   "source": [
    "#problema de regressão\n",
    "\n",
    "X, y = load_diabetes().data, load_diabetes().target\n",
    "Xtrain, Xtest, ytrain, ytest = train_test_split(X, y, test_size = 0.25, random_state = 42)\n",
    "print(Xtrain.shape, Xtest.shape, ytrain.shape, ytest.shape)"
   ]
  },
  {
   "cell_type": "markdown",
   "metadata": {},
   "source": [
    "Imagine que queremos testar - usando cross-validation - várias instâncias de Random Forests: com 10 árvores, com 100 árvores, com 1000 árvores, com profundidade máxima 1, 5, 10. \n",
    "\n",
    "Como podemos proceder? O código abaixo exemplifica um jeito:"
   ]
  },
  {
   "cell_type": "code",
   "execution_count": 4,
   "metadata": {},
   "outputs": [
    {
     "name": "stdout",
     "output_type": "stream",
     "text": [
      "estimators:  10  prof:  1  | R2 mean / std:  0.299404995551587  /  0.03885969324195987\n",
      "estimators:  10  prof:  5  | R2 mean / std:  0.4110591572429194  /  0.05918721014482146\n",
      "estimators:  10  prof:  10  | R2 mean / std:  0.36109220319373136  /  0.05959708769970797\n",
      "estimators:  100  prof:  1  | R2 mean / std:  0.3423582683734492  /  0.02859521546494546\n",
      "estimators:  100  prof:  5  | R2 mean / std:  0.4253338502713404  /  0.04449964775479308\n",
      "estimators:  100  prof:  10  | R2 mean / std:  0.42575630139451653  /  0.024636520501367203\n",
      "estimators:  100  prof:  1  | R2 mean / std:  0.3246461930584648  /  0.04398125243811048\n",
      "estimators:  100  prof:  5  | R2 mean / std:  0.4329811913085015  /  0.038290494429131024\n",
      "estimators:  100  prof:  10  | R2 mean / std:  0.4340969904136609  /  0.03436702580055987\n"
     ]
    }
   ],
   "source": [
    "from sklearn.ensemble import RandomForestRegressor\n",
    "from sklearn.model_selection import cross_val_score\n",
    "\n",
    "for n_est in [10,100,100]:\n",
    "    for prof in [1,5,10]:\n",
    "        rf = RandomForestRegressor(n_estimators=n_est, max_depth=prof)\n",
    "        cvres = cross_val_score(estimator=rf, X = Xtrain, y = ytrain, cv = 3, scoring='r2')\n",
    "        print(\"estimators: \", n_est, \" prof: \", prof, \" | R2 mean / std: \", cvres.mean(), ' / ', cvres.std())"
   ]
  },
  {
   "cell_type": "markdown",
   "metadata": {},
   "source": [
    "Podemos, com algum trabalho, escolher o melhor modelo.\n",
    "\n",
    "Se quisermos testar mais parâmetros, podemos aumentar nosso loop... mais isso vai ficando cada vez mais complicado.\n",
    "\n",
    "A proposta do __grid-search__ é justamente fazer isso de forma mais automática!\n",
    "\n",
    "Podemos importar a função GridSearchCV do módulo model_selection do sklearn e usá-la para isso. \n",
    "Na prática, precisamos definir um __estimador base__ para o grid. Além disso, precisamos definir um __dicionário de parâmetros__ a ser testado. Ainda, definiremos a quantidade de folds para cross-validation e qual a métrica de performance que queremos otimizar:"
   ]
  },
  {
   "cell_type": "code",
   "execution_count": 5,
   "metadata": {},
   "outputs": [],
   "source": [
    "#importando a função\n",
    "from sklearn.model_selection import GridSearchCV"
   ]
  },
  {
   "cell_type": "code",
   "execution_count": 6,
   "metadata": {},
   "outputs": [],
   "source": [
    "#definindo o estimador base\n",
    "estimador_base = RandomForestRegressor()\n",
    "\n",
    "#definindo o dicionario de parâmetros do modelo\n",
    "params_RF = {\"n_estimators\":[10,1000], \"max_depth\":[2,10]}"
   ]
  },
  {
   "cell_type": "code",
   "execution_count": 7,
   "metadata": {},
   "outputs": [
    {
     "data": {
      "text/plain": [
       "GridSearchCV(cv=3, estimator=RandomForestRegressor(), n_jobs=-1,\n",
       "             param_grid={'max_depth': [2, 10], 'n_estimators': [10, 1000]},\n",
       "             scoring='r2')"
      ]
     },
     "execution_count": 7,
     "metadata": {},
     "output_type": "execute_result"
    }
   ],
   "source": [
    "grid = GridSearchCV(estimator = estimador_base, \n",
    "                    param_grid = params_RF, \n",
    "                    scoring = 'r2', \n",
    "                    cv = 3, n_jobs = -1)\n",
    "\n",
    "grid"
   ]
  },
  {
   "cell_type": "code",
   "execution_count": 8,
   "metadata": {},
   "outputs": [
    {
     "data": {
      "text/plain": [
       "GridSearchCV(cv=3, estimator=RandomForestRegressor(), n_jobs=-1,\n",
       "             param_grid={'max_depth': [2, 10], 'n_estimators': [10, 1000]},\n",
       "             scoring='r2')"
      ]
     },
     "execution_count": 8,
     "metadata": {},
     "output_type": "execute_result"
    }
   ],
   "source": [
    "#treinando os modelos no grid\n",
    "grid.fit(Xtrain, ytrain)"
   ]
  },
  {
   "cell_type": "markdown",
   "metadata": {},
   "source": [
    "O objeto \"grid\", após o treinamento acima, conterá várias informações muito relevantes. \n",
    "\n",
    "__1- \"best_params_\":__ retorna os melhores parâmetros, de acordo com a métrica de performance avaliada na cross-validation;\n",
    "\n",
    "__1- \"best_score_\":__ retorna o melhor score - métrica de performance - nos dados de validação;\n",
    "\n",
    "__1- \"best_estimator_\":__ retorna o melhor modelo, já treinado;\n",
    "\n",
    "__1- \"cv_results_\":__ retorna uma visão geral dos resultados."
   ]
  },
  {
   "cell_type": "code",
   "execution_count": 9,
   "metadata": {},
   "outputs": [
    {
     "data": {
      "text/plain": [
       "{'max_depth': 10, 'n_estimators': 1000}"
      ]
     },
     "execution_count": 9,
     "metadata": {},
     "output_type": "execute_result"
    }
   ],
   "source": [
    "grid.best_params_"
   ]
  },
  {
   "cell_type": "code",
   "execution_count": 10,
   "metadata": {},
   "outputs": [
    {
     "data": {
      "text/plain": [
       "0.42528109564360195"
      ]
     },
     "execution_count": 10,
     "metadata": {},
     "output_type": "execute_result"
    }
   ],
   "source": [
    "grid.best_score_"
   ]
  },
  {
   "cell_type": "code",
   "execution_count": 11,
   "metadata": {},
   "outputs": [
    {
     "data": {
      "text/plain": [
       "RandomForestRegressor(max_depth=10, n_estimators=1000)"
      ]
     },
     "execution_count": 11,
     "metadata": {},
     "output_type": "execute_result"
    }
   ],
   "source": [
    "grid.best_estimator_"
   ]
  },
  {
   "cell_type": "code",
   "execution_count": 12,
   "metadata": {},
   "outputs": [
    {
     "data": {
      "text/plain": [
       "{'mean_fit_time': array([0.02943055, 2.002623  , 0.03143676, 2.73169986]),\n",
       " 'std_fit_time': array([0.00170532, 0.03173744, 0.00047233, 0.06453727]),\n",
       " 'mean_score_time': array([0.00301067, 0.11437734, 0.00301067, 0.09631824]),\n",
       " 'std_score_time': array([6.25769923e-07, 1.20679195e-02, 8.10467325e-07, 2.98084054e-02]),\n",
       " 'param_max_depth': masked_array(data=[2, 2, 10, 10],\n",
       "              mask=[False, False, False, False],\n",
       "        fill_value='?',\n",
       "             dtype=object),\n",
       " 'param_n_estimators': masked_array(data=[10, 1000, 10, 1000],\n",
       "              mask=[False, False, False, False],\n",
       "        fill_value='?',\n",
       "             dtype=object),\n",
       " 'params': [{'max_depth': 2, 'n_estimators': 10},\n",
       "  {'max_depth': 2, 'n_estimators': 1000},\n",
       "  {'max_depth': 10, 'n_estimators': 10},\n",
       "  {'max_depth': 10, 'n_estimators': 1000}],\n",
       " 'split0_test_score': array([0.38124835, 0.34849456, 0.3366896 , 0.37446907]),\n",
       " 'split1_test_score': array([0.44139622, 0.44784718, 0.42905037, 0.45058935]),\n",
       " 'split2_test_score': array([0.3655381 , 0.43376737, 0.41475003, 0.45078487]),\n",
       " 'mean_test_score': array([0.39606089, 0.41003637, 0.39349667, 0.4252811 ]),\n",
       " 'std_test_score': array([0.03269222, 0.04389462, 0.0405907 , 0.03592962]),\n",
       " 'rank_test_score': array([3, 2, 4, 1])}"
      ]
     },
     "execution_count": 12,
     "metadata": {},
     "output_type": "execute_result"
    }
   ],
   "source": [
    "grid.cv_results_"
   ]
  },
  {
   "cell_type": "markdown",
   "metadata": {},
   "source": [
    "__Exercício 1:__ Utilizando o dataset abaixo, faça um grid_search com KNN's, Random Forests e GradientBoostings e retorne o melhor modelo de cada tipo.\n",
    "\n",
    "__Obs.:__ Lembre-se de fazer um pré-processamento nos dados!"
   ]
  },
  {
   "cell_type": "code",
   "execution_count": 13,
   "metadata": {},
   "outputs": [
    {
     "name": "stdout",
     "output_type": "stream",
     "text": [
      "(20640, 10)\n"
     ]
    },
    {
     "data": {
      "text/html": [
       "<div>\n",
       "<style scoped>\n",
       "    .dataframe tbody tr th:only-of-type {\n",
       "        vertical-align: middle;\n",
       "    }\n",
       "\n",
       "    .dataframe tbody tr th {\n",
       "        vertical-align: top;\n",
       "    }\n",
       "\n",
       "    .dataframe thead th {\n",
       "        text-align: right;\n",
       "    }\n",
       "</style>\n",
       "<table border=\"1\" class=\"dataframe\">\n",
       "  <thead>\n",
       "    <tr style=\"text-align: right;\">\n",
       "      <th></th>\n",
       "      <th>longitude</th>\n",
       "      <th>latitude</th>\n",
       "      <th>idade_mediana_das_casas</th>\n",
       "      <th>total_comodos</th>\n",
       "      <th>total_quartos</th>\n",
       "      <th>populacao</th>\n",
       "      <th>familias</th>\n",
       "      <th>salario_mediano</th>\n",
       "      <th>preco_mediano_das_casas</th>\n",
       "      <th>proximidade_ao_mar</th>\n",
       "    </tr>\n",
       "  </thead>\n",
       "  <tbody>\n",
       "    <tr>\n",
       "      <th>0</th>\n",
       "      <td>-122.23</td>\n",
       "      <td>37.88</td>\n",
       "      <td>41.0</td>\n",
       "      <td>880.0</td>\n",
       "      <td>129.0</td>\n",
       "      <td>322.0</td>\n",
       "      <td>126.0</td>\n",
       "      <td>8.3252</td>\n",
       "      <td>452600.0</td>\n",
       "      <td>PERTO DA BAÍA</td>\n",
       "    </tr>\n",
       "    <tr>\n",
       "      <th>1</th>\n",
       "      <td>-122.22</td>\n",
       "      <td>37.86</td>\n",
       "      <td>21.0</td>\n",
       "      <td>7099.0</td>\n",
       "      <td>1106.0</td>\n",
       "      <td>2401.0</td>\n",
       "      <td>1138.0</td>\n",
       "      <td>8.3014</td>\n",
       "      <td>358500.0</td>\n",
       "      <td>PERTO DA BAÍA</td>\n",
       "    </tr>\n",
       "    <tr>\n",
       "      <th>2</th>\n",
       "      <td>-122.24</td>\n",
       "      <td>37.85</td>\n",
       "      <td>52.0</td>\n",
       "      <td>1467.0</td>\n",
       "      <td>190.0</td>\n",
       "      <td>496.0</td>\n",
       "      <td>177.0</td>\n",
       "      <td>7.2574</td>\n",
       "      <td>352100.0</td>\n",
       "      <td>PERTO DA BAÍA</td>\n",
       "    </tr>\n",
       "    <tr>\n",
       "      <th>3</th>\n",
       "      <td>-122.25</td>\n",
       "      <td>37.85</td>\n",
       "      <td>52.0</td>\n",
       "      <td>1274.0</td>\n",
       "      <td>235.0</td>\n",
       "      <td>558.0</td>\n",
       "      <td>219.0</td>\n",
       "      <td>5.6431</td>\n",
       "      <td>341300.0</td>\n",
       "      <td>PERTO DA BAÍA</td>\n",
       "    </tr>\n",
       "    <tr>\n",
       "      <th>4</th>\n",
       "      <td>-122.25</td>\n",
       "      <td>37.85</td>\n",
       "      <td>52.0</td>\n",
       "      <td>1627.0</td>\n",
       "      <td>280.0</td>\n",
       "      <td>565.0</td>\n",
       "      <td>259.0</td>\n",
       "      <td>3.8462</td>\n",
       "      <td>342200.0</td>\n",
       "      <td>PERTO DA BAÍA</td>\n",
       "    </tr>\n",
       "  </tbody>\n",
       "</table>\n",
       "</div>"
      ],
      "text/plain": [
       "   longitude  latitude  idade_mediana_das_casas  total_comodos  total_quartos  \\\n",
       "0    -122.23     37.88                     41.0          880.0          129.0   \n",
       "1    -122.22     37.86                     21.0         7099.0         1106.0   \n",
       "2    -122.24     37.85                     52.0         1467.0          190.0   \n",
       "3    -122.25     37.85                     52.0         1274.0          235.0   \n",
       "4    -122.25     37.85                     52.0         1627.0          280.0   \n",
       "\n",
       "   populacao  familias  salario_mediano  preco_mediano_das_casas  \\\n",
       "0      322.0     126.0           8.3252                 452600.0   \n",
       "1     2401.0    1138.0           8.3014                 358500.0   \n",
       "2      496.0     177.0           7.2574                 352100.0   \n",
       "3      558.0     219.0           5.6431                 341300.0   \n",
       "4      565.0     259.0           3.8462                 342200.0   \n",
       "\n",
       "  proximidade_ao_mar  \n",
       "0      PERTO DA BAÍA  \n",
       "1      PERTO DA BAÍA  \n",
       "2      PERTO DA BAÍA  \n",
       "3      PERTO DA BAÍA  \n",
       "4      PERTO DA BAÍA  "
      ]
     },
     "execution_count": 13,
     "metadata": {},
     "output_type": "execute_result"
    }
   ],
   "source": [
    "#preco_mediano_das_casas é a variável target\n",
    "df = pd.read_csv(\"preco_casas.csv\")\n",
    "print(df.shape)\n",
    "df.head()"
   ]
  },
  {
   "cell_type": "markdown",
   "metadata": {},
   "source": [
    "__Exercício 2:__ Crie uma classe para comparar o grid_search dentre vários modelos distintos.\n",
    "    \n",
    "    \n",
    "Essa classe, gridSearchAll(), já está pré-desenvolvida no código abaixo. O exercício consiste de __completar essa classe.__ Para isso, crie o métodos fit_all, que irá treinar, usando grid_search, todos os grids que tenham sido pré-construídos e inseridos na classe.\n",
    "Ainda, a quantidade de folds para a validação cruzada no grid_search deve ser implementada no método construtor da classe, bem como qual a métrica de performance a ser avaliada. \n",
    "Finalmente, salve o melhor modelo de cada grid e tenha um método best_all_grid_models que retorna o melhor modelo dentre todos os grids."
   ]
  },
  {
   "cell_type": "code",
   "execution_count": 14,
   "metadata": {},
   "outputs": [],
   "source": [
    "class gridSearchAll():\n",
    "    \n",
    "    def __init__(self):\n",
    "        self.grid_models = []\n",
    "        #scoring...\n",
    "        #num_folds...\n",
    "    \n",
    "    def insert_model(self, estimator_base, param_grid):\n",
    "        self.grid_models.append([estimator_base, param_grid])\n",
    "        \n",
    "    #def fit_all(...)\n",
    "    #    ...\n",
    "    \n",
    "    #def best_all_grid_models(...)\n",
    "    #    ..."
   ]
  },
  {
   "cell_type": "code",
   "execution_count": 15,
   "metadata": {},
   "outputs": [],
   "source": [
    "gd = gridSearchAll()"
   ]
  },
  {
   "cell_type": "code",
   "execution_count": 16,
   "metadata": {},
   "outputs": [
    {
     "data": {
      "text/plain": [
       "[]"
      ]
     },
     "execution_count": 16,
     "metadata": {},
     "output_type": "execute_result"
    }
   ],
   "source": [
    "gd.grid_models"
   ]
  },
  {
   "cell_type": "code",
   "execution_count": 17,
   "metadata": {},
   "outputs": [
    {
     "data": {
      "text/plain": [
       "{'n_estimators': [10, 1000], 'max_depth': [2, 10]}"
      ]
     },
     "execution_count": 17,
     "metadata": {},
     "output_type": "execute_result"
    }
   ],
   "source": [
    "params_RF"
   ]
  },
  {
   "cell_type": "code",
   "execution_count": 18,
   "metadata": {},
   "outputs": [],
   "source": [
    "gd.insert_model(estimator_base = RandomForestRegressor(), param_grid = params_RF)"
   ]
  },
  {
   "cell_type": "code",
   "execution_count": 19,
   "metadata": {},
   "outputs": [
    {
     "data": {
      "text/plain": [
       "[[RandomForestRegressor(), {'n_estimators': [10, 1000], 'max_depth': [2, 10]}]]"
      ]
     },
     "execution_count": 19,
     "metadata": {},
     "output_type": "execute_result"
    }
   ],
   "source": [
    "gd.grid_models"
   ]
  },
  {
   "cell_type": "code",
   "execution_count": 20,
   "metadata": {},
   "outputs": [],
   "source": [
    "from sklearn.neighbors import KNeighborsRegressor"
   ]
  },
  {
   "cell_type": "code",
   "execution_count": 21,
   "metadata": {},
   "outputs": [],
   "source": [
    "gd.insert_model(estimator_base = KNeighborsRegressor(), param_grid = {\"n_neighbors\":[1,2,10]})"
   ]
  },
  {
   "cell_type": "code",
   "execution_count": 22,
   "metadata": {},
   "outputs": [
    {
     "data": {
      "text/plain": [
       "[[RandomForestRegressor(), {'n_estimators': [10, 1000], 'max_depth': [2, 10]}],\n",
       " [KNeighborsRegressor(), {'n_neighbors': [1, 2, 10]}]]"
      ]
     },
     "execution_count": 22,
     "metadata": {},
     "output_type": "execute_result"
    }
   ],
   "source": [
    "gd.grid_models"
   ]
  },
  {
   "cell_type": "markdown",
   "metadata": {},
   "source": [
    "__Exercício 3:__ Usando a classe criada, analise novamente os modelos criados no exercício 1."
   ]
  },
  {
   "cell_type": "markdown",
   "metadata": {},
   "source": [
    "### Exercício 1"
   ]
  },
  {
   "cell_type": "code",
   "execution_count": 23,
   "metadata": {},
   "outputs": [
    {
     "data": {
      "text/html": [
       "<div>\n",
       "<style scoped>\n",
       "    .dataframe tbody tr th:only-of-type {\n",
       "        vertical-align: middle;\n",
       "    }\n",
       "\n",
       "    .dataframe tbody tr th {\n",
       "        vertical-align: top;\n",
       "    }\n",
       "\n",
       "    .dataframe thead th {\n",
       "        text-align: right;\n",
       "    }\n",
       "</style>\n",
       "<table border=\"1\" class=\"dataframe\">\n",
       "  <thead>\n",
       "    <tr style=\"text-align: right;\">\n",
       "      <th></th>\n",
       "      <th>longitude</th>\n",
       "      <th>latitude</th>\n",
       "      <th>idade_mediana_das_casas</th>\n",
       "      <th>total_comodos</th>\n",
       "      <th>total_quartos</th>\n",
       "      <th>populacao</th>\n",
       "      <th>familias</th>\n",
       "      <th>salario_mediano</th>\n",
       "      <th>preco_mediano_das_casas</th>\n",
       "      <th>proximidade_ao_mar</th>\n",
       "    </tr>\n",
       "  </thead>\n",
       "  <tbody>\n",
       "    <tr>\n",
       "      <th>0</th>\n",
       "      <td>-122.23</td>\n",
       "      <td>37.88</td>\n",
       "      <td>41.0</td>\n",
       "      <td>880.0</td>\n",
       "      <td>129.0</td>\n",
       "      <td>322.0</td>\n",
       "      <td>126.0</td>\n",
       "      <td>8.3252</td>\n",
       "      <td>452600.0</td>\n",
       "      <td>PERTO DA BAÍA</td>\n",
       "    </tr>\n",
       "    <tr>\n",
       "      <th>1</th>\n",
       "      <td>-122.22</td>\n",
       "      <td>37.86</td>\n",
       "      <td>21.0</td>\n",
       "      <td>7099.0</td>\n",
       "      <td>1106.0</td>\n",
       "      <td>2401.0</td>\n",
       "      <td>1138.0</td>\n",
       "      <td>8.3014</td>\n",
       "      <td>358500.0</td>\n",
       "      <td>PERTO DA BAÍA</td>\n",
       "    </tr>\n",
       "    <tr>\n",
       "      <th>2</th>\n",
       "      <td>-122.24</td>\n",
       "      <td>37.85</td>\n",
       "      <td>52.0</td>\n",
       "      <td>1467.0</td>\n",
       "      <td>190.0</td>\n",
       "      <td>496.0</td>\n",
       "      <td>177.0</td>\n",
       "      <td>7.2574</td>\n",
       "      <td>352100.0</td>\n",
       "      <td>PERTO DA BAÍA</td>\n",
       "    </tr>\n",
       "    <tr>\n",
       "      <th>3</th>\n",
       "      <td>-122.25</td>\n",
       "      <td>37.85</td>\n",
       "      <td>52.0</td>\n",
       "      <td>1274.0</td>\n",
       "      <td>235.0</td>\n",
       "      <td>558.0</td>\n",
       "      <td>219.0</td>\n",
       "      <td>5.6431</td>\n",
       "      <td>341300.0</td>\n",
       "      <td>PERTO DA BAÍA</td>\n",
       "    </tr>\n",
       "    <tr>\n",
       "      <th>4</th>\n",
       "      <td>-122.25</td>\n",
       "      <td>37.85</td>\n",
       "      <td>52.0</td>\n",
       "      <td>1627.0</td>\n",
       "      <td>280.0</td>\n",
       "      <td>565.0</td>\n",
       "      <td>259.0</td>\n",
       "      <td>3.8462</td>\n",
       "      <td>342200.0</td>\n",
       "      <td>PERTO DA BAÍA</td>\n",
       "    </tr>\n",
       "  </tbody>\n",
       "</table>\n",
       "</div>"
      ],
      "text/plain": [
       "   longitude  latitude  idade_mediana_das_casas  total_comodos  total_quartos  \\\n",
       "0    -122.23     37.88                     41.0          880.0          129.0   \n",
       "1    -122.22     37.86                     21.0         7099.0         1106.0   \n",
       "2    -122.24     37.85                     52.0         1467.0          190.0   \n",
       "3    -122.25     37.85                     52.0         1274.0          235.0   \n",
       "4    -122.25     37.85                     52.0         1627.0          280.0   \n",
       "\n",
       "   populacao  familias  salario_mediano  preco_mediano_das_casas  \\\n",
       "0      322.0     126.0           8.3252                 452600.0   \n",
       "1     2401.0    1138.0           8.3014                 358500.0   \n",
       "2      496.0     177.0           7.2574                 352100.0   \n",
       "3      558.0     219.0           5.6431                 341300.0   \n",
       "4      565.0     259.0           3.8462                 342200.0   \n",
       "\n",
       "  proximidade_ao_mar  \n",
       "0      PERTO DA BAÍA  \n",
       "1      PERTO DA BAÍA  \n",
       "2      PERTO DA BAÍA  \n",
       "3      PERTO DA BAÍA  \n",
       "4      PERTO DA BAÍA  "
      ]
     },
     "execution_count": 23,
     "metadata": {},
     "output_type": "execute_result"
    }
   ],
   "source": [
    "df.head()"
   ]
  },
  {
   "cell_type": "markdown",
   "metadata": {},
   "source": [
    "Antes de aplicar qualquer modelo de Machine Learning nos nossos dados, precisamos fazer um pré-processamento, seguindo os seguintes passos:\n",
    "\n",
    "__1 - Verificar dados faltantes__\n",
    "\n",
    "__2 - Fazer engenharia de dados__\n",
    "\n",
    "__3 - Transfomar a variável 'proximidade_ao_mar' em 0 ou 1 caso seja binaria, ou fazer o One Hot encoding, caso contrario.__\n",
    "\n",
    "__4 - Normalizar as variáveis quantitativas.__\n",
    "\n",
    "A duas primeiras partes faremos antes da divisão dos dados em treino e teste, o OneHotEnconding e a normalização, faremos depois da divisão\n",
    "\n"
   ]
  },
  {
   "cell_type": "markdown",
   "metadata": {},
   "source": [
    "### 1 - Dados faltantes"
   ]
  },
  {
   "cell_type": "code",
   "execution_count": 24,
   "metadata": {},
   "outputs": [
    {
     "data": {
      "text/plain": [
       "(20640, 10)"
      ]
     },
     "execution_count": 24,
     "metadata": {},
     "output_type": "execute_result"
    }
   ],
   "source": [
    "# conferindo o tamanho total do DataSet\n",
    "\n",
    "df.shape"
   ]
  },
  {
   "cell_type": "code",
   "execution_count": 25,
   "metadata": {},
   "outputs": [
    {
     "data": {
      "text/plain": [
       "longitude                    0\n",
       "latitude                     0\n",
       "idade_mediana_das_casas      0\n",
       "total_comodos                0\n",
       "total_quartos              207\n",
       "populacao                    0\n",
       "familias                     0\n",
       "salario_mediano              0\n",
       "preco_mediano_das_casas      0\n",
       "proximidade_ao_mar           0\n",
       "dtype: int64"
      ]
     },
     "execution_count": 25,
     "metadata": {},
     "output_type": "execute_result"
    }
   ],
   "source": [
    "# conferindo os dados nulos\n",
    "\n",
    "df.isnull().sum()"
   ]
  },
  {
   "cell_type": "code",
   "execution_count": 26,
   "metadata": {},
   "outputs": [
    {
     "data": {
      "text/plain": [
       "0.01002906976744186"
      ]
     },
     "execution_count": 26,
     "metadata": {},
     "output_type": "execute_result"
    }
   ],
   "source": [
    "df['total_quartos'].isnull().sum()/df.shape[0]"
   ]
  },
  {
   "cell_type": "markdown",
   "metadata": {},
   "source": [
    "Em termos de porcentagem, a quantidade de registros 'total_quartos' é bem pequena, vamos usar o describe para ver os dados da coluna"
   ]
  },
  {
   "cell_type": "code",
   "execution_count": 27,
   "metadata": {},
   "outputs": [
    {
     "data": {
      "text/plain": [
       "count    20433.000000\n",
       "mean       537.870553\n",
       "std        421.385070\n",
       "min          1.000000\n",
       "25%        296.000000\n",
       "50%        435.000000\n",
       "75%        647.000000\n",
       "max       6445.000000\n",
       "Name: total_quartos, dtype: float64"
      ]
     },
     "execution_count": 27,
     "metadata": {},
     "output_type": "execute_result"
    }
   ],
   "source": [
    "df['total_quartos'].describe()"
   ]
  },
  {
   "cell_type": "markdown",
   "metadata": {},
   "source": [
    "Podemos ver que a média e mediana estão bem próximos,como o total de quartos é sempre um número natural, sem casas decimais, vamos trocar os dados nulos do nosso DataSet pela mediada."
   ]
  },
  {
   "cell_type": "code",
   "execution_count": 28,
   "metadata": {},
   "outputs": [],
   "source": [
    "mediana_total_quartos = df['total_quartos'].median()"
   ]
  },
  {
   "cell_type": "code",
   "execution_count": 29,
   "metadata": {},
   "outputs": [],
   "source": [
    "df['total_quartos'] = df['total_quartos'].fillna(mediana_total_quartos)"
   ]
  },
  {
   "cell_type": "code",
   "execution_count": 30,
   "metadata": {},
   "outputs": [
    {
     "data": {
      "text/plain": [
       "longitude                  0\n",
       "latitude                   0\n",
       "idade_mediana_das_casas    0\n",
       "total_comodos              0\n",
       "total_quartos              0\n",
       "populacao                  0\n",
       "familias                   0\n",
       "salario_mediano            0\n",
       "preco_mediano_das_casas    0\n",
       "proximidade_ao_mar         0\n",
       "dtype: int64"
      ]
     },
     "execution_count": 30,
     "metadata": {},
     "output_type": "execute_result"
    }
   ],
   "source": [
    "df.isnull().sum()"
   ]
  },
  {
   "cell_type": "markdown",
   "metadata": {},
   "source": [
    "__Engenharia de Dados:__\n",
    "\n",
    "Vamos criar mais variáveis para nosso dataset, são elas:\n",
    "\n",
    "__Média do total de quartos por familia__\n",
    "\n",
    "__Tamanho médio por familia__"
   ]
  },
  {
   "cell_type": "code",
   "execution_count": 31,
   "metadata": {},
   "outputs": [],
   "source": [
    "df['quartos_por_familia'] = df['total_quartos']/df['familias']\n",
    "df['populacao_por_familia']= df['populacao']/df['familias']"
   ]
  },
  {
   "cell_type": "code",
   "execution_count": 32,
   "metadata": {},
   "outputs": [
    {
     "data": {
      "text/html": [
       "<div>\n",
       "<style scoped>\n",
       "    .dataframe tbody tr th:only-of-type {\n",
       "        vertical-align: middle;\n",
       "    }\n",
       "\n",
       "    .dataframe tbody tr th {\n",
       "        vertical-align: top;\n",
       "    }\n",
       "\n",
       "    .dataframe thead th {\n",
       "        text-align: right;\n",
       "    }\n",
       "</style>\n",
       "<table border=\"1\" class=\"dataframe\">\n",
       "  <thead>\n",
       "    <tr style=\"text-align: right;\">\n",
       "      <th></th>\n",
       "      <th>longitude</th>\n",
       "      <th>latitude</th>\n",
       "      <th>idade_mediana_das_casas</th>\n",
       "      <th>total_comodos</th>\n",
       "      <th>total_quartos</th>\n",
       "      <th>populacao</th>\n",
       "      <th>familias</th>\n",
       "      <th>salario_mediano</th>\n",
       "      <th>preco_mediano_das_casas</th>\n",
       "      <th>proximidade_ao_mar</th>\n",
       "      <th>quartos_por_familia</th>\n",
       "      <th>populacao_por_familia</th>\n",
       "    </tr>\n",
       "  </thead>\n",
       "  <tbody>\n",
       "    <tr>\n",
       "      <th>0</th>\n",
       "      <td>-122.23</td>\n",
       "      <td>37.88</td>\n",
       "      <td>41.0</td>\n",
       "      <td>880.0</td>\n",
       "      <td>129.0</td>\n",
       "      <td>322.0</td>\n",
       "      <td>126.0</td>\n",
       "      <td>8.3252</td>\n",
       "      <td>452600.0</td>\n",
       "      <td>PERTO DA BAÍA</td>\n",
       "      <td>1.023810</td>\n",
       "      <td>2.555556</td>\n",
       "    </tr>\n",
       "    <tr>\n",
       "      <th>1</th>\n",
       "      <td>-122.22</td>\n",
       "      <td>37.86</td>\n",
       "      <td>21.0</td>\n",
       "      <td>7099.0</td>\n",
       "      <td>1106.0</td>\n",
       "      <td>2401.0</td>\n",
       "      <td>1138.0</td>\n",
       "      <td>8.3014</td>\n",
       "      <td>358500.0</td>\n",
       "      <td>PERTO DA BAÍA</td>\n",
       "      <td>0.971880</td>\n",
       "      <td>2.109842</td>\n",
       "    </tr>\n",
       "    <tr>\n",
       "      <th>2</th>\n",
       "      <td>-122.24</td>\n",
       "      <td>37.85</td>\n",
       "      <td>52.0</td>\n",
       "      <td>1467.0</td>\n",
       "      <td>190.0</td>\n",
       "      <td>496.0</td>\n",
       "      <td>177.0</td>\n",
       "      <td>7.2574</td>\n",
       "      <td>352100.0</td>\n",
       "      <td>PERTO DA BAÍA</td>\n",
       "      <td>1.073446</td>\n",
       "      <td>2.802260</td>\n",
       "    </tr>\n",
       "    <tr>\n",
       "      <th>3</th>\n",
       "      <td>-122.25</td>\n",
       "      <td>37.85</td>\n",
       "      <td>52.0</td>\n",
       "      <td>1274.0</td>\n",
       "      <td>235.0</td>\n",
       "      <td>558.0</td>\n",
       "      <td>219.0</td>\n",
       "      <td>5.6431</td>\n",
       "      <td>341300.0</td>\n",
       "      <td>PERTO DA BAÍA</td>\n",
       "      <td>1.073059</td>\n",
       "      <td>2.547945</td>\n",
       "    </tr>\n",
       "    <tr>\n",
       "      <th>4</th>\n",
       "      <td>-122.25</td>\n",
       "      <td>37.85</td>\n",
       "      <td>52.0</td>\n",
       "      <td>1627.0</td>\n",
       "      <td>280.0</td>\n",
       "      <td>565.0</td>\n",
       "      <td>259.0</td>\n",
       "      <td>3.8462</td>\n",
       "      <td>342200.0</td>\n",
       "      <td>PERTO DA BAÍA</td>\n",
       "      <td>1.081081</td>\n",
       "      <td>2.181467</td>\n",
       "    </tr>\n",
       "  </tbody>\n",
       "</table>\n",
       "</div>"
      ],
      "text/plain": [
       "   longitude  latitude  idade_mediana_das_casas  total_comodos  total_quartos  \\\n",
       "0    -122.23     37.88                     41.0          880.0          129.0   \n",
       "1    -122.22     37.86                     21.0         7099.0         1106.0   \n",
       "2    -122.24     37.85                     52.0         1467.0          190.0   \n",
       "3    -122.25     37.85                     52.0         1274.0          235.0   \n",
       "4    -122.25     37.85                     52.0         1627.0          280.0   \n",
       "\n",
       "   populacao  familias  salario_mediano  preco_mediano_das_casas  \\\n",
       "0      322.0     126.0           8.3252                 452600.0   \n",
       "1     2401.0    1138.0           8.3014                 358500.0   \n",
       "2      496.0     177.0           7.2574                 352100.0   \n",
       "3      558.0     219.0           5.6431                 341300.0   \n",
       "4      565.0     259.0           3.8462                 342200.0   \n",
       "\n",
       "  proximidade_ao_mar  quartos_por_familia  populacao_por_familia  \n",
       "0      PERTO DA BAÍA             1.023810               2.555556  \n",
       "1      PERTO DA BAÍA             0.971880               2.109842  \n",
       "2      PERTO DA BAÍA             1.073446               2.802260  \n",
       "3      PERTO DA BAÍA             1.073059               2.547945  \n",
       "4      PERTO DA BAÍA             1.081081               2.181467  "
      ]
     },
     "execution_count": 32,
     "metadata": {},
     "output_type": "execute_result"
    }
   ],
   "source": [
    "df.head()"
   ]
  },
  {
   "cell_type": "markdown",
   "metadata": {},
   "source": [
    "__Tratamento da variável Proximidade ao Mar e normalização das outras variáveis__\n",
    "\n",
    "Como podemos ver, essa é a nossa única variável categórica no dataset, portanto vamos inicialmente analisar seus dados."
   ]
  },
  {
   "cell_type": "code",
   "execution_count": 33,
   "metadata": {},
   "outputs": [
    {
     "data": {
      "text/plain": [
       "<1H OCEANO       9136\n",
       "INTERIOR         6551\n",
       "PERTO OCEANO     2658\n",
       "PERTO DA BAÍA    2290\n",
       "ILHA                5\n",
       "Name: proximidade_ao_mar, dtype: int64"
      ]
     },
     "execution_count": 33,
     "metadata": {},
     "output_type": "execute_result"
    }
   ],
   "source": [
    "df['proximidade_ao_mar'].value_counts()"
   ]
  },
  {
   "cell_type": "markdown",
   "metadata": {},
   "source": [
    "Temos então que nossa variável não é binária, logo vamos fazer o pré-processamento nela usando o OneHotEncoding, como não temos mais variáveis categóricas, iremos normalizar todas as outras, antes disso, vamos dividir nossos dados em treino e teste"
   ]
  },
  {
   "cell_type": "code",
   "execution_count": 34,
   "metadata": {},
   "outputs": [],
   "source": [
    "dftreino, dfteste = train_test_split(df, test_size = 0.25, random_state = 0)"
   ]
  },
  {
   "cell_type": "code",
   "execution_count": 35,
   "metadata": {},
   "outputs": [
    {
     "data": {
      "text/html": [
       "<div>\n",
       "<style scoped>\n",
       "    .dataframe tbody tr th:only-of-type {\n",
       "        vertical-align: middle;\n",
       "    }\n",
       "\n",
       "    .dataframe tbody tr th {\n",
       "        vertical-align: top;\n",
       "    }\n",
       "\n",
       "    .dataframe thead th {\n",
       "        text-align: right;\n",
       "    }\n",
       "</style>\n",
       "<table border=\"1\" class=\"dataframe\">\n",
       "  <thead>\n",
       "    <tr style=\"text-align: right;\">\n",
       "      <th></th>\n",
       "      <th>longitude</th>\n",
       "      <th>latitude</th>\n",
       "      <th>idade_mediana_das_casas</th>\n",
       "      <th>total_comodos</th>\n",
       "      <th>total_quartos</th>\n",
       "      <th>populacao</th>\n",
       "      <th>familias</th>\n",
       "      <th>salario_mediano</th>\n",
       "      <th>preco_mediano_das_casas</th>\n",
       "      <th>proximidade_ao_mar</th>\n",
       "      <th>quartos_por_familia</th>\n",
       "      <th>populacao_por_familia</th>\n",
       "    </tr>\n",
       "  </thead>\n",
       "  <tbody>\n",
       "    <tr>\n",
       "      <th>19226</th>\n",
       "      <td>-122.68</td>\n",
       "      <td>38.46</td>\n",
       "      <td>19.0</td>\n",
       "      <td>4976.0</td>\n",
       "      <td>711.0</td>\n",
       "      <td>1926.0</td>\n",
       "      <td>625.0</td>\n",
       "      <td>7.3003</td>\n",
       "      <td>381300.0</td>\n",
       "      <td>&lt;1H OCEANO</td>\n",
       "      <td>1.137600</td>\n",
       "      <td>3.081600</td>\n",
       "    </tr>\n",
       "    <tr>\n",
       "      <th>14549</th>\n",
       "      <td>-117.24</td>\n",
       "      <td>32.95</td>\n",
       "      <td>18.0</td>\n",
       "      <td>1591.0</td>\n",
       "      <td>268.0</td>\n",
       "      <td>547.0</td>\n",
       "      <td>243.0</td>\n",
       "      <td>5.9547</td>\n",
       "      <td>329300.0</td>\n",
       "      <td>PERTO OCEANO</td>\n",
       "      <td>1.102881</td>\n",
       "      <td>2.251029</td>\n",
       "    </tr>\n",
       "    <tr>\n",
       "      <th>9093</th>\n",
       "      <td>-118.27</td>\n",
       "      <td>34.68</td>\n",
       "      <td>19.0</td>\n",
       "      <td>552.0</td>\n",
       "      <td>129.0</td>\n",
       "      <td>314.0</td>\n",
       "      <td>106.0</td>\n",
       "      <td>3.2125</td>\n",
       "      <td>185400.0</td>\n",
       "      <td>INTERIOR</td>\n",
       "      <td>1.216981</td>\n",
       "      <td>2.962264</td>\n",
       "    </tr>\n",
       "    <tr>\n",
       "      <th>12213</th>\n",
       "      <td>-117.18</td>\n",
       "      <td>33.51</td>\n",
       "      <td>13.0</td>\n",
       "      <td>270.0</td>\n",
       "      <td>42.0</td>\n",
       "      <td>120.0</td>\n",
       "      <td>42.0</td>\n",
       "      <td>6.9930</td>\n",
       "      <td>500001.0</td>\n",
       "      <td>&lt;1H OCEANO</td>\n",
       "      <td>1.000000</td>\n",
       "      <td>2.857143</td>\n",
       "    </tr>\n",
       "    <tr>\n",
       "      <th>12765</th>\n",
       "      <td>-121.41</td>\n",
       "      <td>38.62</td>\n",
       "      <td>21.0</td>\n",
       "      <td>3260.0</td>\n",
       "      <td>763.0</td>\n",
       "      <td>1735.0</td>\n",
       "      <td>736.0</td>\n",
       "      <td>2.5162</td>\n",
       "      <td>97500.0</td>\n",
       "      <td>INTERIOR</td>\n",
       "      <td>1.036685</td>\n",
       "      <td>2.357337</td>\n",
       "    </tr>\n",
       "    <tr>\n",
       "      <th>...</th>\n",
       "      <td>...</td>\n",
       "      <td>...</td>\n",
       "      <td>...</td>\n",
       "      <td>...</td>\n",
       "      <td>...</td>\n",
       "      <td>...</td>\n",
       "      <td>...</td>\n",
       "      <td>...</td>\n",
       "      <td>...</td>\n",
       "      <td>...</td>\n",
       "      <td>...</td>\n",
       "      <td>...</td>\n",
       "    </tr>\n",
       "    <tr>\n",
       "      <th>13123</th>\n",
       "      <td>-121.26</td>\n",
       "      <td>38.27</td>\n",
       "      <td>20.0</td>\n",
       "      <td>1314.0</td>\n",
       "      <td>229.0</td>\n",
       "      <td>712.0</td>\n",
       "      <td>219.0</td>\n",
       "      <td>4.4125</td>\n",
       "      <td>144600.0</td>\n",
       "      <td>INTERIOR</td>\n",
       "      <td>1.045662</td>\n",
       "      <td>3.251142</td>\n",
       "    </tr>\n",
       "    <tr>\n",
       "      <th>19648</th>\n",
       "      <td>-120.89</td>\n",
       "      <td>37.48</td>\n",
       "      <td>27.0</td>\n",
       "      <td>1118.0</td>\n",
       "      <td>195.0</td>\n",
       "      <td>647.0</td>\n",
       "      <td>209.0</td>\n",
       "      <td>2.9135</td>\n",
       "      <td>159400.0</td>\n",
       "      <td>INTERIOR</td>\n",
       "      <td>0.933014</td>\n",
       "      <td>3.095694</td>\n",
       "    </tr>\n",
       "    <tr>\n",
       "      <th>9845</th>\n",
       "      <td>-121.90</td>\n",
       "      <td>36.58</td>\n",
       "      <td>31.0</td>\n",
       "      <td>1431.0</td>\n",
       "      <td>435.0</td>\n",
       "      <td>704.0</td>\n",
       "      <td>393.0</td>\n",
       "      <td>3.1977</td>\n",
       "      <td>289300.0</td>\n",
       "      <td>PERTO OCEANO</td>\n",
       "      <td>1.106870</td>\n",
       "      <td>1.791349</td>\n",
       "    </tr>\n",
       "    <tr>\n",
       "      <th>10799</th>\n",
       "      <td>-117.93</td>\n",
       "      <td>33.62</td>\n",
       "      <td>34.0</td>\n",
       "      <td>2125.0</td>\n",
       "      <td>498.0</td>\n",
       "      <td>1052.0</td>\n",
       "      <td>468.0</td>\n",
       "      <td>5.6315</td>\n",
       "      <td>484600.0</td>\n",
       "      <td>&lt;1H OCEANO</td>\n",
       "      <td>1.064103</td>\n",
       "      <td>2.247863</td>\n",
       "    </tr>\n",
       "    <tr>\n",
       "      <th>2732</th>\n",
       "      <td>-115.56</td>\n",
       "      <td>32.80</td>\n",
       "      <td>15.0</td>\n",
       "      <td>1171.0</td>\n",
       "      <td>328.0</td>\n",
       "      <td>1024.0</td>\n",
       "      <td>298.0</td>\n",
       "      <td>1.3882</td>\n",
       "      <td>69400.0</td>\n",
       "      <td>INTERIOR</td>\n",
       "      <td>1.100671</td>\n",
       "      <td>3.436242</td>\n",
       "    </tr>\n",
       "  </tbody>\n",
       "</table>\n",
       "<p>15480 rows × 12 columns</p>\n",
       "</div>"
      ],
      "text/plain": [
       "       longitude  latitude  idade_mediana_das_casas  total_comodos  \\\n",
       "19226    -122.68     38.46                     19.0         4976.0   \n",
       "14549    -117.24     32.95                     18.0         1591.0   \n",
       "9093     -118.27     34.68                     19.0          552.0   \n",
       "12213    -117.18     33.51                     13.0          270.0   \n",
       "12765    -121.41     38.62                     21.0         3260.0   \n",
       "...          ...       ...                      ...            ...   \n",
       "13123    -121.26     38.27                     20.0         1314.0   \n",
       "19648    -120.89     37.48                     27.0         1118.0   \n",
       "9845     -121.90     36.58                     31.0         1431.0   \n",
       "10799    -117.93     33.62                     34.0         2125.0   \n",
       "2732     -115.56     32.80                     15.0         1171.0   \n",
       "\n",
       "       total_quartos  populacao  familias  salario_mediano  \\\n",
       "19226          711.0     1926.0     625.0           7.3003   \n",
       "14549          268.0      547.0     243.0           5.9547   \n",
       "9093           129.0      314.0     106.0           3.2125   \n",
       "12213           42.0      120.0      42.0           6.9930   \n",
       "12765          763.0     1735.0     736.0           2.5162   \n",
       "...              ...        ...       ...              ...   \n",
       "13123          229.0      712.0     219.0           4.4125   \n",
       "19648          195.0      647.0     209.0           2.9135   \n",
       "9845           435.0      704.0     393.0           3.1977   \n",
       "10799          498.0     1052.0     468.0           5.6315   \n",
       "2732           328.0     1024.0     298.0           1.3882   \n",
       "\n",
       "       preco_mediano_das_casas proximidade_ao_mar  quartos_por_familia  \\\n",
       "19226                 381300.0         <1H OCEANO             1.137600   \n",
       "14549                 329300.0       PERTO OCEANO             1.102881   \n",
       "9093                  185400.0           INTERIOR             1.216981   \n",
       "12213                 500001.0         <1H OCEANO             1.000000   \n",
       "12765                  97500.0           INTERIOR             1.036685   \n",
       "...                        ...                ...                  ...   \n",
       "13123                 144600.0           INTERIOR             1.045662   \n",
       "19648                 159400.0           INTERIOR             0.933014   \n",
       "9845                  289300.0       PERTO OCEANO             1.106870   \n",
       "10799                 484600.0         <1H OCEANO             1.064103   \n",
       "2732                   69400.0           INTERIOR             1.100671   \n",
       "\n",
       "       populacao_por_familia  \n",
       "19226               3.081600  \n",
       "14549               2.251029  \n",
       "9093                2.962264  \n",
       "12213               2.857143  \n",
       "12765               2.357337  \n",
       "...                      ...  \n",
       "13123               3.251142  \n",
       "19648               3.095694  \n",
       "9845                1.791349  \n",
       "10799               2.247863  \n",
       "2732                3.436242  \n",
       "\n",
       "[15480 rows x 12 columns]"
      ]
     },
     "execution_count": 35,
     "metadata": {},
     "output_type": "execute_result"
    }
   ],
   "source": [
    "dftreino"
   ]
  },
  {
   "cell_type": "code",
   "execution_count": 36,
   "metadata": {},
   "outputs": [],
   "source": [
    "from sklearn.preprocessing import OneHotEncoder, StandardScaler"
   ]
  },
  {
   "cell_type": "code",
   "execution_count": 37,
   "metadata": {},
   "outputs": [],
   "source": [
    "def preprocessamento_completo(df, dataset_de_treino = True, cat_encoder = None, std_scaler = None):\n",
    "\n",
    "    dff = df.copy()\n",
    "    \n",
    "    variaveis_para_normalizar = ['latitude',\n",
    "                                 'longitude',\n",
    "                                'idade_mediana_das_casas',\n",
    "                                 'total_comodos',\n",
    "                                 'total_quartos',\n",
    "                                 'populacao',\n",
    "                                 'familias',\n",
    "                                 'salario_mediano',\n",
    "                                 'quartos_por_familia',\n",
    "                                 'populacao_por_familia']\n",
    "\n",
    "    if dataset_de_treino:  \n",
    "        \n",
    "        encoder = OneHotEncoder()\n",
    "        df_prox_mar_OHE = encoder.fit_transform(dff[['proximidade_ao_mar']]).toarray()\n",
    "\n",
    "        sc = StandardScaler()\n",
    "        variaveis_norm = sc.fit_transform(dff[variaveis_para_normalizar])\n",
    "        \n",
    "        X, y =  np.c_[df_prox_mar_OHE, variaveis_norm], dff.preco_mediano_das_casas.values\n",
    "        return X, y, encoder, sc\n",
    "    \n",
    "    else:\n",
    "        df_prox_mar_OHE = cat_encoder.transform(dff[['proximidade_ao_mar']]).toarray()\n",
    "        \n",
    "        variaveis_norm = std_scaler.transform(dff[variaveis_para_normalizar]) \n",
    "        \n",
    "        X, y =  np.c_[df_prox_mar_OHE, variaveis_norm], dff.preco_mediano_das_casas.values\n",
    "        return X, y"
   ]
  },
  {
   "cell_type": "code",
   "execution_count": 38,
   "metadata": {},
   "outputs": [],
   "source": [
    "Xtreino, ytreino, encod, stand = preprocessamento_completo(df = dftreino, dataset_de_treino=True)"
   ]
  },
  {
   "cell_type": "code",
   "execution_count": 39,
   "metadata": {},
   "outputs": [
    {
     "data": {
      "text/plain": [
       "((15480, 15), (15480,))"
      ]
     },
     "execution_count": 39,
     "metadata": {},
     "output_type": "execute_result"
    }
   ],
   "source": [
    "Xtreino.shape, ytreino.shape"
   ]
  },
  {
   "cell_type": "markdown",
   "metadata": {},
   "source": [
    "### Temos então nossos dados de treino, vamos usar o OHE e Standard Scaller já fitados neles, e criar nosso dataset de Teste"
   ]
  },
  {
   "cell_type": "code",
   "execution_count": 40,
   "metadata": {},
   "outputs": [],
   "source": [
    "Xteste, yteste = preprocessamento_completo(df = dfteste, dataset_de_treino=False, cat_encoder=encod, std_scaler=stand)"
   ]
  },
  {
   "cell_type": "code",
   "execution_count": 41,
   "metadata": {},
   "outputs": [
    {
     "data": {
      "text/plain": [
       "((5160, 15), (5160,))"
      ]
     },
     "execution_count": 41,
     "metadata": {},
     "output_type": "execute_result"
    }
   ],
   "source": [
    "Xteste.shape, yteste.shape"
   ]
  },
  {
   "cell_type": "markdown",
   "metadata": {},
   "source": [
    "## Enfim finalizamos o pré-processamento, e podemos então partir para o Machine Learning\n",
    "\n",
    "Vamos criar uma lista com estimadores que queremos usar, isto é, o KNN's, Random forests e GradientBoosting"
   ]
  },
  {
   "cell_type": "code",
   "execution_count": 42,
   "metadata": {},
   "outputs": [],
   "source": [
    "from sklearn.neighbors import KNeighborsRegressor\n",
    "from sklearn.ensemble import GradientBoostingRegressor"
   ]
  },
  {
   "cell_type": "code",
   "execution_count": 43,
   "metadata": {},
   "outputs": [],
   "source": [
    "estimadores = [RandomForestRegressor(), KNeighborsRegressor(), GradientBoostingRegressor()]\n",
    "\n",
    "# criaremos 3 dicionários, um com a variação de parâmetros para cada estimador.\n",
    "\n",
    "params_RF = {'n_estimators':[10,50,100,500,1000], 'max_depth':[2,5,10]}\n",
    "params_KNN = {'n_neighbors': [2,10,20,50]}\n",
    "params_GB = {'n_estimators': [10,100,200,1000], 'max_depth': [3,5,7,10]}"
   ]
  },
  {
   "cell_type": "markdown",
   "metadata": {},
   "source": [
    "### Vamos fazer os grids individualmente para cada estimador.\n",
    "\n",
    "__1 - Random Forest:__"
   ]
  },
  {
   "cell_type": "code",
   "execution_count": 44,
   "metadata": {},
   "outputs": [],
   "source": [
    "import time"
   ]
  },
  {
   "cell_type": "code",
   "execution_count": 45,
   "metadata": {},
   "outputs": [
    {
     "data": {
      "text/plain": [
       "GridSearchCV(cv=5, estimator=RandomForestRegressor(), n_jobs=-1,\n",
       "             param_grid={'max_depth': [2, 5, 10],\n",
       "                         'n_estimators': [10, 50, 100, 500, 1000]},\n",
       "             scoring='r2')"
      ]
     },
     "execution_count": 45,
     "metadata": {},
     "output_type": "execute_result"
    }
   ],
   "source": [
    "gridRF = GridSearchCV(estimator = estimadores[0], \n",
    "                    param_grid = params_RF, \n",
    "                    scoring = 'r2', \n",
    "                    cv = 5, n_jobs = -1)\n",
    "\n",
    "gridRF"
   ]
  },
  {
   "cell_type": "code",
   "execution_count": 46,
   "metadata": {},
   "outputs": [
    {
     "data": {
      "text/plain": [
       "GridSearchCV(cv=5, estimator=RandomForestRegressor(), n_jobs=-1,\n",
       "             param_grid={'max_depth': [2, 5, 10],\n",
       "                         'n_estimators': [10, 50, 100, 500, 1000]},\n",
       "             scoring='r2')"
      ]
     },
     "execution_count": 46,
     "metadata": {},
     "output_type": "execute_result"
    }
   ],
   "source": [
    "gridRF.fit(Xtreino,ytreino)"
   ]
  },
  {
   "cell_type": "markdown",
   "metadata": {},
   "source": [
    "__Verificando os melhores parâmetros e Score obtido__"
   ]
  },
  {
   "cell_type": "code",
   "execution_count": 47,
   "metadata": {},
   "outputs": [
    {
     "data": {
      "text/plain": [
       "{'max_depth': 10, 'n_estimators': 1000}"
      ]
     },
     "execution_count": 47,
     "metadata": {},
     "output_type": "execute_result"
    }
   ],
   "source": [
    "gridRF.best_params_"
   ]
  },
  {
   "cell_type": "code",
   "execution_count": 48,
   "metadata": {},
   "outputs": [
    {
     "data": {
      "text/plain": [
       "0.785396797731448"
      ]
     },
     "execution_count": 48,
     "metadata": {},
     "output_type": "execute_result"
    }
   ],
   "source": [
    "gridRF.best_score_"
   ]
  },
  {
   "cell_type": "markdown",
   "metadata": {},
   "source": [
    "__2 - KNeighbors:__\n"
   ]
  },
  {
   "cell_type": "code",
   "execution_count": 49,
   "metadata": {},
   "outputs": [
    {
     "data": {
      "text/plain": [
       "GridSearchCV(cv=5, estimator=KNeighborsRegressor(),\n",
       "             param_grid={'n_neighbors': [2, 10, 20, 50]}, scoring='r2')"
      ]
     },
     "execution_count": 49,
     "metadata": {},
     "output_type": "execute_result"
    }
   ],
   "source": [
    "gridKNN = GridSearchCV(estimator = estimadores[1], \n",
    "                    param_grid = params_KNN, \n",
    "                    scoring = 'r2', \n",
    "                    cv = 5)\n",
    "\n",
    "gridKNN"
   ]
  },
  {
   "cell_type": "code",
   "execution_count": 50,
   "metadata": {},
   "outputs": [
    {
     "data": {
      "text/plain": [
       "GridSearchCV(cv=5, estimator=KNeighborsRegressor(),\n",
       "             param_grid={'n_neighbors': [2, 10, 20, 50]}, scoring='r2')"
      ]
     },
     "execution_count": 50,
     "metadata": {},
     "output_type": "execute_result"
    }
   ],
   "source": [
    "gridKNN.fit(Xtreino, ytreino)"
   ]
  },
  {
   "cell_type": "markdown",
   "metadata": {},
   "source": [
    "__Verificando melhores parâmetros e Score obtido__"
   ]
  },
  {
   "cell_type": "code",
   "execution_count": 51,
   "metadata": {},
   "outputs": [
    {
     "data": {
      "text/plain": [
       "{'n_neighbors': 10}"
      ]
     },
     "execution_count": 51,
     "metadata": {},
     "output_type": "execute_result"
    }
   ],
   "source": [
    "gridKNN.best_params_"
   ]
  },
  {
   "cell_type": "code",
   "execution_count": 52,
   "metadata": {},
   "outputs": [
    {
     "data": {
      "text/plain": [
       "0.7266521342787959"
      ]
     },
     "execution_count": 52,
     "metadata": {},
     "output_type": "execute_result"
    }
   ],
   "source": [
    "gridKNN.best_score_"
   ]
  },
  {
   "cell_type": "markdown",
   "metadata": {},
   "source": [
    "__3 - GradientBoosting:__"
   ]
  },
  {
   "cell_type": "code",
   "execution_count": 53,
   "metadata": {},
   "outputs": [
    {
     "data": {
      "text/plain": [
       "GridSearchCV(cv=5, estimator=GradientBoostingRegressor(), n_jobs=-1,\n",
       "             param_grid={'max_depth': [3, 5, 7, 10],\n",
       "                         'n_estimators': [10, 100, 200, 1000]},\n",
       "             scoring='r2')"
      ]
     },
     "execution_count": 53,
     "metadata": {},
     "output_type": "execute_result"
    }
   ],
   "source": [
    "gridGB = GridSearchCV(estimator = estimadores[2], \n",
    "                    param_grid = params_GB, \n",
    "                    scoring = 'r2', \n",
    "                    cv = 5, n_jobs=-1)\n",
    "\n",
    "gridGB"
   ]
  },
  {
   "cell_type": "code",
   "execution_count": 54,
   "metadata": {},
   "outputs": [
    {
     "data": {
      "text/plain": [
       "GridSearchCV(cv=5, estimator=GradientBoostingRegressor(), n_jobs=-1,\n",
       "             param_grid={'max_depth': [3, 5, 7, 10],\n",
       "                         'n_estimators': [10, 100, 200, 1000]},\n",
       "             scoring='r2')"
      ]
     },
     "execution_count": 54,
     "metadata": {},
     "output_type": "execute_result"
    }
   ],
   "source": [
    "gridGB.fit(Xtreino, ytreino)"
   ]
  },
  {
   "cell_type": "markdown",
   "metadata": {},
   "source": [
    "Verificando melhores parâmetros e Score obtido:"
   ]
  },
  {
   "cell_type": "code",
   "execution_count": 55,
   "metadata": {},
   "outputs": [
    {
     "data": {
      "text/plain": [
       "{'max_depth': 5, 'n_estimators': 1000}"
      ]
     },
     "execution_count": 55,
     "metadata": {},
     "output_type": "execute_result"
    }
   ],
   "source": [
    "gridGB.best_params_"
   ]
  },
  {
   "cell_type": "code",
   "execution_count": 56,
   "metadata": {},
   "outputs": [
    {
     "data": {
      "text/plain": [
       "0.8320699365894997"
      ]
     },
     "execution_count": 56,
     "metadata": {},
     "output_type": "execute_result"
    }
   ],
   "source": [
    "gridGB.best_score_"
   ]
  },
  {
   "cell_type": "markdown",
   "metadata": {},
   "source": [
    "### Como já era esperado, o ensemble Gradient Boosting tornou o melhor resultado com o Melhor R2 score.\n",
    "\n",
    "Finalizamos então o primeiro exercício."
   ]
  },
  {
   "cell_type": "markdown",
   "metadata": {},
   "source": [
    "Exercício 2: Crie uma classe para comparar o grid_search dentre vários modelos distintos.\n",
    "\n",
    "Essa classe, gridSearchAll(), já está pré-desenvolvida no código abaixo. O exercício consiste de completar essa classe. Para isso, crie o métodos fit_all, que irá treinar, usando grid_search, todos os grids que tenham sido pré-construídos e inseridos na classe. Ainda, a quantidade de folds para a validação cruzada no grid_search deve ser implementada no método construtor da classe, bem como qual a métrica de performance a ser avaliada. Finalmente, salve o melhor modelo de cada grid e tenha um método best_all_grid_models que retorna o melhor modelo dentre todos os grids."
   ]
  },
  {
   "cell_type": "code",
   "execution_count": 57,
   "metadata": {},
   "outputs": [],
   "source": [
    "class gridSearchAll():\n",
    "    \n",
    "    def __init__(self):\n",
    "        self.grid_models = []\n",
    "        #scoring...\n",
    "        #num_folds...\n",
    "    \n",
    "    def insert_model(self, estimator_base, param_grid):\n",
    "        self.grid_models.append([estimator_base, param_grid])\n",
    "        \n",
    "    #def fit_all(...)\n",
    "    #    ...\n",
    "    \n",
    "    #def best_all_grid_models(...)\n",
    "    #    ..."
   ]
  },
  {
   "cell_type": "markdown",
   "metadata": {},
   "source": [
    "### Vamos trabalhar por partes e no fim construir o modelo completo.\n",
    "\n",
    "Inicialmente queremos que no método construtor tenha:\n",
    "\n",
    "1 - Os modelos com os parâmetros que o GridSeach vai usar.\n",
    "\n",
    "2 - A métrica de perfomance a ser avaliada\n",
    "\n",
    "3 - A Quantidade de Folds para a Validaçao cruzada.\n",
    "\n",
    "Além disso, colocaremos uma variável para salvar os melhor grid de cada estimador"
   ]
  },
  {
   "cell_type": "code",
   "execution_count": 58,
   "metadata": {},
   "outputs": [],
   "source": [
    "class gridSearchAll():\n",
    "    \n",
    "    def __init__(self, modelos, metrica, folds):\n",
    "        self.grid_models = modelos\n",
    "        self.grid.metrica = metrica\n",
    "        self.num_folds = folds\n",
    "        self.best_grids = []"
   ]
  },
  {
   "cell_type": "markdown",
   "metadata": {},
   "source": [
    "Assim ao construir criar um objeto da classe, definiremos os modelos que queremos avaliar, já com os parâmetros, métrica de perfomance, agora adicionaremos o método já criado no exemplo, que serve para adicionar outros estimadores para serem avaliados."
   ]
  },
  {
   "cell_type": "code",
   "execution_count": 59,
   "metadata": {},
   "outputs": [],
   "source": [
    "class gridSearchAll():\n",
    "    \n",
    "    def __init__(self, modelos, metrica, folds):\n",
    "        \n",
    "        self.grid_models = modelos\n",
    "        self.grid.metrica = metrica\n",
    "        self.num_folds = folds\n",
    "        self.best_grids = []\n",
    "    \n",
    "    def insert_model(self, estimator_base, param_grid):\n",
    "        \n",
    "        self.grid_models.append([estimator_base, param_grid])\n"
   ]
  },
  {
   "cell_type": "markdown",
   "metadata": {},
   "source": [
    "### Próximo passo é adicionar um método que vai fitar todos os modelos adicionados no objeto através o GridSeach e adicionar o Grid treinado no lista \"best_grids\""
   ]
  },
  {
   "cell_type": "code",
   "execution_count": 60,
   "metadata": {},
   "outputs": [],
   "source": [
    "class gridSearchAll():\n",
    "    \n",
    "    def __init__(self, modelos, metrica, folds):\n",
    "        \n",
    "        self.grid_models = modelos\n",
    "        self.grid.metrica = metrica\n",
    "        self.num_folds = folds\n",
    "        self.best_grids = []\n",
    "    \n",
    "    def insert_model(self, estimator_base, param_grid):\n",
    "        \n",
    "        self.grid_models.append([estimator_base, param_grid])\n",
    "    \n",
    "    def fit_all(X,y):\n",
    "        for est in self.grid_models:\n",
    "            grid = GridSearchCV(estimator = self.est[0], \n",
    "                    param_grid = self.est[1], \n",
    "                    scoring = metrica, \n",
    "                    cv = folds)\n",
    "            grid.fit(X,y)\n",
    "            self.best_grids.append(grid)"
   ]
  },
  {
   "cell_type": "markdown",
   "metadata": {},
   "source": [
    "### Por fim, colocaremos o método que nos mostra o melhor de todos os modelos"
   ]
  },
  {
   "cell_type": "code",
   "execution_count": 61,
   "metadata": {},
   "outputs": [],
   "source": [
    "class gridSearchAll():\n",
    "    \n",
    "    def __init__(self, modelos, metrica, folds):\n",
    "        \n",
    "        self.grid_models = modelos\n",
    "        self.grid_metrica = metrica\n",
    "        self.num_folds = folds\n",
    "        self.best_grids = []\n",
    "    \n",
    "    def insert_model(self, estimator_base, param_grid):\n",
    "        \n",
    "        self.grid_models.append([estimator_base, param_grid])\n",
    "    \n",
    "    def fit_all(self, X, y):\n",
    "        for est in self.grid_models:\n",
    "            grid = GridSearchCV(estimator = est[0], \n",
    "                    param_grid = est[1], \n",
    "                    scoring = self.grid_metrica, \n",
    "                    cv = self.num_folds, n_jobs =-1)\n",
    "            grid.fit(X,y)\n",
    "            self.best_grids.append(grid)\n",
    "    \n",
    "    def best_all_grid_models(self):\n",
    "        \n",
    "        melhor_score = self.best_grids[0].best_score_\n",
    "        melhor_grid = self.best_grids[0]\n",
    "        for n in list(range(1,len(self.best_grids))):\n",
    "            if self.best_grids[n].best_score_ > melhor_score:\n",
    "                melhor_score = self.best_grids[n].best_score_\n",
    "                melhor_grid = self.best_grids[n]\n",
    "            else:\n",
    "                continue\n",
    "        return melhor_grid"
   ]
  },
  {
   "cell_type": "markdown",
   "metadata": {},
   "source": [
    "### Terminamos então nossa classe, vamos então para o último exercício, onde aplicaremos os mesmos modelos do exercício 1 no nosso Dataset, porém usando a classe gridSeachAll."
   ]
  },
  {
   "cell_type": "markdown",
   "metadata": {},
   "source": [
    "__Exercício 3:__ Usando a classe criada, analise novamente os modelos criados no exercício 1."
   ]
  },
  {
   "cell_type": "markdown",
   "metadata": {},
   "source": [
    "Separando os modelos e parâmetros:"
   ]
  },
  {
   "cell_type": "code",
   "execution_count": 62,
   "metadata": {},
   "outputs": [],
   "source": [
    "RF = RandomForestRegressor() \n",
    "KNN = KNeighborsRegressor() \n",
    "GB = GradientBoostingRegressor()\n",
    "\n",
    "params_RF = {'n_estimators':[10,50,100,500,1000], 'max_depth':[2,5,10]}\n",
    "params_KNN = {'n_neighbors': [2,10,20,50]}\n",
    "params_GB = {'n_estimators': [10,100,200,1000], 'max_depth': [3,5,7,10]}\n",
    "\n",
    "Modelo_RF = [RF, params_RF]\n",
    "Modelo_KNN = [KNN, params_KNN]\n",
    "Modelo_GB = [GB, params_GB]\n",
    "\n",
    "Modelos = [Modelo_RF, Modelo_KNN, Modelo_GB]"
   ]
  },
  {
   "cell_type": "markdown",
   "metadata": {},
   "source": [
    "Criando o objeto da classe:"
   ]
  },
  {
   "cell_type": "code",
   "execution_count": 63,
   "metadata": {},
   "outputs": [],
   "source": [
    "gridall = gridSearchAll(Modelos, 'r2', 5)"
   ]
  },
  {
   "cell_type": "code",
   "execution_count": null,
   "metadata": {},
   "outputs": [],
   "source": [
    "t0 = time.time()\n",
    "\n",
    "# fitando com todos os modelos\n",
    "\n",
    "gridall.fit_all(Xtreino, ytreino)\n",
    "\n",
    "t1 = time.time()\n",
    "\n",
    "print('Tempo de execução: ', (t1-t0)/60, 'minutos.')"
   ]
  },
  {
   "cell_type": "markdown",
   "metadata": {},
   "source": [
    "### Conseguimos então retornar os melhores modelos de cada grid"
   ]
  },
  {
   "cell_type": "code",
   "execution_count": null,
   "metadata": {},
   "outputs": [],
   "source": [
    "gridall.best_grids"
   ]
  },
  {
   "cell_type": "code",
   "execution_count": null,
   "metadata": {},
   "outputs": [],
   "source": [
    "gridall.best_grids[0].best_params_"
   ]
  },
  {
   "cell_type": "code",
   "execution_count": null,
   "metadata": {},
   "outputs": [],
   "source": [
    "gridall.best_grids[0].best_score_"
   ]
  },
  {
   "cell_type": "code",
   "execution_count": null,
   "metadata": {},
   "outputs": [],
   "source": [
    "gridall.best_grids[1].best_params_"
   ]
  },
  {
   "cell_type": "code",
   "execution_count": null,
   "metadata": {},
   "outputs": [],
   "source": [
    "gridall.best_grids[1].best_score_"
   ]
  },
  {
   "cell_type": "code",
   "execution_count": null,
   "metadata": {},
   "outputs": [],
   "source": [
    "gridall.best_grids[2].best_params_"
   ]
  },
  {
   "cell_type": "code",
   "execution_count": null,
   "metadata": {},
   "outputs": [],
   "source": [
    "gridall.best_grids[2].best_score_"
   ]
  },
  {
   "cell_type": "markdown",
   "metadata": {},
   "source": [
    "### Temos os mesmos parâmetros que tinhamos obtido fazendo separadamente cada.\n",
    "\n",
    "Poderiamos também saber o melhor dos modelos sem precisar comparar um por um, apenas usando o método best_all_grid_models.\n"
   ]
  },
  {
   "cell_type": "code",
   "execution_count": null,
   "metadata": {},
   "outputs": [],
   "source": [
    "Melhor_modelo = gridall.best_all_grid_models()"
   ]
  },
  {
   "cell_type": "code",
   "execution_count": null,
   "metadata": {},
   "outputs": [],
   "source": [
    "Melhor_modelo"
   ]
  },
  {
   "cell_type": "code",
   "execution_count": null,
   "metadata": {},
   "outputs": [],
   "source": [
    "Melhor_modelo.best_score_"
   ]
  },
  {
   "cell_type": "markdown",
   "metadata": {},
   "source": [
    "# Finalizamos aqui o notebook e o exercício do módulo."
   ]
  }
 ],
 "metadata": {
  "kernelspec": {
   "display_name": "Python 3",
   "language": "python",
   "name": "python3"
  },
  "language_info": {
   "codemirror_mode": {
    "name": "ipython",
    "version": 3
   },
   "file_extension": ".py",
   "mimetype": "text/x-python",
   "name": "python",
   "nbconvert_exporter": "python",
   "pygments_lexer": "ipython3",
   "version": "3.8.8"
  },
  "varInspector": {
   "cols": {
    "lenName": 16,
    "lenType": 16,
    "lenVar": 40
   },
   "kernels_config": {
    "python": {
     "delete_cmd_postfix": "",
     "delete_cmd_prefix": "del ",
     "library": "var_list.py",
     "varRefreshCmd": "print(var_dic_list())"
    },
    "r": {
     "delete_cmd_postfix": ") ",
     "delete_cmd_prefix": "rm(",
     "library": "var_list.r",
     "varRefreshCmd": "cat(var_dic_list()) "
    }
   },
   "types_to_exclude": [
    "module",
    "function",
    "builtin_function_or_method",
    "instance",
    "_Feature"
   ],
   "window_display": false
  }
 },
 "nbformat": 4,
 "nbformat_minor": 2
}
